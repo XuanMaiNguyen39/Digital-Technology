{
 "cells": [
  {
   "cell_type": "markdown",
   "metadata": {},
   "source": [
    "## Animated Bubble Chart\n",
    "\n",
    "* Animated Bubble Chart using Python, Matplotlib, and Image Magick. Matplotlib is used to produce several images, Image Magick to concatenate them as a gif."
   ]
  },
  {
   "cell_type": "markdown",
   "metadata": {},
   "source": [
    "## 📍 Dataset"
   ]
  },
  {
   "cell_type": "markdown",
   "metadata": {},
   "source": [
    "This example is based on the famous `gapminder` dataset. It provides the average life expectancy, gdp per capita and population size for more than 100 countries. It is available online [here](https://www.gapminder.org/data/) or [github repo](https://raw.githubusercontent.com/nnthanh101/Machine-Learning/main/analytics/data/gapminderData.csv)"
   ]
  },
  {
   "cell_type": "markdown",
   "metadata": {},
   "source": [
    "> Let's load it in python and have a look to the 3 first rows."
   ]
  },
  {
   "cell_type": "code",
   "execution_count": 9,
   "metadata": {},
   "outputs": [
    {
     "data": {
      "text/html": [
       "<div>\n",
       "<style scoped>\n",
       "    .dataframe tbody tr th:only-of-type {\n",
       "        vertical-align: middle;\n",
       "    }\n",
       "\n",
       "    .dataframe tbody tr th {\n",
       "        vertical-align: top;\n",
       "    }\n",
       "\n",
       "    .dataframe thead th {\n",
       "        text-align: right;\n",
       "    }\n",
       "</style>\n",
       "<table border=\"1\" class=\"dataframe\">\n",
       "  <thead>\n",
       "    <tr style=\"text-align: right;\">\n",
       "      <th></th>\n",
       "      <th>country</th>\n",
       "      <th>year</th>\n",
       "      <th>pop</th>\n",
       "      <th>continent</th>\n",
       "      <th>lifeExp</th>\n",
       "      <th>gdpPercap</th>\n",
       "    </tr>\n",
       "  </thead>\n",
       "  <tbody>\n",
       "    <tr>\n",
       "      <th>0</th>\n",
       "      <td>Afghanistan</td>\n",
       "      <td>1952</td>\n",
       "      <td>8425333.0</td>\n",
       "      <td>Asia</td>\n",
       "      <td>28.801</td>\n",
       "      <td>779.445314</td>\n",
       "    </tr>\n",
       "    <tr>\n",
       "      <th>1</th>\n",
       "      <td>Afghanistan</td>\n",
       "      <td>1957</td>\n",
       "      <td>9240934.0</td>\n",
       "      <td>Asia</td>\n",
       "      <td>30.332</td>\n",
       "      <td>820.853030</td>\n",
       "    </tr>\n",
       "    <tr>\n",
       "      <th>2</th>\n",
       "      <td>Afghanistan</td>\n",
       "      <td>1962</td>\n",
       "      <td>10267083.0</td>\n",
       "      <td>Asia</td>\n",
       "      <td>31.997</td>\n",
       "      <td>853.100710</td>\n",
       "    </tr>\n",
       "  </tbody>\n",
       "</table>\n",
       "</div>"
      ],
      "text/plain": [
       "       country  year         pop continent  lifeExp   gdpPercap\n",
       "0  Afghanistan  1952   8425333.0      Asia   28.801  779.445314\n",
       "1  Afghanistan  1957   9240934.0      Asia   30.332  820.853030\n",
       "2  Afghanistan  1962  10267083.0      Asia   31.997  853.100710"
      ]
     },
     "execution_count": 9,
     "metadata": {},
     "output_type": "execute_result"
    }
   ],
   "source": [
    "## Libraries\n",
    "import pandas as pd\n",
    "\n",
    "## read the data (on the web)\n",
    "data = pd.read_csv('https://raw.githubusercontent.com/nnthanh101/Machine-Learning/main/analytics/data/gapminderData.csv')\n",
    "\n",
    "## Check the first 3 rows\n",
    "data.head(3)"
   ]
  },
  {
   "cell_type": "markdown",
   "metadata": {},
   "source": [
    "## 💭 Bubble chart"
   ]
  },
  {
   "cell_type": "markdown",
   "metadata": {},
   "source": [
    "Let's build a bubble chart for the first year of the dataset (1952). Let's build one using the `scatter()` function of `matplotlib`:"
   ]
  },
  {
   "cell_type": "code",
   "execution_count": 10,
   "metadata": {},
   "outputs": [],
   "source": [
    "# import matplotlib\n",
    "import matplotlib.pyplot as plt\n",
    "\n",
    "# And I need to transform my categorical column (continent) in a numerical value group1->1, group2->2...\n",
    "data['continent']=pd.Categorical(data['continent'])\n",
    "\n",
    "# Set the figure size\n",
    "plt.figure(figsize=(10, 10))\n",
    "\n",
    "# Subset of the data for year 1952\n",
    "data1952 = data[ data.year == 1952 ]\n",
    "\n",
    "# Scatterplot\n",
    "plt.scatter(\n",
    "    x = data1952['lifeExp'], \n",
    "    y = data1952['gdpPercap'], \n",
    "    s=data1952['pop']/50000, \n",
    "    c=data1952['continent'].cat.codes, \n",
    "    cmap=\"Accent\", \n",
    "    alpha=0.6, \n",
    "    edgecolors=\"white\", \n",
    "    linewidth=2);\n",
    " \n",
    "# Add titles (main and on axis)\n",
    "plt.yscale('log')\n",
    "plt.xlabel(\"Life Expectancy\")\n",
    "plt.ylabel(\"GDP per Capita\")\n",
    "plt.title(\"Year 1952\")\n",
    "plt.ylim(1,50000)\n",
    "plt.xlim(30, 75);\n"
   ]
  },
  {
   "cell_type": "markdown",
   "metadata": {},
   "source": [
    "## 🎥 Animation"
   ]
  },
  {
   "cell_type": "markdown",
   "metadata": {},
   "source": [
    "An animation is basically a set of static images visualized one after the other. The strategy here is to build on `png` file for each year of the dataset, and then concatenated them as a `gif`."
   ]
  },
  {
   "cell_type": "markdown",
   "metadata": {},
   "source": [
    "Let's build a loop that will output one `png` file per year of the dataset:"
   ]
  },
  {
   "cell_type": "code",
   "execution_count": 11,
   "metadata": {},
   "outputs": [],
   "source": [
    "# image resolution\n",
    "dpi=96\n",
    "\n",
    "# For each year:\n",
    "for i in data.year.unique():\n",
    " \n",
    "    # Turn interactive plotting off\n",
    "    plt.ioff()\n",
    "\n",
    "    # initialize a figure\n",
    "    fig = plt.figure(figsize=(680/dpi, 480/dpi), dpi=dpi)\n",
    "    \n",
    "    # Find the subset of the dataset for the current year\n",
    "    subsetData = data[ data.year == i ]\n",
    "\n",
    "    # Build the scatterplot\n",
    "    plt.scatter(\n",
    "        x=subsetData['lifeExp'], \n",
    "        y=subsetData['gdpPercap'], \n",
    "        s=subsetData['pop']/200000 , \n",
    "        c=subsetData['continent'].cat.codes, \n",
    "        cmap=\"Accent\", alpha=0.6, edgecolors=\"white\", linewidth=2)\n",
    "    \n",
    "    # Add titles (main and on axis)\n",
    "    plt.yscale('log')\n",
    "    plt.xlabel(\"Life Expectancy\")\n",
    "    plt.ylabel(\"GDP per Capita\")\n",
    "    plt.title(\"Year: \"+str(i) )\n",
    "    plt.ylim(1, 100000)\n",
    "    plt.xlim(30, 90)\n",
    "    \n",
    "    # Save it & close the figure\n",
    "    filename='animated-bubble-chart/Gapminder_step'+str(i)+'.png'\n",
    "    plt.savefig(fname=filename, dpi=96)\n",
    "    plt.gca()\n",
    "    plt.close(fig)\n"
   ]
  },
  {
   "cell_type": "markdown",
   "metadata": {},
   "source": [
    "> Now, you should have a set of 12 images in the `animated-bubble-chart` folder. Image magick is a command line tool that allows to concatenate those images in a `gif` file.\n",
    "\n",
    "* Install [ImageMagick](https://imagemagick.org/index.php) with this line of bash:\n",
    "`brew install imagemagick`"
   ]
  },
  {
   "cell_type": "markdown",
   "metadata": {},
   "source": [
    "Once the tool is installed, you can concatenate the 12 images using the following command: "
   ]
  },
  {
   "cell_type": "code",
   "execution_count": 12,
   "metadata": {},
   "outputs": [],
   "source": [
    "## Invoke imagemagick to terminal (Bash)\n",
    "# convert -delay 80 Gapminder*.png animated_gapminder.gif"
   ]
  },
  {
   "cell_type": "markdown",
   "metadata": {},
   "source": [
    ">Note: the above line of code is written in `bash`, not in `python`. You have to execute it in a terminal, not in your python environment."
   ]
  },
  {
   "cell_type": "markdown",
   "metadata": {},
   "source": [
    "And here is the final result \n",
    "\n",
    "![Animated Bubble Chart](animated-bubble-chart/animated_gapminder.gif)"
   ]
  },
  {
   "cell_type": "code",
   "execution_count": null,
   "metadata": {},
   "outputs": [],
   "source": []
  }
 ],
 "metadata": {
  "chartType": "animation",
  "description": "This blogpost explains how to build an animated bubble chart using <code>Python</code> and <code>Image Magick</code>. <code>Matplotlib</code> is used to produce several images, <code>Image Magick</code> to concatenate them as a <code>gif</code>.",
  "family": "general",
  "kernelspec": {
   "display_name": "Python 3 (ipykernel)",
   "language": "python",
   "name": "python3"
  },
  "keywords": "python, chart, plot, seaborn, matplotlib, gapminder, animation, bubble",
  "language_info": {
   "codemirror_mode": {
    "name": "ipython",
    "version": 3
   },
   "file_extension": ".py",
   "mimetype": "text/x-python",
   "name": "python",
   "nbconvert_exporter": "python",
   "pygments_lexer": "ipython3",
   "version": "3.12.1"
  },
  "seoDescription": "How to make an animated bubble chart with Python and Image Magick",
  "slug": "341-python-gapminder-animation",
  "title": "Animated bubble chart"
 },
 "nbformat": 4,
 "nbformat_minor": 4
}
