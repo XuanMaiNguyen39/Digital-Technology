{
 "cells": [
  {
   "cell_type": "code",
   "execution_count": 41,
   "id": "a17ba9d7-2437-468f-994f-656d62f43f83",
   "metadata": {},
   "outputs": [],
   "source": [
    "# !pip install dash dash-bootstrap-components numpy"
   ]
  },
  {
   "cell_type": "code",
   "execution_count": 45,
   "id": "a9d278a6-cb73-4037-b109-ac90992137be",
   "metadata": {},
   "outputs": [],
   "source": [
    "from dash import Dash, html\n",
    "import dash_bootstrap_components as dbc"
   ]
  },
  {
   "cell_type": "code",
   "execution_count": 86,
   "id": "6ab7a409-cebd-464d-91fa-d13ccdecc5de",
   "metadata": {},
   "outputs": [
    {
     "ename": "SyntaxError",
     "evalue": "invalid syntax. Maybe you meant '==' or ':=' instead of '='? (523951739.py, line 36)",
     "output_type": "error",
     "traceback": [
      "\u001b[0;36m  Cell \u001b[0;32mIn[86], line 36\u001b[0;36m\u001b[0m\n\u001b[0;31m    fluid=True,\u001b[0m\n\u001b[0m    ^\u001b[0m\n\u001b[0;31mSyntaxError\u001b[0m\u001b[0;31m:\u001b[0m invalid syntax. Maybe you meant '==' or ':=' instead of '='?\n"
     ]
    }
   ],
   "source": [
    "app = Dash(__name__)\n",
    "# app.layout = dbc.Container(html.P(\"My awesome dashboard will be here.\"),\n",
    "                           # fluid=True,\n",
    "                           # className='dashboard-container')\n",
    "# app.layout = dbc.Container([html.Div(), html.Div()],\n",
    "                           # fluid=True,\n",
    "                           # className='dashboard-container')\n",
    "app.layout = dbc.Container([\n",
    "    html.Div(style={\n",
    "        'width': 340,\n",
    "        'margin-left': 35,\n",
    "        'margin-top': 35,\n",
    "        'margin-bottom': 35\n",
    "    }),\n",
    "    html.Div(\n",
    "        style={\n",
    "            'width': 990,\n",
    "            'margin-top': 35,\n",
    "            'margin-right': 35,\n",
    "            'margin-bottom': 35\n",
    "        }),\n",
    "    html.Div([\n",
    "        html.H1([\n",
    "            html.Span(\"Welcome\"),\n",
    "            html.Br(),\n",
    "            html.Span(\"to my beautiful dashboard!\")\n",
    "        ]),\n",
    "        html.P(\"This dashboard prototype shows how to create an effective layout.\")\n",
    "    ],\n",
    "        style={\n",
    "            \"vertical-alignment\": \"top\",\n",
    "            # \"horizontal-alignment\": \"left\",\n",
    "            \"height\": 260,\n",
    "        }),\n",
    "                    \n",
    "    fluid=True,\n",
    "    style={'display': 'flex'},\n",
    "    className='dashboard-container']),\n",
    "    \n",
    "\n",
    "if __name__ == \"__main__\":\n",
    "    app.run_server(debug=True, port=8055)"
   ]
  },
  {
   "cell_type": "code",
   "execution_count": 77,
   "id": "c77143af-5d57-4b46-9fd4-56e41d91269c",
   "metadata": {},
   "outputs": [
    {
     "data": {
      "text/html": [
       "\n",
       "        <iframe\n",
       "            width=\"100%\"\n",
       "            height=\"650\"\n",
       "            src=\"http://127.0.0.1:8055/\"\n",
       "            frameborder=\"0\"\n",
       "            allowfullscreen\n",
       "            \n",
       "        ></iframe>\n",
       "        "
      ],
      "text/plain": [
       "<IPython.lib.display.IFrame at 0x10d540dd0>"
      ]
     },
     "metadata": {},
     "output_type": "display_data"
    }
   ],
   "source": [
    "# app = Dash(__name__)\n",
    "app = Dash(__name__, external_stylesheets=[dbc.themes.FLATLY])\n",
    "\n",
    "## Now you can use html module to create a div container\n",
    "# app.layout = html.Div()\n",
    "## Now you can use dbc.Container to create a div container\n",
    "# app.layout = dbc.Container(fluid=True)\n",
    "\n",
    "app.layout = dbc.Container(html.P(\"My awesome dashboard will be here.\",\n",
    "                                  style={'color': 'green'}),\n",
    "                           fluid=True,\n",
    "                           className='dashboard-container',\n",
    "                           style={\n",
    "                               'background-color': '#ffffff',\n",
    "                               'border-color': '#010103'\n",
    "                           })\n",
    "\n",
    "if __name__ == \"__main__\":\n",
    "    app.run_server(debug=True, port=8055)"
   ]
  },
  {
   "cell_type": "code",
   "execution_count": null,
   "id": "dde7b070-a842-4966-954e-3b792145c667",
   "metadata": {},
   "outputs": [],
   "source": []
  }
 ],
 "metadata": {
  "kernelspec": {
   "display_name": "Python 3 (ipykernel)",
   "language": "python",
   "name": "python3"
  },
  "language_info": {
   "codemirror_mode": {
    "name": "ipython",
    "version": 3
   },
   "file_extension": ".py",
   "mimetype": "text/x-python",
   "name": "python",
   "nbconvert_exporter": "python",
   "pygments_lexer": "ipython3",
   "version": "3.11.8"
  }
 },
 "nbformat": 4,
 "nbformat_minor": 5
}
