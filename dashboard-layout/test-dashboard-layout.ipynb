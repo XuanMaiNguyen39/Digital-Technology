{
 "cells": [
  {
   "cell_type": "code",
   "execution_count": 3,
   "id": "9ac1350b-4186-4545-bc5d-d6fb1f819aa3",
   "metadata": {},
   "outputs": [
    {
     "data": {
      "text/html": [
       "\n",
       "        <iframe\n",
       "            width=\"100%\"\n",
       "            height=\"650\"\n",
       "            src=\"http://127.0.0.1:8058/\"\n",
       "            frameborder=\"0\"\n",
       "            allowfullscreen\n",
       "            \n",
       "        ></iframe>\n",
       "        "
      ],
      "text/plain": [
       "<IPython.lib.display.IFrame at 0x106b95290>"
      ]
     },
     "metadata": {},
     "output_type": "display_data"
    }
   ],
   "source": [
    "import dash\n",
    "import dash_bootstrap_components as dbc\n",
    "from dash import html, dcc\n",
    "\n",
    "app = dash.Dash(__name__, external_stylesheets=[dbc.themes.FLATLY])\n",
    "\n",
    "app.layout = dbc.Container([\n",
    "    html.Div([\n",
    "        html.H1([\"Welcome\", html.Br(), \"to my beautiful dashboard!\"]),\n",
    "        html.P(\"This dashboard prototype shows how to create an effective layout.\"),\n",
    "    ], style={'color': 'white', 'margin': '20px'}),\n",
    "\n",
    "    dbc.Row([\n",
    "        dbc.Col(dbc.RadioItems(\n",
    "            options=[{\"label\": \"Graph\", \"value\": 1}, {\"label\": \"Table\", \"value\": 2}],\n",
    "            value=1, inline=True,\n",
    "            className=\"btn-group\",\n",
    "            inputClassName='btn-check',\n",
    "            labelClassName=\"btn btn-outline-light\",\n",
    "            labelCheckedClassName=\"btn btn-light\",\n",
    "        ), width=3),\n",
    "        dbc.Col(dbc.Button(\"About\", color=\"info\", n_clicks=0), width=2)\n",
    "    ], justify='start'),  # Removed 'no_gutters' and adjust 'justify'\n",
    "\n",
    "    dbc.Row([\n",
    "        dbc.Col([\n",
    "            html.H2('Unclearable Dropdown:'),\n",
    "            dcc.Dropdown(\n",
    "                options=[\n",
    "                    {'label': 'Option A', 'value': 1},\n",
    "                    {'label': 'Option B', 'value': 2},\n",
    "                    {'label': 'Option C', 'value': 3}\n",
    "                ],\n",
    "                value=1,\n",
    "                clearable=False,\n",
    "                style={'color': '#FFF'}\n",
    "            )\n",
    "        ], width=4),\n",
    "        dbc.Col([\n",
    "            html.H2('Clearable Dropdown:'),\n",
    "            dcc.Dropdown(\n",
    "                options=[\n",
    "                    {'label': 'Option A', 'value': 1},\n",
    "                    {'label': 'Option B', 'value': 2},\n",
    "                    {'label': 'Option C', 'value': 3}\n",
    "                ],\n",
    "                clearable=True,\n",
    "                style={'color': '#FFF'}\n",
    "            )\n",
    "        ], width=4)\n",
    "    ]),\n",
    "\n",
    "    html.Div(dcc.Graph(\n",
    "        id='example-graph',\n",
    "        figure={\n",
    "            'data': [\n",
    "                {'x': [1, 2, 3], 'y': [4, 1, 2], 'type': 'scatter', 'name': 'SF'},\n",
    "                {'x': [1, 2, 3], 'y': [2, 4, 5], 'type': 'scatter', 'name': 'Montreal'},\n",
    "            ],\n",
    "            'layout': {\n",
    "                'title': 'Dash Data Visualization',\n",
    "                'plot_bgcolor': '#010103',\n",
    "                'paper_bgcolor': '#010103',\n",
    "                'font': {\n",
    "                    'color': '#7FDBFF'\n",
    "                }\n",
    "            }\n",
    "        }\n",
    "    ), style={'width': '100%', 'display': 'inline-block'}),\n",
    "\n",
    "    html.Div([\n",
    "        html.H2('Output 1:'),\n",
    "        html.Div(className='Output'),\n",
    "        html.H2('Output 2:'),\n",
    "        html.Div(html.H3(\"Selected Value\"), className='Output')\n",
    "    ], style={'width': '100%'}),\n",
    "], fluid=True, style={'width': '1400px', 'height': '800px', 'margin': '50px auto', 'color': '#FFFFFF', 'backgroundColor': '#010103'})\n",
    "\n",
    "if __name__ == \"__main__\":\n",
    "    app.run_server(debug=True, port=8058)"
   ]
  },
  {
   "cell_type": "code",
   "execution_count": null,
   "id": "94291595-1ab7-4bec-af46-4593737b709e",
   "metadata": {},
   "outputs": [],
   "source": []
  }
 ],
 "metadata": {
  "kernelspec": {
   "display_name": "Python 3 (ipykernel)",
   "language": "python",
   "name": "python3"
  },
  "language_info": {
   "codemirror_mode": {
    "name": "ipython",
    "version": 3
   },
   "file_extension": ".py",
   "mimetype": "text/x-python",
   "name": "python",
   "nbconvert_exporter": "python",
   "pygments_lexer": "ipython3",
   "version": "3.11.8"
  }
 },
 "nbformat": 4,
 "nbformat_minor": 5
}
