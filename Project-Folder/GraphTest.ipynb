{
 "cells": [
  {
   "cell_type": "markdown",
   "id": "670d4ca9-7523-464f-8c41-63098ad138ce",
   "metadata": {},
   "source": [
    "# RANDOM THINGS"
   ]
  },
  {
   "cell_type": "code",
   "execution_count": null,
   "id": "2b14f110-58fb-4fe2-9e35-26c52b7a4d42",
   "metadata": {},
   "outputs": [],
   "source": [
    "import pandas as pd\n",
    "\n",
    "# Sample CSV loading\n",
    "data = {\n",
    "    '2018': [82, 151, 316, 219, 292, 214, 319, 445.5],\n",
    "    '2019': [85, 175, 332, 221, 274, 231, 317, 464],\n",
    "    '2020': [83, 176, 287, 215, 266, 227, 356, 442],\n",
    "    '2021': [81, 184, 272, 223, 375, 270, 387, 437],\n",
    "    '2022': [85, 194, 284, 236, 373, 258, 372, 451],\n",
    "    '2023': [87, 217, 292, 275, 331, 284, 368, 486],\n",
    "    '2024': [68, 206, 239, 241, 250, 256, 362, 407],\n",
    "    '2025': [65, 214, 239, 244, 235, 261, 371, 412]\n",
    "}\n",
    "\n",
    "df = pd.DataFrame(data)\n",
    "# Function to convert international to national rankings\n",
    "def international_to_national_rankings(df):\n",
    "    # Use argsort twice to get rankings: once for sorting order, second to get ranks\n",
    "    ranked_df = df.apply(lambda x: x.argsort().argsort() + 1)\n",
    "    return ranked_df\n",
    "\n",
    "# Apply the function\n",
    "national_ranks = international_to_national_rankings(df)\n",
    "\n",
    "# Print or return the transformed DataFrame\n",
    "print(national_ranks)\n",
    "# Display the results\n",
    "print(\"National Rankings by Year:\")\n",
    "print(national_ranks)\n"
   ]
  },
  {
   "cell_type": "markdown",
   "id": "bab63b08-6ce1-45b9-9e3f-57f87e6ab0aa",
   "metadata": {},
   "source": [
    "# Bar chart for rankings"
   ]
  },
  {
   "cell_type": "code",
   "execution_count": 2,
   "id": "df53e921-063a-4d26-b018-6011beb2a9e0",
   "metadata": {},
   "outputs": [
    {
     "data": {
      "application/vnd.plotly.v1+json": {
       "config": {
        "plotlyServerURL": "https://plot.ly"
       },
       "data": [
        {
         "hovertext": [
          "1st place nationally, Ranked 113 in the world by THE 2024",
          "=3rd place nationally, Ranked 350.5 in the world by THE 2024",
          "4th place nationally, Ranked 450.5 in the world by THE 2024",
          "2nd place nationally, Ranked 188 in the world by THE 2024",
          "=3rd place nationally, Ranked 350.5 in the world by THE 2024",
          "=3rd place nationally, Ranked 350.5 in the world by THE 2024",
          "5th place nationally, Ranked 550.5 in the world by THE 2024",
          "=3rd place nationally, Ranked 350.5 in the world by THE 2024"
         ],
         "marker": {
          "color": "rgb(1,33,105)",
          "line": {
           "color": "rgb(1,33,105)",
           "width": 1.5
          }
         },
         "opacity": 0.6,
         "text": [
          "1",
          "3",
          "7",
          "2",
          "3",
          "3",
          "8",
          "3"
         ],
         "textposition": "auto",
         "type": "bar",
         "x": [
          "University of Auckland",
          "University of Otago",
          "Massey University",
          "Victoria University of Wellington",
          "University of Waikato",
          "University of Canterbury",
          "Lincoln University",
          "AUT"
         ],
         "y": [
          113,
          350.5,
          450.5,
          188,
          350.5,
          350.5,
          550.5,
          350.5
         ]
        }
       ],
       "layout": {
        "autosize": true,
        "barmode": "group",
        "template": {
         "data": {
          "bar": [
           {
            "error_x": {
             "color": "#2a3f5f"
            },
            "error_y": {
             "color": "#2a3f5f"
            },
            "marker": {
             "line": {
              "color": "#E5ECF6",
              "width": 0.5
             },
             "pattern": {
              "fillmode": "overlay",
              "size": 10,
              "solidity": 0.2
             }
            },
            "type": "bar"
           }
          ],
          "barpolar": [
           {
            "marker": {
             "line": {
              "color": "#E5ECF6",
              "width": 0.5
             },
             "pattern": {
              "fillmode": "overlay",
              "size": 10,
              "solidity": 0.2
             }
            },
            "type": "barpolar"
           }
          ],
          "carpet": [
           {
            "aaxis": {
             "endlinecolor": "#2a3f5f",
             "gridcolor": "white",
             "linecolor": "white",
             "minorgridcolor": "white",
             "startlinecolor": "#2a3f5f"
            },
            "baxis": {
             "endlinecolor": "#2a3f5f",
             "gridcolor": "white",
             "linecolor": "white",
             "minorgridcolor": "white",
             "startlinecolor": "#2a3f5f"
            },
            "type": "carpet"
           }
          ],
          "choropleth": [
           {
            "colorbar": {
             "outlinewidth": 0,
             "ticks": ""
            },
            "type": "choropleth"
           }
          ],
          "contour": [
           {
            "colorbar": {
             "outlinewidth": 0,
             "ticks": ""
            },
            "colorscale": [
             [
              0,
              "#0d0887"
             ],
             [
              0.1111111111111111,
              "#46039f"
             ],
             [
              0.2222222222222222,
              "#7201a8"
             ],
             [
              0.3333333333333333,
              "#9c179e"
             ],
             [
              0.4444444444444444,
              "#bd3786"
             ],
             [
              0.5555555555555556,
              "#d8576b"
             ],
             [
              0.6666666666666666,
              "#ed7953"
             ],
             [
              0.7777777777777778,
              "#fb9f3a"
             ],
             [
              0.8888888888888888,
              "#fdca26"
             ],
             [
              1,
              "#f0f921"
             ]
            ],
            "type": "contour"
           }
          ],
          "contourcarpet": [
           {
            "colorbar": {
             "outlinewidth": 0,
             "ticks": ""
            },
            "type": "contourcarpet"
           }
          ],
          "heatmap": [
           {
            "colorbar": {
             "outlinewidth": 0,
             "ticks": ""
            },
            "colorscale": [
             [
              0,
              "#0d0887"
             ],
             [
              0.1111111111111111,
              "#46039f"
             ],
             [
              0.2222222222222222,
              "#7201a8"
             ],
             [
              0.3333333333333333,
              "#9c179e"
             ],
             [
              0.4444444444444444,
              "#bd3786"
             ],
             [
              0.5555555555555556,
              "#d8576b"
             ],
             [
              0.6666666666666666,
              "#ed7953"
             ],
             [
              0.7777777777777778,
              "#fb9f3a"
             ],
             [
              0.8888888888888888,
              "#fdca26"
             ],
             [
              1,
              "#f0f921"
             ]
            ],
            "type": "heatmap"
           }
          ],
          "heatmapgl": [
           {
            "colorbar": {
             "outlinewidth": 0,
             "ticks": ""
            },
            "colorscale": [
             [
              0,
              "#0d0887"
             ],
             [
              0.1111111111111111,
              "#46039f"
             ],
             [
              0.2222222222222222,
              "#7201a8"
             ],
             [
              0.3333333333333333,
              "#9c179e"
             ],
             [
              0.4444444444444444,
              "#bd3786"
             ],
             [
              0.5555555555555556,
              "#d8576b"
             ],
             [
              0.6666666666666666,
              "#ed7953"
             ],
             [
              0.7777777777777778,
              "#fb9f3a"
             ],
             [
              0.8888888888888888,
              "#fdca26"
             ],
             [
              1,
              "#f0f921"
             ]
            ],
            "type": "heatmapgl"
           }
          ],
          "histogram": [
           {
            "marker": {
             "pattern": {
              "fillmode": "overlay",
              "size": 10,
              "solidity": 0.2
             }
            },
            "type": "histogram"
           }
          ],
          "histogram2d": [
           {
            "colorbar": {
             "outlinewidth": 0,
             "ticks": ""
            },
            "colorscale": [
             [
              0,
              "#0d0887"
             ],
             [
              0.1111111111111111,
              "#46039f"
             ],
             [
              0.2222222222222222,
              "#7201a8"
             ],
             [
              0.3333333333333333,
              "#9c179e"
             ],
             [
              0.4444444444444444,
              "#bd3786"
             ],
             [
              0.5555555555555556,
              "#d8576b"
             ],
             [
              0.6666666666666666,
              "#ed7953"
             ],
             [
              0.7777777777777778,
              "#fb9f3a"
             ],
             [
              0.8888888888888888,
              "#fdca26"
             ],
             [
              1,
              "#f0f921"
             ]
            ],
            "type": "histogram2d"
           }
          ],
          "histogram2dcontour": [
           {
            "colorbar": {
             "outlinewidth": 0,
             "ticks": ""
            },
            "colorscale": [
             [
              0,
              "#0d0887"
             ],
             [
              0.1111111111111111,
              "#46039f"
             ],
             [
              0.2222222222222222,
              "#7201a8"
             ],
             [
              0.3333333333333333,
              "#9c179e"
             ],
             [
              0.4444444444444444,
              "#bd3786"
             ],
             [
              0.5555555555555556,
              "#d8576b"
             ],
             [
              0.6666666666666666,
              "#ed7953"
             ],
             [
              0.7777777777777778,
              "#fb9f3a"
             ],
             [
              0.8888888888888888,
              "#fdca26"
             ],
             [
              1,
              "#f0f921"
             ]
            ],
            "type": "histogram2dcontour"
           }
          ],
          "mesh3d": [
           {
            "colorbar": {
             "outlinewidth": 0,
             "ticks": ""
            },
            "type": "mesh3d"
           }
          ],
          "parcoords": [
           {
            "line": {
             "colorbar": {
              "outlinewidth": 0,
              "ticks": ""
             }
            },
            "type": "parcoords"
           }
          ],
          "pie": [
           {
            "automargin": true,
            "type": "pie"
           }
          ],
          "scatter": [
           {
            "fillpattern": {
             "fillmode": "overlay",
             "size": 10,
             "solidity": 0.2
            },
            "type": "scatter"
           }
          ],
          "scatter3d": [
           {
            "line": {
             "colorbar": {
              "outlinewidth": 0,
              "ticks": ""
             }
            },
            "marker": {
             "colorbar": {
              "outlinewidth": 0,
              "ticks": ""
             }
            },
            "type": "scatter3d"
           }
          ],
          "scattercarpet": [
           {
            "marker": {
             "colorbar": {
              "outlinewidth": 0,
              "ticks": ""
             }
            },
            "type": "scattercarpet"
           }
          ],
          "scattergeo": [
           {
            "marker": {
             "colorbar": {
              "outlinewidth": 0,
              "ticks": ""
             }
            },
            "type": "scattergeo"
           }
          ],
          "scattergl": [
           {
            "marker": {
             "colorbar": {
              "outlinewidth": 0,
              "ticks": ""
             }
            },
            "type": "scattergl"
           }
          ],
          "scattermapbox": [
           {
            "marker": {
             "colorbar": {
              "outlinewidth": 0,
              "ticks": ""
             }
            },
            "type": "scattermapbox"
           }
          ],
          "scatterpolar": [
           {
            "marker": {
             "colorbar": {
              "outlinewidth": 0,
              "ticks": ""
             }
            },
            "type": "scatterpolar"
           }
          ],
          "scatterpolargl": [
           {
            "marker": {
             "colorbar": {
              "outlinewidth": 0,
              "ticks": ""
             }
            },
            "type": "scatterpolargl"
           }
          ],
          "scatterternary": [
           {
            "marker": {
             "colorbar": {
              "outlinewidth": 0,
              "ticks": ""
             }
            },
            "type": "scatterternary"
           }
          ],
          "surface": [
           {
            "colorbar": {
             "outlinewidth": 0,
             "ticks": ""
            },
            "colorscale": [
             [
              0,
              "#0d0887"
             ],
             [
              0.1111111111111111,
              "#46039f"
             ],
             [
              0.2222222222222222,
              "#7201a8"
             ],
             [
              0.3333333333333333,
              "#9c179e"
             ],
             [
              0.4444444444444444,
              "#bd3786"
             ],
             [
              0.5555555555555556,
              "#d8576b"
             ],
             [
              0.6666666666666666,
              "#ed7953"
             ],
             [
              0.7777777777777778,
              "#fb9f3a"
             ],
             [
              0.8888888888888888,
              "#fdca26"
             ],
             [
              1,
              "#f0f921"
             ]
            ],
            "type": "surface"
           }
          ],
          "table": [
           {
            "cells": {
             "fill": {
              "color": "#EBF0F8"
             },
             "line": {
              "color": "white"
             }
            },
            "header": {
             "fill": {
              "color": "#C8D4E3"
             },
             "line": {
              "color": "white"
             }
            },
            "type": "table"
           }
          ]
         },
         "layout": {
          "annotationdefaults": {
           "arrowcolor": "#2a3f5f",
           "arrowhead": 0,
           "arrowwidth": 1
          },
          "autotypenumbers": "strict",
          "coloraxis": {
           "colorbar": {
            "outlinewidth": 0,
            "ticks": ""
           }
          },
          "colorscale": {
           "diverging": [
            [
             0,
             "#8e0152"
            ],
            [
             0.1,
             "#c51b7d"
            ],
            [
             0.2,
             "#de77ae"
            ],
            [
             0.3,
             "#f1b6da"
            ],
            [
             0.4,
             "#fde0ef"
            ],
            [
             0.5,
             "#f7f7f7"
            ],
            [
             0.6,
             "#e6f5d0"
            ],
            [
             0.7,
             "#b8e186"
            ],
            [
             0.8,
             "#7fbc41"
            ],
            [
             0.9,
             "#4d9221"
            ],
            [
             1,
             "#276419"
            ]
           ],
           "sequential": [
            [
             0,
             "#0d0887"
            ],
            [
             0.1111111111111111,
             "#46039f"
            ],
            [
             0.2222222222222222,
             "#7201a8"
            ],
            [
             0.3333333333333333,
             "#9c179e"
            ],
            [
             0.4444444444444444,
             "#bd3786"
            ],
            [
             0.5555555555555556,
             "#d8576b"
            ],
            [
             0.6666666666666666,
             "#ed7953"
            ],
            [
             0.7777777777777778,
             "#fb9f3a"
            ],
            [
             0.8888888888888888,
             "#fdca26"
            ],
            [
             1,
             "#f0f921"
            ]
           ],
           "sequentialminus": [
            [
             0,
             "#0d0887"
            ],
            [
             0.1111111111111111,
             "#46039f"
            ],
            [
             0.2222222222222222,
             "#7201a8"
            ],
            [
             0.3333333333333333,
             "#9c179e"
            ],
            [
             0.4444444444444444,
             "#bd3786"
            ],
            [
             0.5555555555555556,
             "#d8576b"
            ],
            [
             0.6666666666666666,
             "#ed7953"
            ],
            [
             0.7777777777777778,
             "#fb9f3a"
            ],
            [
             0.8888888888888888,
             "#fdca26"
            ],
            [
             1,
             "#f0f921"
            ]
           ]
          },
          "colorway": [
           "#636efa",
           "#EF553B",
           "#00cc96",
           "#ab63fa",
           "#FFA15A",
           "#19d3f3",
           "#FF6692",
           "#B6E880",
           "#FF97FF",
           "#FECB52"
          ],
          "font": {
           "color": "#2a3f5f"
          },
          "geo": {
           "bgcolor": "white",
           "lakecolor": "white",
           "landcolor": "#E5ECF6",
           "showlakes": true,
           "showland": true,
           "subunitcolor": "white"
          },
          "hoverlabel": {
           "align": "left"
          },
          "hovermode": "closest",
          "mapbox": {
           "style": "light"
          },
          "paper_bgcolor": "white",
          "plot_bgcolor": "#E5ECF6",
          "polar": {
           "angularaxis": {
            "gridcolor": "white",
            "linecolor": "white",
            "ticks": ""
           },
           "bgcolor": "#E5ECF6",
           "radialaxis": {
            "gridcolor": "white",
            "linecolor": "white",
            "ticks": ""
           }
          },
          "scene": {
           "xaxis": {
            "backgroundcolor": "#E5ECF6",
            "gridcolor": "white",
            "gridwidth": 2,
            "linecolor": "white",
            "showbackground": true,
            "ticks": "",
            "zerolinecolor": "white"
           },
           "yaxis": {
            "backgroundcolor": "#E5ECF6",
            "gridcolor": "white",
            "gridwidth": 2,
            "linecolor": "white",
            "showbackground": true,
            "ticks": "",
            "zerolinecolor": "white"
           },
           "zaxis": {
            "backgroundcolor": "#E5ECF6",
            "gridcolor": "white",
            "gridwidth": 2,
            "linecolor": "white",
            "showbackground": true,
            "ticks": "",
            "zerolinecolor": "white"
           }
          },
          "shapedefaults": {
           "line": {
            "color": "#2a3f5f"
           }
          },
          "ternary": {
           "aaxis": {
            "gridcolor": "white",
            "linecolor": "white",
            "ticks": ""
           },
           "baxis": {
            "gridcolor": "white",
            "linecolor": "white",
            "ticks": ""
           },
           "bgcolor": "#E5ECF6",
           "caxis": {
            "gridcolor": "white",
            "linecolor": "white",
            "ticks": ""
           }
          },
          "title": {
           "x": 0.05
          },
          "xaxis": {
           "automargin": true,
           "gridcolor": "white",
           "linecolor": "white",
           "ticks": "",
           "title": {
            "standoff": 15
           },
           "zerolinecolor": "white",
           "zerolinewidth": 2
          },
          "yaxis": {
           "automargin": true,
           "gridcolor": "white",
           "linecolor": "white",
           "ticks": "",
           "title": {
            "standoff": 15
           },
           "zerolinecolor": "white",
           "zerolinewidth": 2
          }
         }
        },
        "title": {
         "text": "Ranking of Arts and Humanities by Times Higher Education 2024 🖼️<br><sup>Hover on the bar to see specific national rankings 🤓</sup>",
         "x": 0,
         "xref": "paper"
        },
        "xaxis": {
         "autorange": true,
         "categoryorder": "total ascending",
         "range": [
          -0.5,
          7.5
         ],
         "title": {
          "text": "University Name"
         },
         "type": "category"
        },
        "yaxis": {
         "autorange": true,
         "range": [
          0,
          579.4736842105264
         ],
         "title": {
          "text": "THE 2024 Ranking"
         },
         "type": "linear"
        }
       }
      },
      "image/png": "[encoded data removed]",
      "text/html": [
       "<div>                            <div id=\"de7a9e19-b405-47bd-8d77-4368a42fa118\" class=\"plotly-graph-div\" style=\"height:525px; width:100%;\"></div>            <script type=\"text/javascript\">                require([\"plotly\"], function(Plotly) {                    window.PLOTLYENV=window.PLOTLYENV || {};                                    if (document.getElementById(\"de7a9e19-b405-47bd-8d77-4368a42fa118\")) {                    Plotly.newPlot(                        \"de7a9e19-b405-47bd-8d77-4368a42fa118\",                        [{\"hovertext\":[\"1st place nationally, Ranked 113 in the world by THE 2024\",\"=3rd place nationally, Ranked 350.5 in the world by THE 2024\",\"4th place nationally, Ranked 450.5 in the world by THE 2024\",\"2nd place nationally, Ranked 188 in the world by THE 2024\",\"=3rd place nationally, Ranked 350.5 in the world by THE 2024\",\"=3rd place nationally, Ranked 350.5 in the world by THE 2024\",\"5th place nationally, Ranked 550.5 in the world by THE 2024\",\"=3rd place nationally, Ranked 350.5 in the world by THE 2024\"],\"text\":[\"1\",\"3\",\"7\",\"2\",\"3\",\"3\",\"8\",\"3\"],\"textposition\":\"auto\",\"x\":[\"University of Auckland\",\"University of Otago\",\"Massey University\",\"Victoria University of Wellington\",\"University of Waikato\",\"University of Canterbury\",\"Lincoln University\",\"AUT\"],\"y\":[113.0,350.5,450.5,188.0,350.5,350.5,550.5,350.5],\"type\":\"bar\",\"marker\":{\"line\":{\"color\":\"rgb(1,33,105)\",\"width\":1.5},\"color\":\"rgb(1,33,105)\"},\"opacity\":0.6}],                        {\"template\":{\"data\":{\"histogram2dcontour\":[{\"type\":\"histogram2dcontour\",\"colorbar\":{\"outlinewidth\":0,\"ticks\":\"\"},\"colorscale\":[[0.0,\"#0d0887\"],[0.1111111111111111,\"#46039f\"],[0.2222222222222222,\"#7201a8\"],[0.3333333333333333,\"#9c179e\"],[0.4444444444444444,\"#bd3786\"],[0.5555555555555556,\"#d8576b\"],[0.6666666666666666,\"#ed7953\"],[0.7777777777777778,\"#fb9f3a\"],[0.8888888888888888,\"#fdca26\"],[1.0,\"#f0f921\"]]}],\"choropleth\":[{\"type\":\"choropleth\",\"colorbar\":{\"outlinewidth\":0,\"ticks\":\"\"}}],\"histogram2d\":[{\"type\":\"histogram2d\",\"colorbar\":{\"outlinewidth\":0,\"ticks\":\"\"},\"colorscale\":[[0.0,\"#0d0887\"],[0.1111111111111111,\"#46039f\"],[0.2222222222222222,\"#7201a8\"],[0.3333333333333333,\"#9c179e\"],[0.4444444444444444,\"#bd3786\"],[0.5555555555555556,\"#d8576b\"],[0.6666666666666666,\"#ed7953\"],[0.7777777777777778,\"#fb9f3a\"],[0.8888888888888888,\"#fdca26\"],[1.0,\"#f0f921\"]]}],\"heatmap\":[{\"type\":\"heatmap\",\"colorbar\":{\"outlinewidth\":0,\"ticks\":\"\"},\"colorscale\":[[0.0,\"#0d0887\"],[0.1111111111111111,\"#46039f\"],[0.2222222222222222,\"#7201a8\"],[0.3333333333333333,\"#9c179e\"],[0.4444444444444444,\"#bd3786\"],[0.5555555555555556,\"#d8576b\"],[0.6666666666666666,\"#ed7953\"],[0.7777777777777778,\"#fb9f3a\"],[0.8888888888888888,\"#fdca26\"],[1.0,\"#f0f921\"]]}],\"heatmapgl\":[{\"type\":\"heatmapgl\",\"colorbar\":{\"outlinewidth\":0,\"ticks\":\"\"},\"colorscale\":[[0.0,\"#0d0887\"],[0.1111111111111111,\"#46039f\"],[0.2222222222222222,\"#7201a8\"],[0.3333333333333333,\"#9c179e\"],[0.4444444444444444,\"#bd3786\"],[0.5555555555555556,\"#d8576b\"],[0.6666666666666666,\"#ed7953\"],[0.7777777777777778,\"#fb9f3a\"],[0.8888888888888888,\"#fdca26\"],[1.0,\"#f0f921\"]]}],\"contourcarpet\":[{\"type\":\"contourcarpet\",\"colorbar\":{\"outlinewidth\":0,\"ticks\":\"\"}}],\"contour\":[{\"type\":\"contour\",\"colorbar\":{\"outlinewidth\":0,\"ticks\":\"\"},\"colorscale\":[[0.0,\"#0d0887\"],[0.1111111111111111,\"#46039f\"],[0.2222222222222222,\"#7201a8\"],[0.3333333333333333,\"#9c179e\"],[0.4444444444444444,\"#bd3786\"],[0.5555555555555556,\"#d8576b\"],[0.6666666666666666,\"#ed7953\"],[0.7777777777777778,\"#fb9f3a\"],[0.8888888888888888,\"#fdca26\"],[1.0,\"#f0f921\"]]}],\"surface\":[{\"type\":\"surface\",\"colorbar\":{\"outlinewidth\":0,\"ticks\":\"\"},\"colorscale\":[[0.0,\"#0d0887\"],[0.1111111111111111,\"#46039f\"],[0.2222222222222222,\"#7201a8\"],[0.3333333333333333,\"#9c179e\"],[0.4444444444444444,\"#bd3786\"],[0.5555555555555556,\"#d8576b\"],[0.6666666666666666,\"#ed7953\"],[0.7777777777777778,\"#fb9f3a\"],[0.8888888888888888,\"#fdca26\"],[1.0,\"#f0f921\"]]}],\"mesh3d\":[{\"type\":\"mesh3d\",\"colorbar\":{\"outlinewidth\":0,\"ticks\":\"\"}}],\"scatter\":[{\"fillpattern\":{\"fillmode\":\"overlay\",\"size\":10,\"solidity\":0.2},\"type\":\"scatter\"}],\"parcoords\":[{\"type\":\"parcoords\",\"line\":{\"colorbar\":{\"outlinewidth\":0,\"ticks\":\"\"}}}],\"scatterpolargl\":[{\"type\":\"scatterpolargl\",\"marker\":{\"colorbar\":{\"outlinewidth\":0,\"ticks\":\"\"}}}],\"bar\":[{\"error_x\":{\"color\":\"#2a3f5f\"},\"error_y\":{\"color\":\"#2a3f5f\"},\"marker\":{\"line\":{\"color\":\"#E5ECF6\",\"width\":0.5},\"pattern\":{\"fillmode\":\"overlay\",\"size\":10,\"solidity\":0.2}},\"type\":\"bar\"}],\"scattergeo\":[{\"type\":\"scattergeo\",\"marker\":{\"colorbar\":{\"outlinewidth\":0,\"ticks\":\"\"}}}],\"scatterpolar\":[{\"type\":\"scatterpolar\",\"marker\":{\"colorbar\":{\"outlinewidth\":0,\"ticks\":\"\"}}}],\"histogram\":[{\"marker\":{\"pattern\":{\"fillmode\":\"overlay\",\"size\":10,\"solidity\":0.2}},\"type\":\"histogram\"}],\"scattergl\":[{\"type\":\"scattergl\",\"marker\":{\"colorbar\":{\"outlinewidth\":0,\"ticks\":\"\"}}}],\"scatter3d\":[{\"type\":\"scatter3d\",\"line\":{\"colorbar\":{\"outlinewidth\":0,\"ticks\":\"\"}},\"marker\":{\"colorbar\":{\"outlinewidth\":0,\"ticks\":\"\"}}}],\"scattermapbox\":[{\"type\":\"scattermapbox\",\"marker\":{\"colorbar\":{\"outlinewidth\":0,\"ticks\":\"\"}}}],\"scatterternary\":[{\"type\":\"scatterternary\",\"marker\":{\"colorbar\":{\"outlinewidth\":0,\"ticks\":\"\"}}}],\"scattercarpet\":[{\"type\":\"scattercarpet\",\"marker\":{\"colorbar\":{\"outlinewidth\":0,\"ticks\":\"\"}}}],\"carpet\":[{\"aaxis\":{\"endlinecolor\":\"#2a3f5f\",\"gridcolor\":\"white\",\"linecolor\":\"white\",\"minorgridcolor\":\"white\",\"startlinecolor\":\"#2a3f5f\"},\"baxis\":{\"endlinecolor\":\"#2a3f5f\",\"gridcolor\":\"white\",\"linecolor\":\"white\",\"minorgridcolor\":\"white\",\"startlinecolor\":\"#2a3f5f\"},\"type\":\"carpet\"}],\"table\":[{\"cells\":{\"fill\":{\"color\":\"#EBF0F8\"},\"line\":{\"color\":\"white\"}},\"header\":{\"fill\":{\"color\":\"#C8D4E3\"},\"line\":{\"color\":\"white\"}},\"type\":\"table\"}],\"barpolar\":[{\"marker\":{\"line\":{\"color\":\"#E5ECF6\",\"width\":0.5},\"pattern\":{\"fillmode\":\"overlay\",\"size\":10,\"solidity\":0.2}},\"type\":\"barpolar\"}],\"pie\":[{\"automargin\":true,\"type\":\"pie\"}]},\"layout\":{\"autotypenumbers\":\"strict\",\"colorway\":[\"#636efa\",\"#EF553B\",\"#00cc96\",\"#ab63fa\",\"#FFA15A\",\"#19d3f3\",\"#FF6692\",\"#B6E880\",\"#FF97FF\",\"#FECB52\"],\"font\":{\"color\":\"#2a3f5f\"},\"hovermode\":\"closest\",\"hoverlabel\":{\"align\":\"left\"},\"paper_bgcolor\":\"white\",\"plot_bgcolor\":\"#E5ECF6\",\"polar\":{\"bgcolor\":\"#E5ECF6\",\"angularaxis\":{\"gridcolor\":\"white\",\"linecolor\":\"white\",\"ticks\":\"\"},\"radialaxis\":{\"gridcolor\":\"white\",\"linecolor\":\"white\",\"ticks\":\"\"}},\"ternary\":{\"bgcolor\":\"#E5ECF6\",\"aaxis\":{\"gridcolor\":\"white\",\"linecolor\":\"white\",\"ticks\":\"\"},\"baxis\":{\"gridcolor\":\"white\",\"linecolor\":\"white\",\"ticks\":\"\"},\"caxis\":{\"gridcolor\":\"white\",\"linecolor\":\"white\",\"ticks\":\"\"}},\"coloraxis\":{\"colorbar\":{\"outlinewidth\":0,\"ticks\":\"\"}},\"colorscale\":{\"sequential\":[[0.0,\"#0d0887\"],[0.1111111111111111,\"#46039f\"],[0.2222222222222222,\"#7201a8\"],[0.3333333333333333,\"#9c179e\"],[0.4444444444444444,\"#bd3786\"],[0.5555555555555556,\"#d8576b\"],[0.6666666666666666,\"#ed7953\"],[0.7777777777777778,\"#fb9f3a\"],[0.8888888888888888,\"#fdca26\"],[1.0,\"#f0f921\"]],\"sequentialminus\":[[0.0,\"#0d0887\"],[0.1111111111111111,\"#46039f\"],[0.2222222222222222,\"#7201a8\"],[0.3333333333333333,\"#9c179e\"],[0.4444444444444444,\"#bd3786\"],[0.5555555555555556,\"#d8576b\"],[0.6666666666666666,\"#ed7953\"],[0.7777777777777778,\"#fb9f3a\"],[0.8888888888888888,\"#fdca26\"],[1.0,\"#f0f921\"]],\"diverging\":[[0,\"#8e0152\"],[0.1,\"#c51b7d\"],[0.2,\"#de77ae\"],[0.3,\"#f1b6da\"],[0.4,\"#fde0ef\"],[0.5,\"#f7f7f7\"],[0.6,\"#e6f5d0\"],[0.7,\"#b8e186\"],[0.8,\"#7fbc41\"],[0.9,\"#4d9221\"],[1,\"#276419\"]]},\"xaxis\":{\"gridcolor\":\"white\",\"linecolor\":\"white\",\"ticks\":\"\",\"title\":{\"standoff\":15},\"zerolinecolor\":\"white\",\"automargin\":true,\"zerolinewidth\":2},\"yaxis\":{\"gridcolor\":\"white\",\"linecolor\":\"white\",\"ticks\":\"\",\"title\":{\"standoff\":15},\"zerolinecolor\":\"white\",\"automargin\":true,\"zerolinewidth\":2},\"scene\":{\"xaxis\":{\"backgroundcolor\":\"#E5ECF6\",\"gridcolor\":\"white\",\"linecolor\":\"white\",\"showbackground\":true,\"ticks\":\"\",\"zerolinecolor\":\"white\",\"gridwidth\":2},\"yaxis\":{\"backgroundcolor\":\"#E5ECF6\",\"gridcolor\":\"white\",\"linecolor\":\"white\",\"showbackground\":true,\"ticks\":\"\",\"zerolinecolor\":\"white\",\"gridwidth\":2},\"zaxis\":{\"backgroundcolor\":\"#E5ECF6\",\"gridcolor\":\"white\",\"linecolor\":\"white\",\"showbackground\":true,\"ticks\":\"\",\"zerolinecolor\":\"white\",\"gridwidth\":2}},\"shapedefaults\":{\"line\":{\"color\":\"#2a3f5f\"}},\"annotationdefaults\":{\"arrowcolor\":\"#2a3f5f\",\"arrowhead\":0,\"arrowwidth\":1},\"geo\":{\"bgcolor\":\"white\",\"landcolor\":\"#E5ECF6\",\"subunitcolor\":\"white\",\"showland\":true,\"showlakes\":true,\"lakecolor\":\"white\"},\"title\":{\"x\":0.05},\"mapbox\":{\"style\":\"light\"}}},\"xaxis\":{\"categoryorder\":\"total ascending\",\"title\":{\"text\":\"University Name\"}},\"barmode\":\"group\",\"title\":{\"text\":\"Ranking of Arts and Humanities by Times Higher Education 2024 \\ud83d\\uddbc\\ufe0f\\u003cbr\\u003e\\u003csup\\u003eHover on the bar to see specific national rankings \\ud83e\\udd13\\u003c\\u002fsup\\u003e\",\"x\":0,\"xref\":\"paper\"},\"yaxis\":{\"title\":{\"text\":\"THE 2024 Ranking\"}}},                        {\"responsive\": true}                    ).then(function(){\n",
       "                            \n",
       "var gd = document.getElementById('de7a9e19-b405-47bd-8d77-4368a42fa118');\n",
       "var x = new MutationObserver(function (mutations, observer) {{\n",
       "        var display = window.getComputedStyle(gd).display;\n",
       "        if (!display || display === 'none') {{\n",
       "            console.log([gd, 'removed!']);\n",
       "            Plotly.purge(gd);\n",
       "            observer.disconnect();\n",
       "        }}\n",
       "}});\n",
       "\n",
       "// Listen for the removal of the full notebook cells\n",
       "var notebookContainer = gd.closest('#notebook-container');\n",
       "if (notebookContainer) {{\n",
       "    x.observe(notebookContainer, {childList: true});\n",
       "}}\n",
       "\n",
       "// Listen for the clearing of the current output cell\n",
       "var outputEl = gd.closest('.output');\n",
       "if (outputEl) {{\n",
       "    x.observe(outputEl, {childList: true});\n",
       "}}\n",
       "\n",
       "                        })                };                });            </script>        </div>"
      ]
     },
     "metadata": {},
     "output_type": "display_data"
    }
   ],
   "source": [
    "import pandas as pd\n",
    "import plotly.graph_objects as go\n",
    "\n",
    "# Subject'Arts and humanities'\n",
    "#import dataset\n",
    "\n",
    "df = pd.read_csv('data.csv',\n",
    "                 header=0,\n",
    "                 usecols=[\"University Name\", \"Arts and humanities ranking THE2024\"])\n",
    "\n",
    "# Melt the dataframe to make it suitable for plotting\n",
    "# df_melted = df.melt(id_vars=[\"University Name\"], \n",
    "#                     value_vars=[\"Arts and humanities ranking THE2024\"],\n",
    "#                     var_name=\"Subject\", value_name=\"Subject Field\")\n",
    "\n",
    "# y values for the direct labels to show the national rankings\n",
    "y=[1, 3, 7, 2, 3, 3, 8, 3]\n",
    "\n",
    "#create bar chart\n",
    "fig = go.Figure(data=[\n",
    "    go.Bar(\n",
    "        x=df['University Name'], \n",
    "        y=df['Arts and humanities ranking THE2024'],\n",
    "        hovertext=[\n",
    "            '1st place nationally, Ranked 113 in the world by THE 2024', \n",
    "            '=3rd place nationally, Ranked 350.5 in the world by THE 2024', \n",
    "            '4th place nationally, Ranked 450.5 in the world by THE 2024',\n",
    "            '2nd place nationally, Ranked 188 in the world by THE 2024',\n",
    "            '=3rd place nationally, Ranked 350.5 in the world by THE 2024',\n",
    "            '=3rd place nationally, Ranked 350.5 in the world by THE 2024',\n",
    "            '5th place nationally, Ranked 550.5 in the world by THE 2024',\n",
    "            '=3rd place nationally, Ranked 350.5 in the world by THE 2024'\n",
    "        ],\n",
    "        text=y,  # Displaying the ranking as number on the bar\n",
    "        textposition='auto'   \n",
    "    )\n",
    "])\n",
    "\n",
    "\n",
    "# Change the bar mode\n",
    "# smallest ranking to largest ranking\n",
    "fig.update_layout(barmode='stack', xaxis={'categoryorder':'total ascending'})\n",
    "\n",
    "# fig.update_layout(barmode='group')\n",
    "fig.update_layout(\n",
    "    title_text='Ranking of Arts and Humanities by THE 2024',\n",
    "    barmode='group',\n",
    "    xaxis_title=\"University Name\",\n",
    "    yaxis_title=\"THE 2024 Ranking\"\n",
    "),\n",
    "fig.update_layout(\n",
    "    title=go.layout.Title(\n",
    "        text=\"Ranking of Arts and Humanities by Times Higher Education 2024 🖼️<br><sup>Hover on the bar to see specific national rankings 🤓</sup>\",\n",
    "        xref=\"paper\",\n",
    "        x=0\n",
    "    ),)\n",
    "\n",
    "fig.update_traces(marker_color='rgb(1,33,105)', marker_line_color='rgb(1,33,105)',\n",
    "                  marker_line_width=1.5, opacity=0.6)\n",
    "\n",
    "\n",
    "fig.show() "
   ]
  },
  {
   "cell_type": "code",
   "execution_count": null,
   "id": "90ed110f-6230-4ca6-8527-87bdd25d7098",
   "metadata": {},
   "outputs": [],
   "source": [
    "#categorise pattern fill\n",
    "fig = px.bar(df_melted, x='University Name', y='Subject Field', color=\"Subject\",\n",
    "             pattern_shape=\"Subject\", pattern_shape_sequence=[\".\", \"x\", \"+\"])"
   ]
  },
  {
   "cell_type": "markdown",
   "id": "826af895-c947-4ba3-8c23-1f05804c7d66",
   "metadata": {},
   "source": [
    "# LINE CHART FOR RANKINGS"
   ]
  },
  {
   "cell_type": "code",
   "execution_count": null,
   "id": "177e0849-6b38-49f3-b817-b707ca940048",
   "metadata": {},
   "outputs": [],
   "source": [
    "!pip install pandas plotly\n"
   ]
  },
  {
   "cell_type": "code",
   "execution_count": null,
   "id": "f9a417cf-1be7-40f0-8a17-d4d58222be81",
   "metadata": {},
   "outputs": [],
   "source": [
    "\n",
    "import pandas as pd\n",
    "\n",
    "# Sample data based on the provided rankings and university names\n",
    "data = {\n",
    "    'University Name': [\n",
    "        'University of Auckland', 'University of Otago', 'Massey University', \n",
    "        'Victoria University of Wellington', 'University of Waikato', \n",
    "        'University of Canterbury', 'Lincoln University', 'AUT'\n",
    "    ],\n",
    "    '2018 QS Rankings': [82, 151, 316, 219, 292, 214, 319, 445.5],\n",
    "    '2019 QS Rankings': [85, 175, 332, 221, 274, 231, 317, 464],\n",
    "    '2020 QS Rankings': [83, 176, 287, 215, 266, 227, 356, 442],\n",
    "    '2021 QS Rankings': [81, 184, 272, 223, 375, 270, 387, 437],\n",
    "    '2022 QS Rankings': [85, 194, 284, 236, 373, 258, 372, 451],\n",
    "    '2023 QS Rankings': [87, 217, 292, 275, 331, 284, 368, 486],\n",
    "    '2024 QS Rankings': [68, 206, 239, 241, 250, 256, 362, 407],\n",
    "    '2025 QS Rankings': [65, 214, 239, 244, 235, 261, 371, 412]\n",
    "}\n",
    "\n",
    "# Create DataFrame\n",
    "df = pd.DataFrame(data)\n",
    "\n",
    "\n",
    "\n",
    "# Melt the DataFrame to convert from wide to long format\n",
    "df_long = df.melt(id_vars=['University Name'], var_name='Year', value_name='Ranking')\n",
    "\n",
    "# Extract the year from the 'Year' column\n",
    "df_long['Year'] = df_long['Year'].str.extract('(\\d{4})').astype(int)\n",
    "\n",
    "import plotly.express as px\n",
    "\n",
    "# Create the line chart\n",
    "fig = px.line(df_long, x='Year', y='Ranking', color='University Name', \n",
    "              title='International QS Rankings Over the Years', \n",
    "              labels={'Ranking': 'QS Ranking', 'Year': 'Year'},\n",
    "              markers=True)\n",
    "\n",
    "# Update layout for clarity\n",
    "fig.update_layout(\n",
    "    xaxis_title='Year',\n",
    "    yaxis_title='QS Ranking',\n",
    "    yaxis=dict(autorange='reversed'),  # Rankings: lower is better\n",
    "    legend_title='University'\n",
    ")\n",
    "# fig.add_annotation(x=2018, y=151,\n",
    "#             text=\"University of Otago\",\n",
    "#             showarrow=True,\n",
    "#             arrowhead=1\n",
    "#                   )\n",
    "fig.add_annotation(x=2018, y=82,\n",
    "            text=\"University of Auckland\",\n",
    "            showarrow=True,\n",
    "            arrowhead=1,\n",
    "                   font=dict(\n",
    "            family=\"Courier New, monospace\",\n",
    "            size=16,\n",
    "            color=\"#000080\"\n",
    "            ),\n",
    "        align=\"center\",\n",
    "        arrowsize=1,\n",
    "        arrowwidth=2,\n",
    "        arrowcolor=\"#636363\",\n",
    "        ax=20,\n",
    "        ay=-30,\n",
    "                  )\n",
    "\n",
    "  \n",
    "    \n",
    "fig.show()\n"
   ]
  },
  {
   "cell_type": "code",
   "execution_count": null,
   "id": "7d8538a2-57d5-405f-80c6-a69fbd21c8af",
   "metadata": {},
   "outputs": [],
   "source": [
    "import plotly.graph_objects as go\n",
    "import numpy as np\n",
    "\n",
    "title = 'Main Source for News'\n",
    "labels = ['Television', 'Newspaper', 'Internet', 'Radio']\n",
    "colors = ['rgb(67,67,67)', 'rgb(115,115,115)', 'rgb(49,130,189)', 'rgb(189,189,189)']\n",
    "\n",
    "mode_size = [8, 8, 12, 8]\n",
    "line_size = [2, 2, 4, 2]\n",
    "\n",
    "x_data = np.vstack((np.arange(2018, 2025),)*4)\n",
    "\n",
    "y_data = np.array([\n",
    "    [82, 85, 83, 81, 85, 87, 68],\n",
    "    [151, 175, 176, 184, 194, 217, 206],\n",
    "    [316, 332, 287, 272, 284, 292, 239],\n",
    "    [219, 221, 215, 223, 236, 275, 241],\n",
    "    [292, 274, 266, 375, 373, 331, 250],\n",
    "    [214, 231, 227, 270, 258, 284, 256],\n",
    "    [319, 317, 356, 387, 372, 368, 362],\n",
    "    [445.5, 464, 442, 437, 451, 486, 407]\n",
    "])\n",
    "\n",
    "fig = go.Figure()\n",
    "\n",
    "for i in range(0, 4):\n",
    "    fig.add_trace(go.Scatter(x=x_data[i], y=y_data[i], mode='lines',\n",
    "        name=labels[i],\n",
    "        line=dict(color=colors[i], width=line_size[i]),\n",
    "        connectgaps=True,\n",
    "    ))\n",
    "\n",
    "    # endpoints\n",
    "    fig.add_trace(go.Scatter(\n",
    "        x=[x_data[i][0], x_data[i][-1]],\n",
    "        y=[y_data[i][0], y_data[i][-1]],\n",
    "        mode='markers',\n",
    "        marker=dict(color=colors[i], size=mode_size[i])\n",
    "    ))\n",
    "\n",
    "fig.update_layout(\n",
    "    xaxis=dict(\n",
    "        showline=True,\n",
    "        showgrid=False,\n",
    "        showticklabels=True,\n",
    "        linecolor='rgb(204, 204, 204)',\n",
    "        linewidth=2,\n",
    "        ticks='outside',\n",
    "        tickfont=dict(\n",
    "            family='Arial',\n",
    "            size=12,\n",
    "            color='rgb(82, 82, 82)',\n",
    "        ),\n",
    "    ),\n",
    "    yaxis=dict(\n",
    "        showgrid=False,\n",
    "        zeroline=False,\n",
    "        showline=False,\n",
    "        showticklabels=False,\n",
    "    ),\n",
    "    autosize=False,\n",
    "    margin=dict(\n",
    "        autoexpand=False,\n",
    "        l=100,\n",
    "        r=20,\n",
    "        t=110,\n",
    "    ),\n",
    "    showlegend=False,\n",
    "    plot_bgcolor='white'\n",
    ")\n",
    "\n",
    "annotations = []\n",
    "\n",
    "# Adding labels\n",
    "for y_trace, label, color in zip(y_data, labels, colors):\n",
    "    # labeling the left_side of the plot\n",
    "    annotations.append(dict(xref='paper', x=0.05, y=y_trace[0],\n",
    "                                  xanchor='right', yanchor='middle',\n",
    "                                  text=label + ' {}%'.format(y_trace[0]),\n",
    "                                  font=dict(family='Arial',\n",
    "                                            size=16),\n",
    "                                  showarrow=False))\n",
    "    # labeling the right_side of the plot\n",
    "    annotations.append(dict(xref='paper', x=0.95, y=y_trace[],\n",
    "                                  xanchor='left', yanchor='middle',\n",
    "                                  text='{}%'.format(y_trace[7]),\n",
    "                                  font=dict(family='Arial',\n",
    "                                            size=16),\n",
    "                                  showarrow=False))\n",
    "# Title\n",
    "annotations.append(dict(xref='paper', yref='paper', x=0.0, y=1.05,\n",
    "                              xanchor='left', yanchor='bottom',\n",
    "                              text='Main Source for News',\n",
    "                              font=dict(family='Arial',\n",
    "                                        size=30,\n",
    "                                        color='rgb(37,37,37)'),\n",
    "                              showarrow=False))\n",
    "# Source\n",
    "annotations.append(dict(xref='paper', yref='paper', x=0.5, y=-0.1,\n",
    "                              xanchor='center', yanchor='top',\n",
    "                              text='Source: PewResearch Center & ' +\n",
    "                                   'Storytelling with data',\n",
    "                              font=dict(family='Arial',\n",
    "                                        size=12,\n",
    "                                        color='rgb(150,150,150)'),\n",
    "                              showarrow=False))\n",
    "\n",
    "fig.update_layout(annotations=annotations)\n",
    "\n",
    "fig.show()"
   ]
  },
  {
   "cell_type": "code",
   "execution_count": null,
   "id": "2abea7e3-d9f1-4f44-81e7-c1f6955be6f8",
   "metadata": {},
   "outputs": [],
   "source": [
    "import pandas as pd\n",
    "import plotly.graph_objects as go\n",
    "import plotly.express as px\n",
    "\n",
    "#creating the line chart\n",
    "df = pd.read_csv('data.csv',\n",
    "                 header=0,\n",
    "                 usecols=[\"University Name\", \"N2018\", \"N2019\", \"N2020\", \"N2021\", \"N2022\", \"N2023\", \"N2024\", \"N2025\"])\n",
    "\n",
    "# Melt the DataFrame to convert from wide to long format\n",
    "df_long = df.melt(id_vars=['University Name'], var_name='Year', value_name='Ranking')\n",
    "\n",
    "fig_line = px.line(df_long, x=\"Year\", y=\"Ranking\", color='University Name')\n",
    "\n",
    "# Update layout for clarity\n",
    "fig_line.update_layout(\n",
    "    xaxis_title='Year',\n",
    "    yaxis_title='QS Ranking',\n",
    "    yaxis=dict(autorange='reversed'),  # Rankings: lower is better\n",
    "    legend_title='University'\n",
    ")\n",
    "fig_line.update_layout(\n",
    "    title=go.layout.Title(\n",
    "        text=\"International QS rankings of New Zealand Universities<br><sup>Data from QS Top Universities from 2018 to 2025. (https://www.topuniversities.com)</sup>\",\n",
    "        xref=\"paper\",\n",
    "        x=0\n",
    "    ),)\n"
   ]
  },
  {
   "cell_type": "markdown",
   "id": "29c627f0-88cd-4c62-92eb-3496c909a98b",
   "metadata": {},
   "source": [
    "# radar chart"
   ]
  },
  {
   "cell_type": "code",
   "execution_count": null,
   "id": "f385af32-382a-4d15-9a03-9279e05a55fe",
   "metadata": {},
   "outputs": [],
   "source": [
    "fig.update_traces(fill='toself')"
   ]
  },
  {
   "cell_type": "code",
   "execution_count": null,
   "id": "619c067a-3fc3-4b08-9d86-283afebbe91e",
   "metadata": {},
   "outputs": [],
   "source": [
    "import pandas as pd\n",
    "import plotly.graph_objects as go\n",
    "import plotly.express as px\n",
    "\n",
    "# Load data\n",
    "df = pd.read_csv('data.csv', header=0, usecols=[\n",
    "    \"University Name\", \n",
    "    \"Academic reputation (QS25)\", \n",
    "    \"Teaching quality (THE24)\", \n",
    "    \"Employment Outcomes (QS25)\", \n",
    "    \"Research quality (THE24)\", \n",
    "    \"International Research Network (QS25)\", \n",
    "    \"Employer Reputation (QS25)\"\n",
    "])\n",
    "\n",
    "# Reshape the DataFrame\n",
    "df_melted = df.melt(id_vars=[\"University Name\"], var_name=\"Metric\", value_name=\"Value\")\n",
    "\n",
    "\n",
    "\n",
    "# Get unique university names\n",
    "universities = df['University Name'].unique()\n",
    "\n",
    "# Generate a radar chart for each university\n",
    "for university in universities:\n",
    "    # Filter data for one university\n",
    "    df_uni = df_melted[df_melted['University Name'] == university ]\n",
    "\n",
    "    # Create the radar chart using Plotly Express\n",
    "    fig = px.line_polar(df_uni, r='Value', theta='Metric', line_close=True,\n",
    "                        title=f\"Metrics for {university}\")\n",
    "\n",
    "    # Update layout to improve readability\n",
    "    fig.update_traces(fill='toself')  # Optional: fill the area inside the radar\n",
    "    fig.update_layout(\n",
    "        polar=dict(\n",
    "            radialaxis=dict(\n",
    "                visible=True,\n",
    "                range=[0, df_uni['Value'].max() + 10]  # Adjust the radial axis to fit the data\n",
    "            )\n",
    "        ),\n",
    "        showlegend=False  # Hide legend if not necessary\n",
    "    )\n",
    "fig_line.update_layout(\n",
    "    title=go.layout.Title(\n",
    "        text=\"International QS rankings of New Zealand Universities<br><sup>Data from QS Top Universities from 2018 to 2025. (https://www.topuniversities.com)</sup>\",\n",
    "        xref=\"paper\",\n",
    "        x=0\n",
    "    ),)\n",
    "    # Show the plot\n",
    "fig.show()\n",
    "\n",
    "\n"
   ]
  },
  {
   "cell_type": "code",
   "execution_count": null,
   "id": "f7c8c44c-f2d7-413f-b2b4-c8956e029700",
   "metadata": {},
   "outputs": [],
   "source": [
    "# Reshape the DataFrame\n",
    "df_melted = df.melt(id_vars=[\"University Name\"], var_name=\"Metric\", value_name=\"Value\")\n",
    "\n",
    "# Get unique university names\n",
    "universities = df['University Name'].unique()\n",
    "\n",
    "# Generate a radar chart for each university\n",
    "for university in universities:\n",
    "    # Filter data for one university\n",
    "    df_uni = df_melted[df_melted['University Name'] == university ]\n",
    "\n",
    "    # Create the radar chart using Plotly Express\n",
    "    fig_radar = px.line_polar(df_uni, r='Value', theta='Metric', line_close=True,\n",
    "                        title=f\"Metrics for {university}\")\n",
    "\n",
    "    # Update layout to improve readability\n",
    "    fig_radar.update_traces(fill='toself')  # Optional: fill the area inside the radar\n",
    "    fig_radar.update_layout(\n",
    "        polar=dict(\n",
    "            radialaxis=dict(\n",
    "                visible=True,\n",
    "                range=[0, df_uni['Value'].max() + 10]  # Adjust the radial axis to fit the data\n",
    "            )\n",
    "        ),\n",
    "        showlegend=False  # Hide legend if not necessary\n",
    "    )\n",
    "    "
   ]
  },
  {
   "cell_type": "markdown",
   "id": "6ee72126-a9ec-45e5-9c4d-c3544748e907",
   "metadata": {},
   "source": [
    "EXTRA(for fun)"
   ]
  },
  {
   "cell_type": "code",
   "execution_count": null,
   "id": "24092fdd-6f7f-4093-aeb3-feeda98b9777",
   "metadata": {},
   "outputs": [],
   "source": [
    "import pandas as pd\n",
    "import plotly.graph_objects as go\n",
    "import plotly.express as px\n",
    "\n",
    "fig = go.Figure(go.Scattergeo())\n",
    "fig.update_layout(height=300, margin={\"r\":0,\"t\":0,\"l\":0,\"b\":0})\n",
    "fig.show()"
   ]
  },
  {
   "cell_type": "markdown",
   "id": "4167c9f0-6638-4ffc-8ef0-322223a1b2e9",
   "metadata": {},
   "source": [
    "# LAYOUT"
   ]
  },
  {
   "cell_type": "code",
   "execution_count": 5,
   "id": "8c924578-2ec5-40b2-a2aa-395faa689b62",
   "metadata": {},
   "outputs": [
    {
     "data": {
      "text/html": [
       "\n",
       "        <iframe\n",
       "            width=\"100%\"\n",
       "            height=\"650\"\n",
       "            src=\"http://127.0.0.1:8058/\"\n",
       "            frameborder=\"0\"\n",
       "            allowfullscreen\n",
       "            \n",
       "        ></iframe>\n",
       "        "
      ],
      "text/plain": [
       "<IPython.lib.display.IFrame at 0x1169ad310>"
      ]
     },
     "metadata": {},
     "output_type": "display_data"
    }
   ],
   "source": [
    "# Run this app with `python app.py` and\n",
    "# visit http://127.0.0.1:8050/ in your web browser.\n",
    "\n",
    "\n",
    "from dash import Dash, html, dcc\n",
    "import plotly.express as px\n",
    "import pandas as pd\n",
    "\n",
    "app = Dash(__name__)\n",
    "\n",
    "# assume you have a \"long-form\" data frame\n",
    "# see https://plotly.com/python/px-arguments/ for more options\n",
    "df = pd.DataFrame({\n",
    "    \"Fruit\": [\"Apples\", \"Oranges\", \"Bananas\", \"Apples\", \"Oranges\", \"Bananas\"],\n",
    "    \"Amount\": [4, 1, 2, 2, 4, 5],\n",
    "    \"City\": [\"SF\", \"SF\", \"SF\", \"Montreal\", \"Montreal\", \"Montreal\"]\n",
    "})\n",
    "\n",
    "fig = px.bar(df, x=\"Fruit\", y=\"Amount\", color=\"City\", barmode=\"group\")\n",
    "\n",
    "app.layout = html.Div(children=[\n",
    "    html.H1(children='Hello Dash'),\n",
    "\n",
    "    html.Div(children='''\n",
    "        Dash: A web application framework for your data.\n",
    "    '''),\n",
    "\n",
    "    dcc.Graph(\n",
    "        id='example-graph',\n",
    "        figure=fig\n",
    "    )\n",
    "])\n",
    "\n",
    "if __name__ == \"__main__\":\n",
    "    app.run_server(debug=True, port=8058)\n"
   ]
  },
  {
   "cell_type": "code",
   "execution_count": null,
   "id": "2f94aa8a-ce63-47ab-be61-315c3873f521",
   "metadata": {},
   "outputs": [],
   "source": []
  }
 ],
 "metadata": {
  "kernelspec": {
   "display_name": "Python 3 (ipykernel)",
   "language": "python",
   "name": "python3"
  },
  "language_info": {
   "codemirror_mode": {
    "name": "ipython",
    "version": 3
   },
   "file_extension": ".py",
   "mimetype": "text/x-python",
   "name": "python",
   "nbconvert_exporter": "python",
   "pygments_lexer": "ipython3",
   "version": "3.11.8"
  }
 },
 "nbformat": 4,
 "nbformat_minor": 5
}
