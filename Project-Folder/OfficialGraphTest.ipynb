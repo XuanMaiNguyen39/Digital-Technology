{
 "cells": [
  {
   "cell_type": "markdown",
   "id": "670d4ca9-7523-464f-8c41-63098ad138ce",
   "metadata": {},
   "source": [
    "# RANDOM THINGS"
   ]
  },
  {
   "cell_type": "code",
   "execution_count": null,
   "id": "2b14f110-58fb-4fe2-9e35-26c52b7a4d42",
   "metadata": {},
   "outputs": [],
   "source": [
    "import pandas as pd\n",
    "\n",
    "# Sample CSV loading\n",
    "data = {\n",
    "    '2018': [82, 151, 316, 219, 292, 214, 319, 445.5],\n",
    "    '2019': [85, 175, 332, 221, 274, 231, 317, 464],\n",
    "    '2020': [83, 176, 287, 215, 266, 227, 356, 442],\n",
    "    '2021': [81, 184, 272, 223, 375, 270, 387, 437],\n",
    "    '2022': [85, 194, 284, 236, 373, 258, 372, 451],\n",
    "    '2023': [87, 217, 292, 275, 331, 284, 368, 486],\n",
    "    '2024': [68, 206, 239, 241, 250, 256, 362, 407],\n",
    "    '2025': [65, 214, 239, 244, 235, 261, 371, 412]\n",
    "}\n",
    "\n",
    "df = pd.DataFrame(data)\n",
    "# Function to convert international to national rankings\n",
    "def international_to_national_rankings(df):\n",
    "    # Use argsort twice to get rankings: once for sorting order, second to get ranks\n",
    "    ranked_df = df.apply(lambda x: x.argsort().argsort() + 1)\n",
    "    return ranked_df\n",
    "\n",
    "# Apply the function\n",
    "national_ranks = international_to_national_rankings(df)\n",
    "\n",
    "# Print or return the transformed DataFrame\n",
    "print(national_ranks)\n",
    "# Display the results\n",
    "print(\"National Rankings by Year:\")\n",
    "print(national_ranks)\n"
   ]
  },
  {
   "cell_type": "markdown",
   "id": "bab63b08-6ce1-45b9-9e3f-57f87e6ab0aa",
   "metadata": {},
   "source": [
    "# Bar chart for rankings"
   ]
  },
  {
   "cell_type": "code",
   "execution_count": null,
   "id": "df53e921-063a-4d26-b018-6011beb2a9e0",
   "metadata": {},
   "outputs": [],
   "source": [
    "import pandas as pd\n",
    "import plotly.graph_objects as go\n",
    "import plotly.express as px\n",
    "\n",
    "# Subject'Arts and humanities'\n",
    "#import dataset\n",
    "\n",
    "df = pd.read_csv('data.csv',\n",
    "                 header=0,\n",
    "                 usecols=[\"University Name\", \"Engineering & Technology ranking THE24\"])\n",
    "\n",
    "\n",
    "y=[138, 700.5, 450.5, 0, 700.5, 450.5, 0, 700.5]\n",
    "\n",
    "\n",
    "# #create bar chart\n",
    "fig_tech = go.Figure(data=[\n",
    "    go.Bar(\n",
    "        x=df['University Name'], \n",
    "        y=df['Engineering & Technology ranking THE24'],\n",
    "        hovertext=[\n",
    "            '1st place nationally, Ranked 138 in the world by THE 2024', \n",
    "            '=3rd place nationally, Ranked 700.5 in the world by THE 2024', \n",
    "            '=2nd place nationally, Ranked 450.5 in the world by THE 2024',\n",
    "            'No ranking',\n",
    "            '=3rd place nationally, Ranked 700.5 in the world by THE 2024',\n",
    "            '=2nd place nationally, Ranked 450.5 in the world by THE 2024',\n",
    "            'No ranking',\n",
    "            '=3rd place nationally, Ranked 700.5 in the world by THE 2024'\n",
    "        ],\n",
    "        text=y,  # Displaying the ranking as number on the bar\n",
    "        textposition='auto',\n",
    " \n",
    "    )\n",
    "])\n",
    "\n",
    "\n",
    "# Change the bar mode\n",
    "# smallest ranking to largest ranking\n",
    "fig_tech.update_layout(barmode='stack', xaxis={'categoryorder':'total ascending'})\n",
    "\n",
    "# fig.update_layout(barmode='group')\n",
    "fig_tech.update_layout(\n",
    "    barmode='group',\n",
    "    xaxis_title=\"University Name\",\n",
    "    yaxis_title=\"THE 2024 Ranking\"\n",
    "),\n",
    "fig_tech.update_layout(\n",
    "    title=go.layout.Title(\n",
    "        text=\"Ranking of Engineering & Technology by Times Higher Education 2024 🖼️<br><sup>Hover on the bar to see specific national rankings 🤓</sup>\",\n",
    "        xref=\"paper\",\n",
    "        x=0\n",
    "    ),),\n",
    "\n",
    "\n",
    "fig_tech.update_traces(marker_color='rgb(1,33,105)', marker_line_color='rgb(1,33,105)',\n",
    "                  marker_line_width=1.5, opacity=0.6)\n",
    "\n",
    "fig_tech.update_layout(\n",
    "    title={\n",
    "        'text': \"Ranking of Engineering & Technology by Times Higher Education 2024 🖼️\",\n",
    "        'font': {\n",
    "            'family': \"Raleway, sans-serif\",\n",
    "            'size': 25,\n",
    "            'color': '#002D72'\n",
    "        }\n",
    "    }\n",
    ")\n",
    "\n",
    "\n",
    "\n",
    "\n",
    "fig_tech.show() "
   ]
  },
  {
   "cell_type": "code",
   "execution_count": null,
   "id": "90ed110f-6230-4ca6-8527-87bdd25d7098",
   "metadata": {},
   "outputs": [],
   "source": [
    "#categorise pattern fill\n",
    "fig = px.bar(df_melted, x='University Name', y='Subject Field', color=\"Subject\",\n",
    "             pattern_shape=\"Subject\", pattern_shape_sequence=[\".\", \"x\", \"+\"])"
   ]
  },
  {
   "cell_type": "markdown",
   "id": "826af895-c947-4ba3-8c23-1f05804c7d66",
   "metadata": {},
   "source": [
    "# LINE CHART FOR RANKINGS"
   ]
  },
  {
   "cell_type": "code",
   "execution_count": 9,
   "id": "177e0849-6b38-49f3-b817-b707ca940048",
   "metadata": {},
   "outputs": [
    {
     "data": {
      "application/vnd.plotly.v1+json": {
       "config": {
        "plotlyServerURL": "https://plot.ly"
       },
       "data": [
        {
         "hovertemplate": "University Name=University of Auckland<br>Year=%{x}<br>Ranking=%{y}<extra></extra>",
         "legendgroup": "University of Auckland",
         "line": {
          "color": "#636efa",
          "dash": "solid"
         },
         "marker": {
          "symbol": "circle"
         },
         "mode": "lines",
         "name": "University of Auckland",
         "orientation": "v",
         "showlegend": true,
         "type": "scatter",
         "x": [
          "2018",
          "2019",
          "2020",
          "2021",
          "2022",
          "2023",
          "2024",
          "2025"
         ],
         "xaxis": "x",
         "y": [
          82,
          85,
          83,
          81,
          85,
          87,
          68,
          65
         ],
         "yaxis": "y"
        },
        {
         "hovertemplate": "University Name=University of Otago<br>Year=%{x}<br>Ranking=%{y}<extra></extra>",
         "legendgroup": "University of Otago",
         "line": {
          "color": "#EF553B",
          "dash": "solid"
         },
         "marker": {
          "symbol": "circle"
         },
         "mode": "lines",
         "name": "University of Otago",
         "orientation": "v",
         "showlegend": true,
         "type": "scatter",
         "x": [
          "2018",
          "2019",
          "2020",
          "2021",
          "2022",
          "2023",
          "2024",
          "2025"
         ],
         "xaxis": "x",
         "y": [
          151,
          175,
          176,
          184,
          194,
          217,
          206,
          214
         ],
         "yaxis": "y"
        },
        {
         "hovertemplate": "University Name=Massey University<br>Year=%{x}<br>Ranking=%{y}<extra></extra>",
         "legendgroup": "Massey University",
         "line": {
          "color": "#00cc96",
          "dash": "solid"
         },
         "marker": {
          "symbol": "circle"
         },
         "mode": "lines",
         "name": "Massey University",
         "orientation": "v",
         "showlegend": true,
         "type": "scatter",
         "x": [
          "2018",
          "2019",
          "2020",
          "2021",
          "2022",
          "2023",
          "2024",
          "2025"
         ],
         "xaxis": "x",
         "y": [
          316,
          332,
          287,
          272,
          284,
          292,
          239,
          239
         ],
         "yaxis": "y"
        },
        {
         "hovertemplate": "University Name=Victoria University of Wellington<br>Year=%{x}<br>Ranking=%{y}<extra></extra>",
         "legendgroup": "Victoria University of Wellington",
         "line": {
          "color": "#ab63fa",
          "dash": "solid"
         },
         "marker": {
          "symbol": "circle"
         },
         "mode": "lines",
         "name": "Victoria University of Wellington",
         "orientation": "v",
         "showlegend": true,
         "type": "scatter",
         "x": [
          "2018",
          "2019",
          "2020",
          "2021",
          "2022",
          "2023",
          "2024",
          "2025"
         ],
         "xaxis": "x",
         "y": [
          219,
          221,
          215,
          223,
          236,
          275,
          241,
          244
         ],
         "yaxis": "y"
        },
        {
         "hovertemplate": "University Name=University of Waikato<br>Year=%{x}<br>Ranking=%{y}<extra></extra>",
         "legendgroup": "University of Waikato",
         "line": {
          "color": "#FFA15A",
          "dash": "solid"
         },
         "marker": {
          "symbol": "circle"
         },
         "mode": "lines",
         "name": "University of Waikato",
         "orientation": "v",
         "showlegend": true,
         "type": "scatter",
         "x": [
          "2018",
          "2019",
          "2020",
          "2021",
          "2022",
          "2023",
          "2024",
          "2025"
         ],
         "xaxis": "x",
         "y": [
          292,
          274,
          266,
          375,
          373,
          331,
          250,
          235
         ],
         "yaxis": "y"
        },
        {
         "hovertemplate": "University Name=University of Canterbury<br>Year=%{x}<br>Ranking=%{y}<extra></extra>",
         "legendgroup": "University of Canterbury",
         "line": {
          "color": "#19d3f3",
          "dash": "solid"
         },
         "marker": {
          "symbol": "circle"
         },
         "mode": "lines",
         "name": "University of Canterbury",
         "orientation": "v",
         "showlegend": true,
         "type": "scatter",
         "x": [
          "2018",
          "2019",
          "2020",
          "2021",
          "2022",
          "2023",
          "2024",
          "2025"
         ],
         "xaxis": "x",
         "y": [
          214,
          231,
          227,
          270,
          258,
          284,
          256,
          261
         ],
         "yaxis": "y"
        },
        {
         "hovertemplate": "University Name=Lincoln University<br>Year=%{x}<br>Ranking=%{y}<extra></extra>",
         "legendgroup": "Lincoln University",
         "line": {
          "color": "#FF6692",
          "dash": "solid"
         },
         "marker": {
          "symbol": "circle"
         },
         "mode": "lines",
         "name": "Lincoln University",
         "orientation": "v",
         "showlegend": true,
         "type": "scatter",
         "x": [
          "2018",
          "2019",
          "2020",
          "2021",
          "2022",
          "2023",
          "2024",
          "2025"
         ],
         "xaxis": "x",
         "y": [
          319,
          317,
          356,
          387,
          372,
          368,
          362,
          371
         ],
         "yaxis": "y"
        },
        {
         "hovertemplate": "University Name=AUT<br>Year=%{x}<br>Ranking=%{y}<extra></extra>",
         "legendgroup": "AUT",
         "line": {
          "color": "#B6E880",
          "dash": "solid"
         },
         "marker": {
          "symbol": "circle"
         },
         "mode": "lines",
         "name": "AUT",
         "orientation": "v",
         "showlegend": true,
         "type": "scatter",
         "x": [
          "2018",
          "2019",
          "2020",
          "2021",
          "2022",
          "2023",
          "2024",
          "2025"
         ],
         "xaxis": "x",
         "y": [
          445.5,
          464,
          442,
          437,
          451,
          486,
          407,
          412
         ],
         "yaxis": "y"
        }
       ],
       "layout": {
        "annotations": [
         {
          "font": {
           "color": "black",
           "family": "Courier New, monospace",
           "size": 12
          },
          "showarrow": false,
          "text": "Source: <a href='https://www.topuniversities.com/universities/university-auckland'>QS Rankings</a>",
          "x": 0,
          "xref": "paper",
          "y": -0.2,
          "yref": "paper"
         }
        ],
        "autosize": true,
        "legend": {
         "font": {
          "color": "black",
          "family": "Courier New, monospace",
          "size": 12
         },
         "title": {
          "text": "University"
         },
         "tracegroupgap": 0
        },
        "margin": {
         "t": 60
        },
        "template": {
         "data": {
          "bar": [
           {
            "error_x": {
             "color": "#2a3f5f"
            },
            "error_y": {
             "color": "#2a3f5f"
            },
            "marker": {
             "line": {
              "color": "#E5ECF6",
              "width": 0.5
             },
             "pattern": {
              "fillmode": "overlay",
              "size": 10,
              "solidity": 0.2
             }
            },
            "type": "bar"
           }
          ],
          "barpolar": [
           {
            "marker": {
             "line": {
              "color": "#E5ECF6",
              "width": 0.5
             },
             "pattern": {
              "fillmode": "overlay",
              "size": 10,
              "solidity": 0.2
             }
            },
            "type": "barpolar"
           }
          ],
          "carpet": [
           {
            "aaxis": {
             "endlinecolor": "#2a3f5f",
             "gridcolor": "white",
             "linecolor": "white",
             "minorgridcolor": "white",
             "startlinecolor": "#2a3f5f"
            },
            "baxis": {
             "endlinecolor": "#2a3f5f",
             "gridcolor": "white",
             "linecolor": "white",
             "minorgridcolor": "white",
             "startlinecolor": "#2a3f5f"
            },
            "type": "carpet"
           }
          ],
          "choropleth": [
           {
            "colorbar": {
             "outlinewidth": 0,
             "ticks": ""
            },
            "type": "choropleth"
           }
          ],
          "contour": [
           {
            "colorbar": {
             "outlinewidth": 0,
             "ticks": ""
            },
            "colorscale": [
             [
              0,
              "#0d0887"
             ],
             [
              0.1111111111111111,
              "#46039f"
             ],
             [
              0.2222222222222222,
              "#7201a8"
             ],
             [
              0.3333333333333333,
              "#9c179e"
             ],
             [
              0.4444444444444444,
              "#bd3786"
             ],
             [
              0.5555555555555556,
              "#d8576b"
             ],
             [
              0.6666666666666666,
              "#ed7953"
             ],
             [
              0.7777777777777778,
              "#fb9f3a"
             ],
             [
              0.8888888888888888,
              "#fdca26"
             ],
             [
              1,
              "#f0f921"
             ]
            ],
            "type": "contour"
           }
          ],
          "contourcarpet": [
           {
            "colorbar": {
             "outlinewidth": 0,
             "ticks": ""
            },
            "type": "contourcarpet"
           }
          ],
          "heatmap": [
           {
            "colorbar": {
             "outlinewidth": 0,
             "ticks": ""
            },
            "colorscale": [
             [
              0,
              "#0d0887"
             ],
             [
              0.1111111111111111,
              "#46039f"
             ],
             [
              0.2222222222222222,
              "#7201a8"
             ],
             [
              0.3333333333333333,
              "#9c179e"
             ],
             [
              0.4444444444444444,
              "#bd3786"
             ],
             [
              0.5555555555555556,
              "#d8576b"
             ],
             [
              0.6666666666666666,
              "#ed7953"
             ],
             [
              0.7777777777777778,
              "#fb9f3a"
             ],
             [
              0.8888888888888888,
              "#fdca26"
             ],
             [
              1,
              "#f0f921"
             ]
            ],
            "type": "heatmap"
           }
          ],
          "heatmapgl": [
           {
            "colorbar": {
             "outlinewidth": 0,
             "ticks": ""
            },
            "colorscale": [
             [
              0,
              "#0d0887"
             ],
             [
              0.1111111111111111,
              "#46039f"
             ],
             [
              0.2222222222222222,
              "#7201a8"
             ],
             [
              0.3333333333333333,
              "#9c179e"
             ],
             [
              0.4444444444444444,
              "#bd3786"
             ],
             [
              0.5555555555555556,
              "#d8576b"
             ],
             [
              0.6666666666666666,
              "#ed7953"
             ],
             [
              0.7777777777777778,
              "#fb9f3a"
             ],
             [
              0.8888888888888888,
              "#fdca26"
             ],
             [
              1,
              "#f0f921"
             ]
            ],
            "type": "heatmapgl"
           }
          ],
          "histogram": [
           {
            "marker": {
             "pattern": {
              "fillmode": "overlay",
              "size": 10,
              "solidity": 0.2
             }
            },
            "type": "histogram"
           }
          ],
          "histogram2d": [
           {
            "colorbar": {
             "outlinewidth": 0,
             "ticks": ""
            },
            "colorscale": [
             [
              0,
              "#0d0887"
             ],
             [
              0.1111111111111111,
              "#46039f"
             ],
             [
              0.2222222222222222,
              "#7201a8"
             ],
             [
              0.3333333333333333,
              "#9c179e"
             ],
             [
              0.4444444444444444,
              "#bd3786"
             ],
             [
              0.5555555555555556,
              "#d8576b"
             ],
             [
              0.6666666666666666,
              "#ed7953"
             ],
             [
              0.7777777777777778,
              "#fb9f3a"
             ],
             [
              0.8888888888888888,
              "#fdca26"
             ],
             [
              1,
              "#f0f921"
             ]
            ],
            "type": "histogram2d"
           }
          ],
          "histogram2dcontour": [
           {
            "colorbar": {
             "outlinewidth": 0,
             "ticks": ""
            },
            "colorscale": [
             [
              0,
              "#0d0887"
             ],
             [
              0.1111111111111111,
              "#46039f"
             ],
             [
              0.2222222222222222,
              "#7201a8"
             ],
             [
              0.3333333333333333,
              "#9c179e"
             ],
             [
              0.4444444444444444,
              "#bd3786"
             ],
             [
              0.5555555555555556,
              "#d8576b"
             ],
             [
              0.6666666666666666,
              "#ed7953"
             ],
             [
              0.7777777777777778,
              "#fb9f3a"
             ],
             [
              0.8888888888888888,
              "#fdca26"
             ],
             [
              1,
              "#f0f921"
             ]
            ],
            "type": "histogram2dcontour"
           }
          ],
          "mesh3d": [
           {
            "colorbar": {
             "outlinewidth": 0,
             "ticks": ""
            },
            "type": "mesh3d"
           }
          ],
          "parcoords": [
           {
            "line": {
             "colorbar": {
              "outlinewidth": 0,
              "ticks": ""
             }
            },
            "type": "parcoords"
           }
          ],
          "pie": [
           {
            "automargin": true,
            "type": "pie"
           }
          ],
          "scatter": [
           {
            "fillpattern": {
             "fillmode": "overlay",
             "size": 10,
             "solidity": 0.2
            },
            "type": "scatter"
           }
          ],
          "scatter3d": [
           {
            "line": {
             "colorbar": {
              "outlinewidth": 0,
              "ticks": ""
             }
            },
            "marker": {
             "colorbar": {
              "outlinewidth": 0,
              "ticks": ""
             }
            },
            "type": "scatter3d"
           }
          ],
          "scattercarpet": [
           {
            "marker": {
             "colorbar": {
              "outlinewidth": 0,
              "ticks": ""
             }
            },
            "type": "scattercarpet"
           }
          ],
          "scattergeo": [
           {
            "marker": {
             "colorbar": {
              "outlinewidth": 0,
              "ticks": ""
             }
            },
            "type": "scattergeo"
           }
          ],
          "scattergl": [
           {
            "marker": {
             "colorbar": {
              "outlinewidth": 0,
              "ticks": ""
             }
            },
            "type": "scattergl"
           }
          ],
          "scattermapbox": [
           {
            "marker": {
             "colorbar": {
              "outlinewidth": 0,
              "ticks": ""
             }
            },
            "type": "scattermapbox"
           }
          ],
          "scatterpolar": [
           {
            "marker": {
             "colorbar": {
              "outlinewidth": 0,
              "ticks": ""
             }
            },
            "type": "scatterpolar"
           }
          ],
          "scatterpolargl": [
           {
            "marker": {
             "colorbar": {
              "outlinewidth": 0,
              "ticks": ""
             }
            },
            "type": "scatterpolargl"
           }
          ],
          "scatterternary": [
           {
            "marker": {
             "colorbar": {
              "outlinewidth": 0,
              "ticks": ""
             }
            },
            "type": "scatterternary"
           }
          ],
          "surface": [
           {
            "colorbar": {
             "outlinewidth": 0,
             "ticks": ""
            },
            "colorscale": [
             [
              0,
              "#0d0887"
             ],
             [
              0.1111111111111111,
              "#46039f"
             ],
             [
              0.2222222222222222,
              "#7201a8"
             ],
             [
              0.3333333333333333,
              "#9c179e"
             ],
             [
              0.4444444444444444,
              "#bd3786"
             ],
             [
              0.5555555555555556,
              "#d8576b"
             ],
             [
              0.6666666666666666,
              "#ed7953"
             ],
             [
              0.7777777777777778,
              "#fb9f3a"
             ],
             [
              0.8888888888888888,
              "#fdca26"
             ],
             [
              1,
              "#f0f921"
             ]
            ],
            "type": "surface"
           }
          ],
          "table": [
           {
            "cells": {
             "fill": {
              "color": "#EBF0F8"
             },
             "line": {
              "color": "white"
             }
            },
            "header": {
             "fill": {
              "color": "#C8D4E3"
             },
             "line": {
              "color": "white"
             }
            },
            "type": "table"
           }
          ]
         },
         "layout": {
          "annotationdefaults": {
           "arrowcolor": "#2a3f5f",
           "arrowhead": 0,
           "arrowwidth": 1
          },
          "autotypenumbers": "strict",
          "coloraxis": {
           "colorbar": {
            "outlinewidth": 0,
            "ticks": ""
           }
          },
          "colorscale": {
           "diverging": [
            [
             0,
             "#8e0152"
            ],
            [
             0.1,
             "#c51b7d"
            ],
            [
             0.2,
             "#de77ae"
            ],
            [
             0.3,
             "#f1b6da"
            ],
            [
             0.4,
             "#fde0ef"
            ],
            [
             0.5,
             "#f7f7f7"
            ],
            [
             0.6,
             "#e6f5d0"
            ],
            [
             0.7,
             "#b8e186"
            ],
            [
             0.8,
             "#7fbc41"
            ],
            [
             0.9,
             "#4d9221"
            ],
            [
             1,
             "#276419"
            ]
           ],
           "sequential": [
            [
             0,
             "#0d0887"
            ],
            [
             0.1111111111111111,
             "#46039f"
            ],
            [
             0.2222222222222222,
             "#7201a8"
            ],
            [
             0.3333333333333333,
             "#9c179e"
            ],
            [
             0.4444444444444444,
             "#bd3786"
            ],
            [
             0.5555555555555556,
             "#d8576b"
            ],
            [
             0.6666666666666666,
             "#ed7953"
            ],
            [
             0.7777777777777778,
             "#fb9f3a"
            ],
            [
             0.8888888888888888,
             "#fdca26"
            ],
            [
             1,
             "#f0f921"
            ]
           ],
           "sequentialminus": [
            [
             0,
             "#0d0887"
            ],
            [
             0.1111111111111111,
             "#46039f"
            ],
            [
             0.2222222222222222,
             "#7201a8"
            ],
            [
             0.3333333333333333,
             "#9c179e"
            ],
            [
             0.4444444444444444,
             "#bd3786"
            ],
            [
             0.5555555555555556,
             "#d8576b"
            ],
            [
             0.6666666666666666,
             "#ed7953"
            ],
            [
             0.7777777777777778,
             "#fb9f3a"
            ],
            [
             0.8888888888888888,
             "#fdca26"
            ],
            [
             1,
             "#f0f921"
            ]
           ]
          },
          "colorway": [
           "#636efa",
           "#EF553B",
           "#00cc96",
           "#ab63fa",
           "#FFA15A",
           "#19d3f3",
           "#FF6692",
           "#B6E880",
           "#FF97FF",
           "#FECB52"
          ],
          "font": {
           "color": "#2a3f5f"
          },
          "geo": {
           "bgcolor": "white",
           "lakecolor": "white",
           "landcolor": "#E5ECF6",
           "showlakes": true,
           "showland": true,
           "subunitcolor": "white"
          },
          "hoverlabel": {
           "align": "left"
          },
          "hovermode": "closest",
          "mapbox": {
           "style": "light"
          },
          "paper_bgcolor": "white",
          "plot_bgcolor": "#E5ECF6",
          "polar": {
           "angularaxis": {
            "gridcolor": "white",
            "linecolor": "white",
            "ticks": ""
           },
           "bgcolor": "#E5ECF6",
           "radialaxis": {
            "gridcolor": "white",
            "linecolor": "white",
            "ticks": ""
           }
          },
          "scene": {
           "xaxis": {
            "backgroundcolor": "#E5ECF6",
            "gridcolor": "white",
            "gridwidth": 2,
            "linecolor": "white",
            "showbackground": true,
            "ticks": "",
            "zerolinecolor": "white"
           },
           "yaxis": {
            "backgroundcolor": "#E5ECF6",
            "gridcolor": "white",
            "gridwidth": 2,
            "linecolor": "white",
            "showbackground": true,
            "ticks": "",
            "zerolinecolor": "white"
           },
           "zaxis": {
            "backgroundcolor": "#E5ECF6",
            "gridcolor": "white",
            "gridwidth": 2,
            "linecolor": "white",
            "showbackground": true,
            "ticks": "",
            "zerolinecolor": "white"
           }
          },
          "shapedefaults": {
           "line": {
            "color": "#2a3f5f"
           }
          },
          "ternary": {
           "aaxis": {
            "gridcolor": "white",
            "linecolor": "white",
            "ticks": ""
           },
           "baxis": {
            "gridcolor": "white",
            "linecolor": "white",
            "ticks": ""
           },
           "bgcolor": "#E5ECF6",
           "caxis": {
            "gridcolor": "white",
            "linecolor": "white",
            "ticks": ""
           }
          },
          "title": {
           "x": 0.05
          },
          "xaxis": {
           "automargin": true,
           "gridcolor": "white",
           "linecolor": "white",
           "ticks": "",
           "title": {
            "standoff": 15
           },
           "zerolinecolor": "white",
           "zerolinewidth": 2
          },
          "yaxis": {
           "automargin": true,
           "gridcolor": "white",
           "linecolor": "white",
           "ticks": "",
           "title": {
            "standoff": 15
           },
           "zerolinecolor": "white",
           "zerolinewidth": 2
          }
         }
        },
        "title": {
         "font": {
          "color": "#002D72",
          "family": "Courier New, monospace",
          "size": 25
         },
         "text": "<b>International NZ Uni Rankings</b><br><sup>QS Rankings from 2018 to 2025</sup>",
         "x": 0.5,
         "xanchor": "center",
         "xref": "paper",
         "yanchor": "top"
        },
        "xaxis": {
         "anchor": "y",
         "autorange": true,
         "domain": [
          0,
          1
         ],
         "range": [
          0,
          7
         ],
         "title": {
          "text": "Metrics"
         },
         "type": "category"
        },
        "yaxis": {
         "anchor": "x",
         "autorange": true,
         "domain": [
          0,
          1
         ],
         "range": [
          509.3888888888889,
          41.611111111111114
         ],
         "title": {
          "text": "Ranking"
         },
         "type": "linear"
        }
       }
      },
      "image/png": "[encoded data removed]",
      "text/html": [
       "<div>                            <div id=\"dfbe51d6-9db2-4d8e-b862-4f7b8d707c0e\" class=\"plotly-graph-div\" style=\"height:525px; width:100%;\"></div>            <script type=\"text/javascript\">                require([\"plotly\"], function(Plotly) {                    window.PLOTLYENV=window.PLOTLYENV || {};                                    if (document.getElementById(\"dfbe51d6-9db2-4d8e-b862-4f7b8d707c0e\")) {                    Plotly.newPlot(                        \"dfbe51d6-9db2-4d8e-b862-4f7b8d707c0e\",                        [{\"hovertemplate\":\"University Name=University of Auckland\\u003cbr\\u003eYear=%{x}\\u003cbr\\u003eRanking=%{y}\\u003cextra\\u003e\\u003c\\u002fextra\\u003e\",\"legendgroup\":\"University of Auckland\",\"line\":{\"color\":\"#636efa\",\"dash\":\"solid\"},\"marker\":{\"symbol\":\"circle\"},\"mode\":\"lines\",\"name\":\"University of Auckland\",\"orientation\":\"v\",\"showlegend\":true,\"x\":[\"2018\",\"2019\",\"2020\",\"2021\",\"2022\",\"2023\",\"2024\",\"2025\"],\"xaxis\":\"x\",\"y\":[82.0,85.0,83.0,81.0,85.0,87.0,68.0,65.0],\"yaxis\":\"y\",\"type\":\"scatter\"},{\"hovertemplate\":\"University Name=University of Otago\\u003cbr\\u003eYear=%{x}\\u003cbr\\u003eRanking=%{y}\\u003cextra\\u003e\\u003c\\u002fextra\\u003e\",\"legendgroup\":\"University of Otago\",\"line\":{\"color\":\"#EF553B\",\"dash\":\"solid\"},\"marker\":{\"symbol\":\"circle\"},\"mode\":\"lines\",\"name\":\"University of Otago\",\"orientation\":\"v\",\"showlegend\":true,\"x\":[\"2018\",\"2019\",\"2020\",\"2021\",\"2022\",\"2023\",\"2024\",\"2025\"],\"xaxis\":\"x\",\"y\":[151.0,175.0,176.0,184.0,194.0,217.0,206.0,214.0],\"yaxis\":\"y\",\"type\":\"scatter\"},{\"hovertemplate\":\"University Name=Massey University\\u003cbr\\u003eYear=%{x}\\u003cbr\\u003eRanking=%{y}\\u003cextra\\u003e\\u003c\\u002fextra\\u003e\",\"legendgroup\":\"Massey University\",\"line\":{\"color\":\"#00cc96\",\"dash\":\"solid\"},\"marker\":{\"symbol\":\"circle\"},\"mode\":\"lines\",\"name\":\"Massey University\",\"orientation\":\"v\",\"showlegend\":true,\"x\":[\"2018\",\"2019\",\"2020\",\"2021\",\"2022\",\"2023\",\"2024\",\"2025\"],\"xaxis\":\"x\",\"y\":[316.0,332.0,287.0,272.0,284.0,292.0,239.0,239.0],\"yaxis\":\"y\",\"type\":\"scatter\"},{\"hovertemplate\":\"University Name=Victoria University of Wellington\\u003cbr\\u003eYear=%{x}\\u003cbr\\u003eRanking=%{y}\\u003cextra\\u003e\\u003c\\u002fextra\\u003e\",\"legendgroup\":\"Victoria University of Wellington\",\"line\":{\"color\":\"#ab63fa\",\"dash\":\"solid\"},\"marker\":{\"symbol\":\"circle\"},\"mode\":\"lines\",\"name\":\"Victoria University of Wellington\",\"orientation\":\"v\",\"showlegend\":true,\"x\":[\"2018\",\"2019\",\"2020\",\"2021\",\"2022\",\"2023\",\"2024\",\"2025\"],\"xaxis\":\"x\",\"y\":[219.0,221.0,215.0,223.0,236.0,275.0,241.0,244.0],\"yaxis\":\"y\",\"type\":\"scatter\"},{\"hovertemplate\":\"University Name=University of Waikato\\u003cbr\\u003eYear=%{x}\\u003cbr\\u003eRanking=%{y}\\u003cextra\\u003e\\u003c\\u002fextra\\u003e\",\"legendgroup\":\"University of Waikato\",\"line\":{\"color\":\"#FFA15A\",\"dash\":\"solid\"},\"marker\":{\"symbol\":\"circle\"},\"mode\":\"lines\",\"name\":\"University of Waikato\",\"orientation\":\"v\",\"showlegend\":true,\"x\":[\"2018\",\"2019\",\"2020\",\"2021\",\"2022\",\"2023\",\"2024\",\"2025\"],\"xaxis\":\"x\",\"y\":[292.0,274.0,266.0,375.0,373.0,331.0,250.0,235.0],\"yaxis\":\"y\",\"type\":\"scatter\"},{\"hovertemplate\":\"University Name=University of Canterbury\\u003cbr\\u003eYear=%{x}\\u003cbr\\u003eRanking=%{y}\\u003cextra\\u003e\\u003c\\u002fextra\\u003e\",\"legendgroup\":\"University of Canterbury\",\"line\":{\"color\":\"#19d3f3\",\"dash\":\"solid\"},\"marker\":{\"symbol\":\"circle\"},\"mode\":\"lines\",\"name\":\"University of Canterbury\",\"orientation\":\"v\",\"showlegend\":true,\"x\":[\"2018\",\"2019\",\"2020\",\"2021\",\"2022\",\"2023\",\"2024\",\"2025\"],\"xaxis\":\"x\",\"y\":[214.0,231.0,227.0,270.0,258.0,284.0,256.0,261.0],\"yaxis\":\"y\",\"type\":\"scatter\"},{\"hovertemplate\":\"University Name=Lincoln University\\u003cbr\\u003eYear=%{x}\\u003cbr\\u003eRanking=%{y}\\u003cextra\\u003e\\u003c\\u002fextra\\u003e\",\"legendgroup\":\"Lincoln University\",\"line\":{\"color\":\"#FF6692\",\"dash\":\"solid\"},\"marker\":{\"symbol\":\"circle\"},\"mode\":\"lines\",\"name\":\"Lincoln University\",\"orientation\":\"v\",\"showlegend\":true,\"x\":[\"2018\",\"2019\",\"2020\",\"2021\",\"2022\",\"2023\",\"2024\",\"2025\"],\"xaxis\":\"x\",\"y\":[319.0,317.0,356.0,387.0,372.0,368.0,362.0,371.0],\"yaxis\":\"y\",\"type\":\"scatter\"},{\"hovertemplate\":\"University Name=AUT\\u003cbr\\u003eYear=%{x}\\u003cbr\\u003eRanking=%{y}\\u003cextra\\u003e\\u003c\\u002fextra\\u003e\",\"legendgroup\":\"AUT\",\"line\":{\"color\":\"#B6E880\",\"dash\":\"solid\"},\"marker\":{\"symbol\":\"circle\"},\"mode\":\"lines\",\"name\":\"AUT\",\"orientation\":\"v\",\"showlegend\":true,\"x\":[\"2018\",\"2019\",\"2020\",\"2021\",\"2022\",\"2023\",\"2024\",\"2025\"],\"xaxis\":\"x\",\"y\":[445.5,464.0,442.0,437.0,451.0,486.0,407.0,412.0],\"yaxis\":\"y\",\"type\":\"scatter\"}],                        {\"template\":{\"data\":{\"histogram2dcontour\":[{\"type\":\"histogram2dcontour\",\"colorbar\":{\"outlinewidth\":0,\"ticks\":\"\"},\"colorscale\":[[0.0,\"#0d0887\"],[0.1111111111111111,\"#46039f\"],[0.2222222222222222,\"#7201a8\"],[0.3333333333333333,\"#9c179e\"],[0.4444444444444444,\"#bd3786\"],[0.5555555555555556,\"#d8576b\"],[0.6666666666666666,\"#ed7953\"],[0.7777777777777778,\"#fb9f3a\"],[0.8888888888888888,\"#fdca26\"],[1.0,\"#f0f921\"]]}],\"choropleth\":[{\"type\":\"choropleth\",\"colorbar\":{\"outlinewidth\":0,\"ticks\":\"\"}}],\"histogram2d\":[{\"type\":\"histogram2d\",\"colorbar\":{\"outlinewidth\":0,\"ticks\":\"\"},\"colorscale\":[[0.0,\"#0d0887\"],[0.1111111111111111,\"#46039f\"],[0.2222222222222222,\"#7201a8\"],[0.3333333333333333,\"#9c179e\"],[0.4444444444444444,\"#bd3786\"],[0.5555555555555556,\"#d8576b\"],[0.6666666666666666,\"#ed7953\"],[0.7777777777777778,\"#fb9f3a\"],[0.8888888888888888,\"#fdca26\"],[1.0,\"#f0f921\"]]}],\"heatmap\":[{\"type\":\"heatmap\",\"colorbar\":{\"outlinewidth\":0,\"ticks\":\"\"},\"colorscale\":[[0.0,\"#0d0887\"],[0.1111111111111111,\"#46039f\"],[0.2222222222222222,\"#7201a8\"],[0.3333333333333333,\"#9c179e\"],[0.4444444444444444,\"#bd3786\"],[0.5555555555555556,\"#d8576b\"],[0.6666666666666666,\"#ed7953\"],[0.7777777777777778,\"#fb9f3a\"],[0.8888888888888888,\"#fdca26\"],[1.0,\"#f0f921\"]]}],\"heatmapgl\":[{\"type\":\"heatmapgl\",\"colorbar\":{\"outlinewidth\":0,\"ticks\":\"\"},\"colorscale\":[[0.0,\"#0d0887\"],[0.1111111111111111,\"#46039f\"],[0.2222222222222222,\"#7201a8\"],[0.3333333333333333,\"#9c179e\"],[0.4444444444444444,\"#bd3786\"],[0.5555555555555556,\"#d8576b\"],[0.6666666666666666,\"#ed7953\"],[0.7777777777777778,\"#fb9f3a\"],[0.8888888888888888,\"#fdca26\"],[1.0,\"#f0f921\"]]}],\"contourcarpet\":[{\"type\":\"contourcarpet\",\"colorbar\":{\"outlinewidth\":0,\"ticks\":\"\"}}],\"contour\":[{\"type\":\"contour\",\"colorbar\":{\"outlinewidth\":0,\"ticks\":\"\"},\"colorscale\":[[0.0,\"#0d0887\"],[0.1111111111111111,\"#46039f\"],[0.2222222222222222,\"#7201a8\"],[0.3333333333333333,\"#9c179e\"],[0.4444444444444444,\"#bd3786\"],[0.5555555555555556,\"#d8576b\"],[0.6666666666666666,\"#ed7953\"],[0.7777777777777778,\"#fb9f3a\"],[0.8888888888888888,\"#fdca26\"],[1.0,\"#f0f921\"]]}],\"surface\":[{\"type\":\"surface\",\"colorbar\":{\"outlinewidth\":0,\"ticks\":\"\"},\"colorscale\":[[0.0,\"#0d0887\"],[0.1111111111111111,\"#46039f\"],[0.2222222222222222,\"#7201a8\"],[0.3333333333333333,\"#9c179e\"],[0.4444444444444444,\"#bd3786\"],[0.5555555555555556,\"#d8576b\"],[0.6666666666666666,\"#ed7953\"],[0.7777777777777778,\"#fb9f3a\"],[0.8888888888888888,\"#fdca26\"],[1.0,\"#f0f921\"]]}],\"mesh3d\":[{\"type\":\"mesh3d\",\"colorbar\":{\"outlinewidth\":0,\"ticks\":\"\"}}],\"scatter\":[{\"fillpattern\":{\"fillmode\":\"overlay\",\"size\":10,\"solidity\":0.2},\"type\":\"scatter\"}],\"parcoords\":[{\"type\":\"parcoords\",\"line\":{\"colorbar\":{\"outlinewidth\":0,\"ticks\":\"\"}}}],\"scatterpolargl\":[{\"type\":\"scatterpolargl\",\"marker\":{\"colorbar\":{\"outlinewidth\":0,\"ticks\":\"\"}}}],\"bar\":[{\"error_x\":{\"color\":\"#2a3f5f\"},\"error_y\":{\"color\":\"#2a3f5f\"},\"marker\":{\"line\":{\"color\":\"#E5ECF6\",\"width\":0.5},\"pattern\":{\"fillmode\":\"overlay\",\"size\":10,\"solidity\":0.2}},\"type\":\"bar\"}],\"scattergeo\":[{\"type\":\"scattergeo\",\"marker\":{\"colorbar\":{\"outlinewidth\":0,\"ticks\":\"\"}}}],\"scatterpolar\":[{\"type\":\"scatterpolar\",\"marker\":{\"colorbar\":{\"outlinewidth\":0,\"ticks\":\"\"}}}],\"histogram\":[{\"marker\":{\"pattern\":{\"fillmode\":\"overlay\",\"size\":10,\"solidity\":0.2}},\"type\":\"histogram\"}],\"scattergl\":[{\"type\":\"scattergl\",\"marker\":{\"colorbar\":{\"outlinewidth\":0,\"ticks\":\"\"}}}],\"scatter3d\":[{\"type\":\"scatter3d\",\"line\":{\"colorbar\":{\"outlinewidth\":0,\"ticks\":\"\"}},\"marker\":{\"colorbar\":{\"outlinewidth\":0,\"ticks\":\"\"}}}],\"scattermapbox\":[{\"type\":\"scattermapbox\",\"marker\":{\"colorbar\":{\"outlinewidth\":0,\"ticks\":\"\"}}}],\"scatterternary\":[{\"type\":\"scatterternary\",\"marker\":{\"colorbar\":{\"outlinewidth\":0,\"ticks\":\"\"}}}],\"scattercarpet\":[{\"type\":\"scattercarpet\",\"marker\":{\"colorbar\":{\"outlinewidth\":0,\"ticks\":\"\"}}}],\"carpet\":[{\"aaxis\":{\"endlinecolor\":\"#2a3f5f\",\"gridcolor\":\"white\",\"linecolor\":\"white\",\"minorgridcolor\":\"white\",\"startlinecolor\":\"#2a3f5f\"},\"baxis\":{\"endlinecolor\":\"#2a3f5f\",\"gridcolor\":\"white\",\"linecolor\":\"white\",\"minorgridcolor\":\"white\",\"startlinecolor\":\"#2a3f5f\"},\"type\":\"carpet\"}],\"table\":[{\"cells\":{\"fill\":{\"color\":\"#EBF0F8\"},\"line\":{\"color\":\"white\"}},\"header\":{\"fill\":{\"color\":\"#C8D4E3\"},\"line\":{\"color\":\"white\"}},\"type\":\"table\"}],\"barpolar\":[{\"marker\":{\"line\":{\"color\":\"#E5ECF6\",\"width\":0.5},\"pattern\":{\"fillmode\":\"overlay\",\"size\":10,\"solidity\":0.2}},\"type\":\"barpolar\"}],\"pie\":[{\"automargin\":true,\"type\":\"pie\"}]},\"layout\":{\"autotypenumbers\":\"strict\",\"colorway\":[\"#636efa\",\"#EF553B\",\"#00cc96\",\"#ab63fa\",\"#FFA15A\",\"#19d3f3\",\"#FF6692\",\"#B6E880\",\"#FF97FF\",\"#FECB52\"],\"font\":{\"color\":\"#2a3f5f\"},\"hovermode\":\"closest\",\"hoverlabel\":{\"align\":\"left\"},\"paper_bgcolor\":\"white\",\"plot_bgcolor\":\"#E5ECF6\",\"polar\":{\"bgcolor\":\"#E5ECF6\",\"angularaxis\":{\"gridcolor\":\"white\",\"linecolor\":\"white\",\"ticks\":\"\"},\"radialaxis\":{\"gridcolor\":\"white\",\"linecolor\":\"white\",\"ticks\":\"\"}},\"ternary\":{\"bgcolor\":\"#E5ECF6\",\"aaxis\":{\"gridcolor\":\"white\",\"linecolor\":\"white\",\"ticks\":\"\"},\"baxis\":{\"gridcolor\":\"white\",\"linecolor\":\"white\",\"ticks\":\"\"},\"caxis\":{\"gridcolor\":\"white\",\"linecolor\":\"white\",\"ticks\":\"\"}},\"coloraxis\":{\"colorbar\":{\"outlinewidth\":0,\"ticks\":\"\"}},\"colorscale\":{\"sequential\":[[0.0,\"#0d0887\"],[0.1111111111111111,\"#46039f\"],[0.2222222222222222,\"#7201a8\"],[0.3333333333333333,\"#9c179e\"],[0.4444444444444444,\"#bd3786\"],[0.5555555555555556,\"#d8576b\"],[0.6666666666666666,\"#ed7953\"],[0.7777777777777778,\"#fb9f3a\"],[0.8888888888888888,\"#fdca26\"],[1.0,\"#f0f921\"]],\"sequentialminus\":[[0.0,\"#0d0887\"],[0.1111111111111111,\"#46039f\"],[0.2222222222222222,\"#7201a8\"],[0.3333333333333333,\"#9c179e\"],[0.4444444444444444,\"#bd3786\"],[0.5555555555555556,\"#d8576b\"],[0.6666666666666666,\"#ed7953\"],[0.7777777777777778,\"#fb9f3a\"],[0.8888888888888888,\"#fdca26\"],[1.0,\"#f0f921\"]],\"diverging\":[[0,\"#8e0152\"],[0.1,\"#c51b7d\"],[0.2,\"#de77ae\"],[0.3,\"#f1b6da\"],[0.4,\"#fde0ef\"],[0.5,\"#f7f7f7\"],[0.6,\"#e6f5d0\"],[0.7,\"#b8e186\"],[0.8,\"#7fbc41\"],[0.9,\"#4d9221\"],[1,\"#276419\"]]},\"xaxis\":{\"gridcolor\":\"white\",\"linecolor\":\"white\",\"ticks\":\"\",\"title\":{\"standoff\":15},\"zerolinecolor\":\"white\",\"automargin\":true,\"zerolinewidth\":2},\"yaxis\":{\"gridcolor\":\"white\",\"linecolor\":\"white\",\"ticks\":\"\",\"title\":{\"standoff\":15},\"zerolinecolor\":\"white\",\"automargin\":true,\"zerolinewidth\":2},\"scene\":{\"xaxis\":{\"backgroundcolor\":\"#E5ECF6\",\"gridcolor\":\"white\",\"linecolor\":\"white\",\"showbackground\":true,\"ticks\":\"\",\"zerolinecolor\":\"white\",\"gridwidth\":2},\"yaxis\":{\"backgroundcolor\":\"#E5ECF6\",\"gridcolor\":\"white\",\"linecolor\":\"white\",\"showbackground\":true,\"ticks\":\"\",\"zerolinecolor\":\"white\",\"gridwidth\":2},\"zaxis\":{\"backgroundcolor\":\"#E5ECF6\",\"gridcolor\":\"white\",\"linecolor\":\"white\",\"showbackground\":true,\"ticks\":\"\",\"zerolinecolor\":\"white\",\"gridwidth\":2}},\"shapedefaults\":{\"line\":{\"color\":\"#2a3f5f\"}},\"annotationdefaults\":{\"arrowcolor\":\"#2a3f5f\",\"arrowhead\":0,\"arrowwidth\":1},\"geo\":{\"bgcolor\":\"white\",\"landcolor\":\"#E5ECF6\",\"subunitcolor\":\"white\",\"showland\":true,\"showlakes\":true,\"lakecolor\":\"white\"},\"title\":{\"x\":0.05},\"mapbox\":{\"style\":\"light\"}}},\"xaxis\":{\"anchor\":\"y\",\"domain\":[0.0,1.0],\"title\":{\"text\":\"Metrics\"}},\"yaxis\":{\"anchor\":\"x\",\"domain\":[0.0,1.0],\"title\":{\"text\":\"Ranking\"},\"autorange\":\"reversed\"},\"legend\":{\"title\":{\"text\":\"University\"},\"tracegroupgap\":0,\"font\":{\"family\":\"Courier New, monospace\",\"size\":12,\"color\":\"black\"}},\"margin\":{\"t\":60},\"title\":{\"font\":{\"color\":\"#002D72\",\"family\":\"Courier New, monospace\",\"size\":25},\"text\":\"\\u003cb\\u003eInternational NZ Uni Rankings\\u003c\\u002fb\\u003e\\u003cbr\\u003e\\u003csup\\u003eQS Rankings from 2018 to 2025\\u003c\\u002fsup\\u003e\",\"x\":0.5,\"xanchor\":\"center\",\"xref\":\"paper\",\"yanchor\":\"top\"},\"annotations\":[{\"font\":{\"color\":\"black\",\"family\":\"Courier New, monospace\",\"size\":12},\"showarrow\":false,\"text\":\"Source: \\u003ca href='https:\\u002f\\u002fwww.topuniversities.com\\u002funiversities\\u002funiversity-auckland'\\u003eQS Rankings\\u003c\\u002fa\\u003e\",\"x\":0,\"xref\":\"paper\",\"y\":-0.2,\"yref\":\"paper\"}]},                        {\"responsive\": true}                    ).then(function(){\n",
       "                            \n",
       "var gd = document.getElementById('dfbe51d6-9db2-4d8e-b862-4f7b8d707c0e');\n",
       "var x = new MutationObserver(function (mutations, observer) {{\n",
       "        var display = window.getComputedStyle(gd).display;\n",
       "        if (!display || display === 'none') {{\n",
       "            console.log([gd, 'removed!']);\n",
       "            Plotly.purge(gd);\n",
       "            observer.disconnect();\n",
       "        }}\n",
       "}});\n",
       "\n",
       "// Listen for the removal of the full notebook cells\n",
       "var notebookContainer = gd.closest('#notebook-container');\n",
       "if (notebookContainer) {{\n",
       "    x.observe(notebookContainer, {childList: true});\n",
       "}}\n",
       "\n",
       "// Listen for the clearing of the current output cell\n",
       "var outputEl = gd.closest('.output');\n",
       "if (outputEl) {{\n",
       "    x.observe(outputEl, {childList: true});\n",
       "}}\n",
       "\n",
       "                        })                };                });            </script>        </div>"
      ]
     },
     "metadata": {},
     "output_type": "display_data"
    }
   ],
   "source": [
    "import pandas as pd\n",
    "import plotly.graph_objects as go\n",
    "import plotly.express as px\n",
    "\n",
    "df = pd.read_csv('data.csv',\n",
    "                 header=0,\n",
    "                 usecols=[\"University Name\", \"2018\", \"2019\", \"2020\", \"2021\", \"2022\", \"2023\", \"2024\", \"2025\"])\n",
    "\n",
    "# Melt the DataFrame to convert from wide to long format\n",
    "df_long = df.melt(id_vars=['University Name'], var_name='Year', value_name='Ranking')\n",
    "\n",
    "fig_line = px.line(df_long, x=\"Year\", y=\"Ranking\", color='University Name')\n",
    "\n",
    "# Update layout for clarity\n",
    "fig_line.update_layout(\n",
    "    xaxis_title='Year',\n",
    "    yaxis_title='QS Ranking',\n",
    "    yaxis=dict(autorange='reversed'),  # Rankings: lower is better\n",
    "    legend_title='University'\n",
    ")\n",
    "\n",
    "fig_line.update_layout(\n",
    "    title=go.layout.Title(\n",
    "        text=\"<b>International NZ Uni Rankings</b><br><sup>QS Rankings from 2018 to 2025</sup>\",\n",
    "        font=dict(\n",
    "            family=\"Courier New, monospace\",\n",
    "            size=25,\n",
    "            color='#002D72'\n",
    "        ),\n",
    "        xref=\"paper\",\n",
    "        x=0.5,\n",
    "        xanchor='center',\n",
    "        yanchor='top'\n",
    "    ),\n",
    "\n",
    "    xaxis_title=\"Metrics\",\n",
    "    yaxis_title=\"Ranking\",\n",
    "    legend=dict(\n",
    "        font=dict(\n",
    "            family=\"Courier New, monospace\",\n",
    "            size=12,\n",
    "            color=\"black\"\n",
    "        )\n",
    "    ),\n",
    "  \n",
    "    annotations=[\n",
    "        dict(\n",
    "            xref='paper', \n",
    "            yref='paper',\n",
    "            x=0, \n",
    "            y=-0.2,\n",
    "            showarrow=False,\n",
    "            text=\"Source: <a href='https://www.topuniversities.com/universities/university-auckland'>QS Rankings</a>\",\n",
    "            font=dict(\n",
    "                family=\"Courier New, monospace\",\n",
    "                size=12,\n",
    "                color=\"black\"\n",
    "            )\n",
    "        )\n",
    "    ]\n",
    ")\n",
    "\n",
    "\n",
    "fig_line.show()"
   ]
  },
  {
   "cell_type": "code",
   "execution_count": 28,
   "id": "dc099e27-30c9-42f6-a266-7dafa2959c0c",
   "metadata": {},
   "outputs": [
    {
     "ename": "SyntaxError",
     "evalue": "':' expected after dictionary key (652664350.py, line 31)",
     "output_type": "error",
     "traceback": [
      "\u001b[0;36m  Cell \u001b[0;32mIn[28], line 31\u001b[0;36m\u001b[0m\n\u001b[0;31m    xref=\"paper\",\u001b[0m\n\u001b[0m       ^\u001b[0m\n\u001b[0;31mSyntaxError\u001b[0m\u001b[0;31m:\u001b[0m ':' expected after dictionary key\n"
     ]
    }
   ],
   "source": [
    "import pandas as pd\n",
    "import plotly.express as px\n",
    "\n",
    "# Read the dataset\n",
    "df = pd.read_csv('data.csv', header=0, usecols=[\"University Name\", \"2018\", \"2019\", \"2020\", \"2021\", \"2022\", \"2023\", \"2024\", \"2025\"])\n",
    "\n",
    "# Melt the DataFrame to convert from wide to long format\n",
    "df_long = df.melt(id_vars=['University Name'], var_name='Year', value_name='Ranking')\n",
    "\n",
    "# Create the area chart\n",
    "fig_area = px.area(df_long, x=\"Year\", y=\"Ranking\", color='University Name')\n",
    "\n",
    "# Update layout for clarity\n",
    "fig_area.update_layout(\n",
    "    xaxis_title='Year',\n",
    "    yaxis_title='QS Ranking',\n",
    "    yaxis=dict(autorange='reversed'),  # Rankings: lower is better\n",
    "    legend_title='University'\n",
    ")\n",
    "\n",
    "# Update layout for title and annotations\n",
    "fig_area.update_layout(\n",
    "    title={\n",
    "        'text': \"International QS rankings of New Zealand Universities\",\n",
    "        'font': {\n",
    "            'family': \"DIN Pro, Arial, sans-serif\",\n",
    "            'size': 36,\n",
    "            'color': '#002D72'\n",
    "        },\n",
    "        'x': 0.5,\n",
    "         xref=\"paper\",\n",
    "        'xanchor': 'center',\n",
    "        'yanchor': 'auto'\n",
    "    },\n",
    "    xaxis_title=\"Year\",\n",
    "    yaxis_title=\"QS Ranking\",\n",
    "    annotations=[\n",
    "        dict(\n",
    "            xref='paper', \n",
    "            yref='paper',\n",
    "            x=0, \n",
    "            y=-0.2,\n",
    "            showarrow=False,\n",
    "            text=\"Source: <a href='https://www.topuniversities.com/universities/university-auckland'>QS Rankings</a>, <a href='https://www.timeshighereducation.com/world-university-rankings/university-auckland'>THE Rankings</a>\",\n",
    "            font=dict(\n",
    "                family=\"Arial, sans-serif\",\n",
    "                size=12,\n",
    "                color=\"black\"\n",
    "            )\n",
    "        )\n",
    "    ]\n",
    ")\n",
    "\n",
    "# Show the figure\n",
    "fig_area.show()\n"
   ]
  },
  {
   "cell_type": "code",
   "execution_count": 17,
   "id": "2abea7e3-d9f1-4f44-81e7-c1f6955be6f8",
   "metadata": {},
   "outputs": [
    {
     "data": {
      "application/vnd.plotly.v1+json": {
       "config": {
        "plotlyServerURL": "https://plot.ly"
       },
       "data": [
        {
         "hovertemplate": "University Name=University of Auckland<br>Year=%{x}<br>Ranking=%{y}<extra></extra>",
         "legendgroup": "University of Auckland",
         "line": {
          "color": "#636efa",
          "dash": "solid"
         },
         "marker": {
          "symbol": "circle"
         },
         "mode": "lines",
         "name": "University of Auckland",
         "orientation": "v",
         "showlegend": true,
         "type": "scatter",
         "x": [
          "N2018",
          "N2019",
          "N2020",
          "N2021",
          "N2022",
          "N2023",
          "N2024",
          "N2025"
         ],
         "xaxis": "x",
         "y": [
          1,
          1,
          1,
          1,
          1,
          1,
          1,
          1
         ],
         "yaxis": "y"
        },
        {
         "hovertemplate": "University Name=University of Otago<br>Year=%{x}<br>Ranking=%{y}<extra></extra>",
         "legendgroup": "University of Otago",
         "line": {
          "color": "#EF553B",
          "dash": "solid"
         },
         "marker": {
          "symbol": "circle"
         },
         "mode": "lines",
         "name": "University of Otago",
         "orientation": "v",
         "showlegend": true,
         "type": "scatter",
         "x": [
          "N2018",
          "N2019",
          "N2020",
          "N2021",
          "N2022",
          "N2023",
          "N2024",
          "N2025"
         ],
         "xaxis": "x",
         "y": [
          2,
          2,
          2,
          2,
          2,
          2,
          2,
          2
         ],
         "yaxis": "y"
        },
        {
         "hovertemplate": "University Name=Massey University<br>Year=%{x}<br>Ranking=%{y}<extra></extra>",
         "legendgroup": "Massey University",
         "line": {
          "color": "#00cc96",
          "dash": "solid"
         },
         "marker": {
          "symbol": "circle"
         },
         "mode": "lines",
         "name": "Massey University",
         "orientation": "v",
         "showlegend": true,
         "type": "scatter",
         "x": [
          "N2018",
          "N2019",
          "N2020",
          "N2021",
          "N2022",
          "N2023",
          "N2024",
          "N2025"
         ],
         "xaxis": "x",
         "y": [
          6,
          7,
          6,
          5,
          5,
          5,
          3,
          4
         ],
         "yaxis": "y"
        },
        {
         "hovertemplate": "University Name=Victoria University of Wellington<br>Year=%{x}<br>Ranking=%{y}<extra></extra>",
         "legendgroup": "Victoria University of Wellington",
         "line": {
          "color": "#ab63fa",
          "dash": "solid"
         },
         "marker": {
          "symbol": "circle"
         },
         "mode": "lines",
         "name": "Victoria University of Wellington",
         "orientation": "v",
         "showlegend": true,
         "type": "scatter",
         "x": [
          "N2018",
          "N2019",
          "N2020",
          "N2021",
          "N2022",
          "N2023",
          "N2024",
          "N2025"
         ],
         "xaxis": "x",
         "y": [
          4,
          3,
          3,
          3,
          3,
          3,
          4,
          5
         ],
         "yaxis": "y"
        },
        {
         "hovertemplate": "University Name=University of Waikato<br>Year=%{x}<br>Ranking=%{y}<extra></extra>",
         "legendgroup": "University of Waikato",
         "line": {
          "color": "#FFA15A",
          "dash": "solid"
         },
         "marker": {
          "symbol": "circle"
         },
         "mode": "lines",
         "name": "University of Waikato",
         "orientation": "v",
         "showlegend": true,
         "type": "scatter",
         "x": [
          "N2018",
          "N2019",
          "N2020",
          "N2021",
          "N2022",
          "N2023",
          "N2024",
          "N2025"
         ],
         "xaxis": "x",
         "y": [
          5,
          5,
          5,
          6,
          7,
          6,
          5,
          3
         ],
         "yaxis": "y"
        },
        {
         "hovertemplate": "University Name=University of Canterbury<br>Year=%{x}<br>Ranking=%{y}<extra></extra>",
         "legendgroup": "University of Canterbury",
         "line": {
          "color": "#19d3f3",
          "dash": "solid"
         },
         "marker": {
          "symbol": "circle"
         },
         "mode": "lines",
         "name": "University of Canterbury",
         "orientation": "v",
         "showlegend": true,
         "type": "scatter",
         "x": [
          "N2018",
          "N2019",
          "N2020",
          "N2021",
          "N2022",
          "N2023",
          "N2024",
          "N2025"
         ],
         "xaxis": "x",
         "y": [
          3,
          4,
          4,
          4,
          4,
          4,
          6,
          6
         ],
         "yaxis": "y"
        },
        {
         "hovertemplate": "University Name=Lincoln University<br>Year=%{x}<br>Ranking=%{y}<extra></extra>",
         "legendgroup": "Lincoln University",
         "line": {
          "color": "#FF6692",
          "dash": "solid"
         },
         "marker": {
          "symbol": "circle"
         },
         "mode": "lines",
         "name": "Lincoln University",
         "orientation": "v",
         "showlegend": true,
         "type": "scatter",
         "x": [
          "N2018",
          "N2019",
          "N2020",
          "N2021",
          "N2022",
          "N2023",
          "N2024",
          "N2025"
         ],
         "xaxis": "x",
         "y": [
          7,
          6,
          7,
          7,
          6,
          7,
          7,
          7
         ],
         "yaxis": "y"
        },
        {
         "hovertemplate": "University Name=AUT<br>Year=%{x}<br>Ranking=%{y}<extra></extra>",
         "legendgroup": "AUT",
         "line": {
          "color": "#B6E880",
          "dash": "solid"
         },
         "marker": {
          "symbol": "circle"
         },
         "mode": "lines",
         "name": "AUT",
         "orientation": "v",
         "showlegend": true,
         "type": "scatter",
         "x": [
          "N2018",
          "N2019",
          "N2020",
          "N2021",
          "N2022",
          "N2023",
          "N2024",
          "N2025"
         ],
         "xaxis": "x",
         "y": [
          8,
          8,
          8,
          8,
          8,
          8,
          8,
          8
         ],
         "yaxis": "y"
        }
       ],
       "layout": {
        "autosize": true,
        "legend": {
         "title": {
          "text": "University"
         },
         "tracegroupgap": 0
        },
        "margin": {
         "t": 60
        },
        "template": {
         "data": {
          "bar": [
           {
            "error_x": {
             "color": "#2a3f5f"
            },
            "error_y": {
             "color": "#2a3f5f"
            },
            "marker": {
             "line": {
              "color": "#E5ECF6",
              "width": 0.5
             },
             "pattern": {
              "fillmode": "overlay",
              "size": 10,
              "solidity": 0.2
             }
            },
            "type": "bar"
           }
          ],
          "barpolar": [
           {
            "marker": {
             "line": {
              "color": "#E5ECF6",
              "width": 0.5
             },
             "pattern": {
              "fillmode": "overlay",
              "size": 10,
              "solidity": 0.2
             }
            },
            "type": "barpolar"
           }
          ],
          "carpet": [
           {
            "aaxis": {
             "endlinecolor": "#2a3f5f",
             "gridcolor": "white",
             "linecolor": "white",
             "minorgridcolor": "white",
             "startlinecolor": "#2a3f5f"
            },
            "baxis": {
             "endlinecolor": "#2a3f5f",
             "gridcolor": "white",
             "linecolor": "white",
             "minorgridcolor": "white",
             "startlinecolor": "#2a3f5f"
            },
            "type": "carpet"
           }
          ],
          "choropleth": [
           {
            "colorbar": {
             "outlinewidth": 0,
             "ticks": ""
            },
            "type": "choropleth"
           }
          ],
          "contour": [
           {
            "colorbar": {
             "outlinewidth": 0,
             "ticks": ""
            },
            "colorscale": [
             [
              0,
              "#0d0887"
             ],
             [
              0.1111111111111111,
              "#46039f"
             ],
             [
              0.2222222222222222,
              "#7201a8"
             ],
             [
              0.3333333333333333,
              "#9c179e"
             ],
             [
              0.4444444444444444,
              "#bd3786"
             ],
             [
              0.5555555555555556,
              "#d8576b"
             ],
             [
              0.6666666666666666,
              "#ed7953"
             ],
             [
              0.7777777777777778,
              "#fb9f3a"
             ],
             [
              0.8888888888888888,
              "#fdca26"
             ],
             [
              1,
              "#f0f921"
             ]
            ],
            "type": "contour"
           }
          ],
          "contourcarpet": [
           {
            "colorbar": {
             "outlinewidth": 0,
             "ticks": ""
            },
            "type": "contourcarpet"
           }
          ],
          "heatmap": [
           {
            "colorbar": {
             "outlinewidth": 0,
             "ticks": ""
            },
            "colorscale": [
             [
              0,
              "#0d0887"
             ],
             [
              0.1111111111111111,
              "#46039f"
             ],
             [
              0.2222222222222222,
              "#7201a8"
             ],
             [
              0.3333333333333333,
              "#9c179e"
             ],
             [
              0.4444444444444444,
              "#bd3786"
             ],
             [
              0.5555555555555556,
              "#d8576b"
             ],
             [
              0.6666666666666666,
              "#ed7953"
             ],
             [
              0.7777777777777778,
              "#fb9f3a"
             ],
             [
              0.8888888888888888,
              "#fdca26"
             ],
             [
              1,
              "#f0f921"
             ]
            ],
            "type": "heatmap"
           }
          ],
          "heatmapgl": [
           {
            "colorbar": {
             "outlinewidth": 0,
             "ticks": ""
            },
            "colorscale": [
             [
              0,
              "#0d0887"
             ],
             [
              0.1111111111111111,
              "#46039f"
             ],
             [
              0.2222222222222222,
              "#7201a8"
             ],
             [
              0.3333333333333333,
              "#9c179e"
             ],
             [
              0.4444444444444444,
              "#bd3786"
             ],
             [
              0.5555555555555556,
              "#d8576b"
             ],
             [
              0.6666666666666666,
              "#ed7953"
             ],
             [
              0.7777777777777778,
              "#fb9f3a"
             ],
             [
              0.8888888888888888,
              "#fdca26"
             ],
             [
              1,
              "#f0f921"
             ]
            ],
            "type": "heatmapgl"
           }
          ],
          "histogram": [
           {
            "marker": {
             "pattern": {
              "fillmode": "overlay",
              "size": 10,
              "solidity": 0.2
             }
            },
            "type": "histogram"
           }
          ],
          "histogram2d": [
           {
            "colorbar": {
             "outlinewidth": 0,
             "ticks": ""
            },
            "colorscale": [
             [
              0,
              "#0d0887"
             ],
             [
              0.1111111111111111,
              "#46039f"
             ],
             [
              0.2222222222222222,
              "#7201a8"
             ],
             [
              0.3333333333333333,
              "#9c179e"
             ],
             [
              0.4444444444444444,
              "#bd3786"
             ],
             [
              0.5555555555555556,
              "#d8576b"
             ],
             [
              0.6666666666666666,
              "#ed7953"
             ],
             [
              0.7777777777777778,
              "#fb9f3a"
             ],
             [
              0.8888888888888888,
              "#fdca26"
             ],
             [
              1,
              "#f0f921"
             ]
            ],
            "type": "histogram2d"
           }
          ],
          "histogram2dcontour": [
           {
            "colorbar": {
             "outlinewidth": 0,
             "ticks": ""
            },
            "colorscale": [
             [
              0,
              "#0d0887"
             ],
             [
              0.1111111111111111,
              "#46039f"
             ],
             [
              0.2222222222222222,
              "#7201a8"
             ],
             [
              0.3333333333333333,
              "#9c179e"
             ],
             [
              0.4444444444444444,
              "#bd3786"
             ],
             [
              0.5555555555555556,
              "#d8576b"
             ],
             [
              0.6666666666666666,
              "#ed7953"
             ],
             [
              0.7777777777777778,
              "#fb9f3a"
             ],
             [
              0.8888888888888888,
              "#fdca26"
             ],
             [
              1,
              "#f0f921"
             ]
            ],
            "type": "histogram2dcontour"
           }
          ],
          "mesh3d": [
           {
            "colorbar": {
             "outlinewidth": 0,
             "ticks": ""
            },
            "type": "mesh3d"
           }
          ],
          "parcoords": [
           {
            "line": {
             "colorbar": {
              "outlinewidth": 0,
              "ticks": ""
             }
            },
            "type": "parcoords"
           }
          ],
          "pie": [
           {
            "automargin": true,
            "type": "pie"
           }
          ],
          "scatter": [
           {
            "fillpattern": {
             "fillmode": "overlay",
             "size": 10,
             "solidity": 0.2
            },
            "type": "scatter"
           }
          ],
          "scatter3d": [
           {
            "line": {
             "colorbar": {
              "outlinewidth": 0,
              "ticks": ""
             }
            },
            "marker": {
             "colorbar": {
              "outlinewidth": 0,
              "ticks": ""
             }
            },
            "type": "scatter3d"
           }
          ],
          "scattercarpet": [
           {
            "marker": {
             "colorbar": {
              "outlinewidth": 0,
              "ticks": ""
             }
            },
            "type": "scattercarpet"
           }
          ],
          "scattergeo": [
           {
            "marker": {
             "colorbar": {
              "outlinewidth": 0,
              "ticks": ""
             }
            },
            "type": "scattergeo"
           }
          ],
          "scattergl": [
           {
            "marker": {
             "colorbar": {
              "outlinewidth": 0,
              "ticks": ""
             }
            },
            "type": "scattergl"
           }
          ],
          "scattermapbox": [
           {
            "marker": {
             "colorbar": {
              "outlinewidth": 0,
              "ticks": ""
             }
            },
            "type": "scattermapbox"
           }
          ],
          "scatterpolar": [
           {
            "marker": {
             "colorbar": {
              "outlinewidth": 0,
              "ticks": ""
             }
            },
            "type": "scatterpolar"
           }
          ],
          "scatterpolargl": [
           {
            "marker": {
             "colorbar": {
              "outlinewidth": 0,
              "ticks": ""
             }
            },
            "type": "scatterpolargl"
           }
          ],
          "scatterternary": [
           {
            "marker": {
             "colorbar": {
              "outlinewidth": 0,
              "ticks": ""
             }
            },
            "type": "scatterternary"
           }
          ],
          "surface": [
           {
            "colorbar": {
             "outlinewidth": 0,
             "ticks": ""
            },
            "colorscale": [
             [
              0,
              "#0d0887"
             ],
             [
              0.1111111111111111,
              "#46039f"
             ],
             [
              0.2222222222222222,
              "#7201a8"
             ],
             [
              0.3333333333333333,
              "#9c179e"
             ],
             [
              0.4444444444444444,
              "#bd3786"
             ],
             [
              0.5555555555555556,
              "#d8576b"
             ],
             [
              0.6666666666666666,
              "#ed7953"
             ],
             [
              0.7777777777777778,
              "#fb9f3a"
             ],
             [
              0.8888888888888888,
              "#fdca26"
             ],
             [
              1,
              "#f0f921"
             ]
            ],
            "type": "surface"
           }
          ],
          "table": [
           {
            "cells": {
             "fill": {
              "color": "#EBF0F8"
             },
             "line": {
              "color": "white"
             }
            },
            "header": {
             "fill": {
              "color": "#C8D4E3"
             },
             "line": {
              "color": "white"
             }
            },
            "type": "table"
           }
          ]
         },
         "layout": {
          "annotationdefaults": {
           "arrowcolor": "#2a3f5f",
           "arrowhead": 0,
           "arrowwidth": 1
          },
          "autotypenumbers": "strict",
          "coloraxis": {
           "colorbar": {
            "outlinewidth": 0,
            "ticks": ""
           }
          },
          "colorscale": {
           "diverging": [
            [
             0,
             "#8e0152"
            ],
            [
             0.1,
             "#c51b7d"
            ],
            [
             0.2,
             "#de77ae"
            ],
            [
             0.3,
             "#f1b6da"
            ],
            [
             0.4,
             "#fde0ef"
            ],
            [
             0.5,
             "#f7f7f7"
            ],
            [
             0.6,
             "#e6f5d0"
            ],
            [
             0.7,
             "#b8e186"
            ],
            [
             0.8,
             "#7fbc41"
            ],
            [
             0.9,
             "#4d9221"
            ],
            [
             1,
             "#276419"
            ]
           ],
           "sequential": [
            [
             0,
             "#0d0887"
            ],
            [
             0.1111111111111111,
             "#46039f"
            ],
            [
             0.2222222222222222,
             "#7201a8"
            ],
            [
             0.3333333333333333,
             "#9c179e"
            ],
            [
             0.4444444444444444,
             "#bd3786"
            ],
            [
             0.5555555555555556,
             "#d8576b"
            ],
            [
             0.6666666666666666,
             "#ed7953"
            ],
            [
             0.7777777777777778,
             "#fb9f3a"
            ],
            [
             0.8888888888888888,
             "#fdca26"
            ],
            [
             1,
             "#f0f921"
            ]
           ],
           "sequentialminus": [
            [
             0,
             "#0d0887"
            ],
            [
             0.1111111111111111,
             "#46039f"
            ],
            [
             0.2222222222222222,
             "#7201a8"
            ],
            [
             0.3333333333333333,
             "#9c179e"
            ],
            [
             0.4444444444444444,
             "#bd3786"
            ],
            [
             0.5555555555555556,
             "#d8576b"
            ],
            [
             0.6666666666666666,
             "#ed7953"
            ],
            [
             0.7777777777777778,
             "#fb9f3a"
            ],
            [
             0.8888888888888888,
             "#fdca26"
            ],
            [
             1,
             "#f0f921"
            ]
           ]
          },
          "colorway": [
           "#636efa",
           "#EF553B",
           "#00cc96",
           "#ab63fa",
           "#FFA15A",
           "#19d3f3",
           "#FF6692",
           "#B6E880",
           "#FF97FF",
           "#FECB52"
          ],
          "font": {
           "color": "#2a3f5f"
          },
          "geo": {
           "bgcolor": "white",
           "lakecolor": "white",
           "landcolor": "#E5ECF6",
           "showlakes": true,
           "showland": true,
           "subunitcolor": "white"
          },
          "hoverlabel": {
           "align": "left"
          },
          "hovermode": "closest",
          "mapbox": {
           "style": "light"
          },
          "paper_bgcolor": "white",
          "plot_bgcolor": "#E5ECF6",
          "polar": {
           "angularaxis": {
            "gridcolor": "white",
            "linecolor": "white",
            "ticks": ""
           },
           "bgcolor": "#E5ECF6",
           "radialaxis": {
            "gridcolor": "white",
            "linecolor": "white",
            "ticks": ""
           }
          },
          "scene": {
           "xaxis": {
            "backgroundcolor": "#E5ECF6",
            "gridcolor": "white",
            "gridwidth": 2,
            "linecolor": "white",
            "showbackground": true,
            "ticks": "",
            "zerolinecolor": "white"
           },
           "yaxis": {
            "backgroundcolor": "#E5ECF6",
            "gridcolor": "white",
            "gridwidth": 2,
            "linecolor": "white",
            "showbackground": true,
            "ticks": "",
            "zerolinecolor": "white"
           },
           "zaxis": {
            "backgroundcolor": "#E5ECF6",
            "gridcolor": "white",
            "gridwidth": 2,
            "linecolor": "white",
            "showbackground": true,
            "ticks": "",
            "zerolinecolor": "white"
           }
          },
          "shapedefaults": {
           "line": {
            "color": "#2a3f5f"
           }
          },
          "ternary": {
           "aaxis": {
            "gridcolor": "white",
            "linecolor": "white",
            "ticks": ""
           },
           "baxis": {
            "gridcolor": "white",
            "linecolor": "white",
            "ticks": ""
           },
           "bgcolor": "#E5ECF6",
           "caxis": {
            "gridcolor": "white",
            "linecolor": "white",
            "ticks": ""
           }
          },
          "title": {
           "x": 0.05
          },
          "xaxis": {
           "automargin": true,
           "gridcolor": "white",
           "linecolor": "white",
           "ticks": "",
           "title": {
            "standoff": 15
           },
           "zerolinecolor": "white",
           "zerolinewidth": 2
          },
          "yaxis": {
           "automargin": true,
           "gridcolor": "white",
           "linecolor": "white",
           "ticks": "",
           "title": {
            "standoff": 15
           },
           "zerolinecolor": "white",
           "zerolinewidth": 2
          }
         }
        },
        "title": {
         "text": "International QS rankings of New Zealand Universities<br><sup>Data from QS Top Universities from 2018 to 2025. (https://www.topuniversities.com)</sup>",
         "x": 0,
         "xref": "paper"
        },
        "xaxis": {
         "anchor": "y",
         "autorange": true,
         "domain": [
          0,
          1
         ],
         "range": [
          0,
          7
         ],
         "title": {
          "text": "Year"
         },
         "type": "category"
        },
        "yaxis": {
         "anchor": "x",
         "autorange": true,
         "domain": [
          0,
          1
         ],
         "range": [
          8.38888888888889,
          0.6111111111111112
         ],
         "title": {
          "text": "QS Ranking"
         },
         "type": "linear"
        }
       }
      },
      "image/png": "[encoded data removed]",
      "text/html": [
       "<div>                            <div id=\"ca1d880a-4f07-4b9e-bbe8-fccffc25ba4b\" class=\"plotly-graph-div\" style=\"height:525px; width:100%;\"></div>            <script type=\"text/javascript\">                require([\"plotly\"], function(Plotly) {                    window.PLOTLYENV=window.PLOTLYENV || {};                                    if (document.getElementById(\"ca1d880a-4f07-4b9e-bbe8-fccffc25ba4b\")) {                    Plotly.newPlot(                        \"ca1d880a-4f07-4b9e-bbe8-fccffc25ba4b\",                        [{\"hovertemplate\":\"University Name=University of Auckland\\u003cbr\\u003eYear=%{x}\\u003cbr\\u003eRanking=%{y}\\u003cextra\\u003e\\u003c\\u002fextra\\u003e\",\"legendgroup\":\"University of Auckland\",\"line\":{\"color\":\"#636efa\",\"dash\":\"solid\"},\"marker\":{\"symbol\":\"circle\"},\"mode\":\"lines\",\"name\":\"University of Auckland\",\"orientation\":\"v\",\"showlegend\":true,\"x\":[\"N2018\",\"N2019\",\"N2020\",\"N2021\",\"N2022\",\"N2023\",\"N2024\",\"N2025\"],\"xaxis\":\"x\",\"y\":[1,1,1,1,1,1,1,1],\"yaxis\":\"y\",\"type\":\"scatter\"},{\"hovertemplate\":\"University Name=University of Otago\\u003cbr\\u003eYear=%{x}\\u003cbr\\u003eRanking=%{y}\\u003cextra\\u003e\\u003c\\u002fextra\\u003e\",\"legendgroup\":\"University of Otago\",\"line\":{\"color\":\"#EF553B\",\"dash\":\"solid\"},\"marker\":{\"symbol\":\"circle\"},\"mode\":\"lines\",\"name\":\"University of Otago\",\"orientation\":\"v\",\"showlegend\":true,\"x\":[\"N2018\",\"N2019\",\"N2020\",\"N2021\",\"N2022\",\"N2023\",\"N2024\",\"N2025\"],\"xaxis\":\"x\",\"y\":[2,2,2,2,2,2,2,2],\"yaxis\":\"y\",\"type\":\"scatter\"},{\"hovertemplate\":\"University Name=Massey University\\u003cbr\\u003eYear=%{x}\\u003cbr\\u003eRanking=%{y}\\u003cextra\\u003e\\u003c\\u002fextra\\u003e\",\"legendgroup\":\"Massey University\",\"line\":{\"color\":\"#00cc96\",\"dash\":\"solid\"},\"marker\":{\"symbol\":\"circle\"},\"mode\":\"lines\",\"name\":\"Massey University\",\"orientation\":\"v\",\"showlegend\":true,\"x\":[\"N2018\",\"N2019\",\"N2020\",\"N2021\",\"N2022\",\"N2023\",\"N2024\",\"N2025\"],\"xaxis\":\"x\",\"y\":[6,7,6,5,5,5,3,4],\"yaxis\":\"y\",\"type\":\"scatter\"},{\"hovertemplate\":\"University Name=Victoria University of Wellington\\u003cbr\\u003eYear=%{x}\\u003cbr\\u003eRanking=%{y}\\u003cextra\\u003e\\u003c\\u002fextra\\u003e\",\"legendgroup\":\"Victoria University of Wellington\",\"line\":{\"color\":\"#ab63fa\",\"dash\":\"solid\"},\"marker\":{\"symbol\":\"circle\"},\"mode\":\"lines\",\"name\":\"Victoria University of Wellington\",\"orientation\":\"v\",\"showlegend\":true,\"x\":[\"N2018\",\"N2019\",\"N2020\",\"N2021\",\"N2022\",\"N2023\",\"N2024\",\"N2025\"],\"xaxis\":\"x\",\"y\":[4,3,3,3,3,3,4,5],\"yaxis\":\"y\",\"type\":\"scatter\"},{\"hovertemplate\":\"University Name=University of Waikato\\u003cbr\\u003eYear=%{x}\\u003cbr\\u003eRanking=%{y}\\u003cextra\\u003e\\u003c\\u002fextra\\u003e\",\"legendgroup\":\"University of Waikato\",\"line\":{\"color\":\"#FFA15A\",\"dash\":\"solid\"},\"marker\":{\"symbol\":\"circle\"},\"mode\":\"lines\",\"name\":\"University of Waikato\",\"orientation\":\"v\",\"showlegend\":true,\"x\":[\"N2018\",\"N2019\",\"N2020\",\"N2021\",\"N2022\",\"N2023\",\"N2024\",\"N2025\"],\"xaxis\":\"x\",\"y\":[5,5,5,6,7,6,5,3],\"yaxis\":\"y\",\"type\":\"scatter\"},{\"hovertemplate\":\"University Name=University of Canterbury\\u003cbr\\u003eYear=%{x}\\u003cbr\\u003eRanking=%{y}\\u003cextra\\u003e\\u003c\\u002fextra\\u003e\",\"legendgroup\":\"University of Canterbury\",\"line\":{\"color\":\"#19d3f3\",\"dash\":\"solid\"},\"marker\":{\"symbol\":\"circle\"},\"mode\":\"lines\",\"name\":\"University of Canterbury\",\"orientation\":\"v\",\"showlegend\":true,\"x\":[\"N2018\",\"N2019\",\"N2020\",\"N2021\",\"N2022\",\"N2023\",\"N2024\",\"N2025\"],\"xaxis\":\"x\",\"y\":[3,4,4,4,4,4,6,6],\"yaxis\":\"y\",\"type\":\"scatter\"},{\"hovertemplate\":\"University Name=Lincoln University\\u003cbr\\u003eYear=%{x}\\u003cbr\\u003eRanking=%{y}\\u003cextra\\u003e\\u003c\\u002fextra\\u003e\",\"legendgroup\":\"Lincoln University\",\"line\":{\"color\":\"#FF6692\",\"dash\":\"solid\"},\"marker\":{\"symbol\":\"circle\"},\"mode\":\"lines\",\"name\":\"Lincoln University\",\"orientation\":\"v\",\"showlegend\":true,\"x\":[\"N2018\",\"N2019\",\"N2020\",\"N2021\",\"N2022\",\"N2023\",\"N2024\",\"N2025\"],\"xaxis\":\"x\",\"y\":[7,6,7,7,6,7,7,7],\"yaxis\":\"y\",\"type\":\"scatter\"},{\"hovertemplate\":\"University Name=AUT\\u003cbr\\u003eYear=%{x}\\u003cbr\\u003eRanking=%{y}\\u003cextra\\u003e\\u003c\\u002fextra\\u003e\",\"legendgroup\":\"AUT\",\"line\":{\"color\":\"#B6E880\",\"dash\":\"solid\"},\"marker\":{\"symbol\":\"circle\"},\"mode\":\"lines\",\"name\":\"AUT\",\"orientation\":\"v\",\"showlegend\":true,\"x\":[\"N2018\",\"N2019\",\"N2020\",\"N2021\",\"N2022\",\"N2023\",\"N2024\",\"N2025\"],\"xaxis\":\"x\",\"y\":[8,8,8,8,8,8,8,8],\"yaxis\":\"y\",\"type\":\"scatter\"}],                        {\"template\":{\"data\":{\"histogram2dcontour\":[{\"type\":\"histogram2dcontour\",\"colorbar\":{\"outlinewidth\":0,\"ticks\":\"\"},\"colorscale\":[[0.0,\"#0d0887\"],[0.1111111111111111,\"#46039f\"],[0.2222222222222222,\"#7201a8\"],[0.3333333333333333,\"#9c179e\"],[0.4444444444444444,\"#bd3786\"],[0.5555555555555556,\"#d8576b\"],[0.6666666666666666,\"#ed7953\"],[0.7777777777777778,\"#fb9f3a\"],[0.8888888888888888,\"#fdca26\"],[1.0,\"#f0f921\"]]}],\"choropleth\":[{\"type\":\"choropleth\",\"colorbar\":{\"outlinewidth\":0,\"ticks\":\"\"}}],\"histogram2d\":[{\"type\":\"histogram2d\",\"colorbar\":{\"outlinewidth\":0,\"ticks\":\"\"},\"colorscale\":[[0.0,\"#0d0887\"],[0.1111111111111111,\"#46039f\"],[0.2222222222222222,\"#7201a8\"],[0.3333333333333333,\"#9c179e\"],[0.4444444444444444,\"#bd3786\"],[0.5555555555555556,\"#d8576b\"],[0.6666666666666666,\"#ed7953\"],[0.7777777777777778,\"#fb9f3a\"],[0.8888888888888888,\"#fdca26\"],[1.0,\"#f0f921\"]]}],\"heatmap\":[{\"type\":\"heatmap\",\"colorbar\":{\"outlinewidth\":0,\"ticks\":\"\"},\"colorscale\":[[0.0,\"#0d0887\"],[0.1111111111111111,\"#46039f\"],[0.2222222222222222,\"#7201a8\"],[0.3333333333333333,\"#9c179e\"],[0.4444444444444444,\"#bd3786\"],[0.5555555555555556,\"#d8576b\"],[0.6666666666666666,\"#ed7953\"],[0.7777777777777778,\"#fb9f3a\"],[0.8888888888888888,\"#fdca26\"],[1.0,\"#f0f921\"]]}],\"heatmapgl\":[{\"type\":\"heatmapgl\",\"colorbar\":{\"outlinewidth\":0,\"ticks\":\"\"},\"colorscale\":[[0.0,\"#0d0887\"],[0.1111111111111111,\"#46039f\"],[0.2222222222222222,\"#7201a8\"],[0.3333333333333333,\"#9c179e\"],[0.4444444444444444,\"#bd3786\"],[0.5555555555555556,\"#d8576b\"],[0.6666666666666666,\"#ed7953\"],[0.7777777777777778,\"#fb9f3a\"],[0.8888888888888888,\"#fdca26\"],[1.0,\"#f0f921\"]]}],\"contourcarpet\":[{\"type\":\"contourcarpet\",\"colorbar\":{\"outlinewidth\":0,\"ticks\":\"\"}}],\"contour\":[{\"type\":\"contour\",\"colorbar\":{\"outlinewidth\":0,\"ticks\":\"\"},\"colorscale\":[[0.0,\"#0d0887\"],[0.1111111111111111,\"#46039f\"],[0.2222222222222222,\"#7201a8\"],[0.3333333333333333,\"#9c179e\"],[0.4444444444444444,\"#bd3786\"],[0.5555555555555556,\"#d8576b\"],[0.6666666666666666,\"#ed7953\"],[0.7777777777777778,\"#fb9f3a\"],[0.8888888888888888,\"#fdca26\"],[1.0,\"#f0f921\"]]}],\"surface\":[{\"type\":\"surface\",\"colorbar\":{\"outlinewidth\":0,\"ticks\":\"\"},\"colorscale\":[[0.0,\"#0d0887\"],[0.1111111111111111,\"#46039f\"],[0.2222222222222222,\"#7201a8\"],[0.3333333333333333,\"#9c179e\"],[0.4444444444444444,\"#bd3786\"],[0.5555555555555556,\"#d8576b\"],[0.6666666666666666,\"#ed7953\"],[0.7777777777777778,\"#fb9f3a\"],[0.8888888888888888,\"#fdca26\"],[1.0,\"#f0f921\"]]}],\"mesh3d\":[{\"type\":\"mesh3d\",\"colorbar\":{\"outlinewidth\":0,\"ticks\":\"\"}}],\"scatter\":[{\"fillpattern\":{\"fillmode\":\"overlay\",\"size\":10,\"solidity\":0.2},\"type\":\"scatter\"}],\"parcoords\":[{\"type\":\"parcoords\",\"line\":{\"colorbar\":{\"outlinewidth\":0,\"ticks\":\"\"}}}],\"scatterpolargl\":[{\"type\":\"scatterpolargl\",\"marker\":{\"colorbar\":{\"outlinewidth\":0,\"ticks\":\"\"}}}],\"bar\":[{\"error_x\":{\"color\":\"#2a3f5f\"},\"error_y\":{\"color\":\"#2a3f5f\"},\"marker\":{\"line\":{\"color\":\"#E5ECF6\",\"width\":0.5},\"pattern\":{\"fillmode\":\"overlay\",\"size\":10,\"solidity\":0.2}},\"type\":\"bar\"}],\"scattergeo\":[{\"type\":\"scattergeo\",\"marker\":{\"colorbar\":{\"outlinewidth\":0,\"ticks\":\"\"}}}],\"scatterpolar\":[{\"type\":\"scatterpolar\",\"marker\":{\"colorbar\":{\"outlinewidth\":0,\"ticks\":\"\"}}}],\"histogram\":[{\"marker\":{\"pattern\":{\"fillmode\":\"overlay\",\"size\":10,\"solidity\":0.2}},\"type\":\"histogram\"}],\"scattergl\":[{\"type\":\"scattergl\",\"marker\":{\"colorbar\":{\"outlinewidth\":0,\"ticks\":\"\"}}}],\"scatter3d\":[{\"type\":\"scatter3d\",\"line\":{\"colorbar\":{\"outlinewidth\":0,\"ticks\":\"\"}},\"marker\":{\"colorbar\":{\"outlinewidth\":0,\"ticks\":\"\"}}}],\"scattermapbox\":[{\"type\":\"scattermapbox\",\"marker\":{\"colorbar\":{\"outlinewidth\":0,\"ticks\":\"\"}}}],\"scatterternary\":[{\"type\":\"scatterternary\",\"marker\":{\"colorbar\":{\"outlinewidth\":0,\"ticks\":\"\"}}}],\"scattercarpet\":[{\"type\":\"scattercarpet\",\"marker\":{\"colorbar\":{\"outlinewidth\":0,\"ticks\":\"\"}}}],\"carpet\":[{\"aaxis\":{\"endlinecolor\":\"#2a3f5f\",\"gridcolor\":\"white\",\"linecolor\":\"white\",\"minorgridcolor\":\"white\",\"startlinecolor\":\"#2a3f5f\"},\"baxis\":{\"endlinecolor\":\"#2a3f5f\",\"gridcolor\":\"white\",\"linecolor\":\"white\",\"minorgridcolor\":\"white\",\"startlinecolor\":\"#2a3f5f\"},\"type\":\"carpet\"}],\"table\":[{\"cells\":{\"fill\":{\"color\":\"#EBF0F8\"},\"line\":{\"color\":\"white\"}},\"header\":{\"fill\":{\"color\":\"#C8D4E3\"},\"line\":{\"color\":\"white\"}},\"type\":\"table\"}],\"barpolar\":[{\"marker\":{\"line\":{\"color\":\"#E5ECF6\",\"width\":0.5},\"pattern\":{\"fillmode\":\"overlay\",\"size\":10,\"solidity\":0.2}},\"type\":\"barpolar\"}],\"pie\":[{\"automargin\":true,\"type\":\"pie\"}]},\"layout\":{\"autotypenumbers\":\"strict\",\"colorway\":[\"#636efa\",\"#EF553B\",\"#00cc96\",\"#ab63fa\",\"#FFA15A\",\"#19d3f3\",\"#FF6692\",\"#B6E880\",\"#FF97FF\",\"#FECB52\"],\"font\":{\"color\":\"#2a3f5f\"},\"hovermode\":\"closest\",\"hoverlabel\":{\"align\":\"left\"},\"paper_bgcolor\":\"white\",\"plot_bgcolor\":\"#E5ECF6\",\"polar\":{\"bgcolor\":\"#E5ECF6\",\"angularaxis\":{\"gridcolor\":\"white\",\"linecolor\":\"white\",\"ticks\":\"\"},\"radialaxis\":{\"gridcolor\":\"white\",\"linecolor\":\"white\",\"ticks\":\"\"}},\"ternary\":{\"bgcolor\":\"#E5ECF6\",\"aaxis\":{\"gridcolor\":\"white\",\"linecolor\":\"white\",\"ticks\":\"\"},\"baxis\":{\"gridcolor\":\"white\",\"linecolor\":\"white\",\"ticks\":\"\"},\"caxis\":{\"gridcolor\":\"white\",\"linecolor\":\"white\",\"ticks\":\"\"}},\"coloraxis\":{\"colorbar\":{\"outlinewidth\":0,\"ticks\":\"\"}},\"colorscale\":{\"sequential\":[[0.0,\"#0d0887\"],[0.1111111111111111,\"#46039f\"],[0.2222222222222222,\"#7201a8\"],[0.3333333333333333,\"#9c179e\"],[0.4444444444444444,\"#bd3786\"],[0.5555555555555556,\"#d8576b\"],[0.6666666666666666,\"#ed7953\"],[0.7777777777777778,\"#fb9f3a\"],[0.8888888888888888,\"#fdca26\"],[1.0,\"#f0f921\"]],\"sequentialminus\":[[0.0,\"#0d0887\"],[0.1111111111111111,\"#46039f\"],[0.2222222222222222,\"#7201a8\"],[0.3333333333333333,\"#9c179e\"],[0.4444444444444444,\"#bd3786\"],[0.5555555555555556,\"#d8576b\"],[0.6666666666666666,\"#ed7953\"],[0.7777777777777778,\"#fb9f3a\"],[0.8888888888888888,\"#fdca26\"],[1.0,\"#f0f921\"]],\"diverging\":[[0,\"#8e0152\"],[0.1,\"#c51b7d\"],[0.2,\"#de77ae\"],[0.3,\"#f1b6da\"],[0.4,\"#fde0ef\"],[0.5,\"#f7f7f7\"],[0.6,\"#e6f5d0\"],[0.7,\"#b8e186\"],[0.8,\"#7fbc41\"],[0.9,\"#4d9221\"],[1,\"#276419\"]]},\"xaxis\":{\"gridcolor\":\"white\",\"linecolor\":\"white\",\"ticks\":\"\",\"title\":{\"standoff\":15},\"zerolinecolor\":\"white\",\"automargin\":true,\"zerolinewidth\":2},\"yaxis\":{\"gridcolor\":\"white\",\"linecolor\":\"white\",\"ticks\":\"\",\"title\":{\"standoff\":15},\"zerolinecolor\":\"white\",\"automargin\":true,\"zerolinewidth\":2},\"scene\":{\"xaxis\":{\"backgroundcolor\":\"#E5ECF6\",\"gridcolor\":\"white\",\"linecolor\":\"white\",\"showbackground\":true,\"ticks\":\"\",\"zerolinecolor\":\"white\",\"gridwidth\":2},\"yaxis\":{\"backgroundcolor\":\"#E5ECF6\",\"gridcolor\":\"white\",\"linecolor\":\"white\",\"showbackground\":true,\"ticks\":\"\",\"zerolinecolor\":\"white\",\"gridwidth\":2},\"zaxis\":{\"backgroundcolor\":\"#E5ECF6\",\"gridcolor\":\"white\",\"linecolor\":\"white\",\"showbackground\":true,\"ticks\":\"\",\"zerolinecolor\":\"white\",\"gridwidth\":2}},\"shapedefaults\":{\"line\":{\"color\":\"#2a3f5f\"}},\"annotationdefaults\":{\"arrowcolor\":\"#2a3f5f\",\"arrowhead\":0,\"arrowwidth\":1},\"geo\":{\"bgcolor\":\"white\",\"landcolor\":\"#E5ECF6\",\"subunitcolor\":\"white\",\"showland\":true,\"showlakes\":true,\"lakecolor\":\"white\"},\"title\":{\"x\":0.05},\"mapbox\":{\"style\":\"light\"}}},\"xaxis\":{\"anchor\":\"y\",\"domain\":[0.0,1.0],\"title\":{\"text\":\"Year\"}},\"yaxis\":{\"anchor\":\"x\",\"domain\":[0.0,1.0],\"title\":{\"text\":\"QS Ranking\"},\"autorange\":\"reversed\"},\"legend\":{\"title\":{\"text\":\"University\"},\"tracegroupgap\":0},\"margin\":{\"t\":60},\"title\":{\"text\":\"International QS rankings of New Zealand Universities\\u003cbr\\u003e\\u003csup\\u003eData from QS Top Universities from 2018 to 2025. (https:\\u002f\\u002fwww.topuniversities.com)\\u003c\\u002fsup\\u003e\",\"x\":0,\"xref\":\"paper\"}},                        {\"responsive\": true}                    ).then(function(){\n",
       "                            \n",
       "var gd = document.getElementById('ca1d880a-4f07-4b9e-bbe8-fccffc25ba4b');\n",
       "var x = new MutationObserver(function (mutations, observer) {{\n",
       "        var display = window.getComputedStyle(gd).display;\n",
       "        if (!display || display === 'none') {{\n",
       "            console.log([gd, 'removed!']);\n",
       "            Plotly.purge(gd);\n",
       "            observer.disconnect();\n",
       "        }}\n",
       "}});\n",
       "\n",
       "// Listen for the removal of the full notebook cells\n",
       "var notebookContainer = gd.closest('#notebook-container');\n",
       "if (notebookContainer) {{\n",
       "    x.observe(notebookContainer, {childList: true});\n",
       "}}\n",
       "\n",
       "// Listen for the clearing of the current output cell\n",
       "var outputEl = gd.closest('.output');\n",
       "if (outputEl) {{\n",
       "    x.observe(outputEl, {childList: true});\n",
       "}}\n",
       "\n",
       "                        })                };                });            </script>        </div>"
      ]
     },
     "metadata": {},
     "output_type": "display_data"
    }
   ],
   "source": [
    "import pandas as pd\n",
    "import plotly.graph_objects as go\n",
    "import plotly.express as px\n",
    "\n",
    "#creating the line chart\n",
    "df = pd.read_csv('data.csv',\n",
    "                 header=0,\n",
    "                 usecols=[\"University Name\", \"N2018\", \"N2019\", \"N2020\", \"N2021\", \"N2022\", \"N2023\", \"N2024\", \"N2025\"])\n",
    "\n",
    "# Melt the DataFrame to convert from wide to long format\n",
    "df_long = df.melt(id_vars=['University Name'], var_name='Year', value_name='Ranking')\n",
    "\n",
    "fig_line = px.line(df_long, x=\"Year\", y=\"Ranking\", color='University Name')\n",
    "\n",
    "# Update layout for clarity\n",
    "fig_line.update_layout(\n",
    "    xaxis_title='Year',\n",
    "    yaxis_title='QS Ranking',\n",
    "    yaxis=dict(autorange='reversed'),  # Rankings: lower is better\n",
    "    legend_title='University'\n",
    ")\n",
    "fig_line.update_layout(\n",
    "    title=go.layout.Title(\n",
    "        text=\"International QS rankings of New Zealand Universities<br><sup>Data from QS Top Universities from 2018 to 2025. (https://www.topuniversities.com)</sup>\",\n",
    "        xref=\"paper\",\n",
    "        x=0\n",
    "    ),)\n"
   ]
  },
  {
   "cell_type": "code",
   "execution_count": null,
   "id": "e4bceee4-7200-4f57-8b47-1f142c6f5b73",
   "metadata": {},
   "outputs": [],
   "source": [
    "import pandas as pd\n",
    "import plotly.graph_objects as go\n",
    "\n",
    "# Read the dataset\n",
    "df = pd.read_csv('data.csv', usecols=[\n",
    "    \"University Name\", \n",
    "    \"Academic reputation (QS25)\", \n",
    "    \"Teaching quality (THE24)\", \n",
    "    \"Employment Outcomes (QS25)\", \n",
    "    \"Research quality (THE24)\", \n",
    "    \"International Research Network (QS25)\", \n",
    "    \"Employer Reputation (QS25)\"\n",
    "])\n",
    "\n",
    "# Filter the DataFrame to include only the row for \"University of Auckland\"\n",
    "df_auckland = df[df['University Name'] == 'University of Auckland']\n",
    "\n",
    "# Extract the relevant data for plotting\n",
    "metrics = [\n",
    "    \"Academic reputation (QS25)\", \n",
    "    \"Teaching quality (THE24)\", \n",
    "    \"Employment Outcomes (QS25)\", \n",
    "    \"Research quality (THE24)\", \n",
    "    \"International Research Network (QS25)\", \n",
    "    \"Employer Reputation (QS25)\"\n",
    "]\n",
    "\n",
    "# Extract the values\n",
    "values = df_auckland[metrics].values.flatten().tolist()\n",
    "\n",
    "# Create the bar chart\n",
    "fig = go.Figure(go.Bar(\n",
    "    x=metrics, \n",
    "    y=values, \n",
    "    marker_color='darkslateblue',\n",
    "    text=values,  # Add text labels\n",
    "    textposition='auto'  # Automatically position text labels\n",
    "))\n",
    "\n",
    "# Update layout\n",
    "fig.update_layout(\n",
    "    title={\n",
    "        'text': \"University of Auckland Rankings\",\n",
    "        'font': {\n",
    "            'family': \"DIN Pro, Arial, sans-serif\",\n",
    "            'size': 36,\n",
    "            'color': '#002D72'\n",
    "        },\n",
    "        'x': 0.5,\n",
    "        'xanchor': 'center',\n",
    "        'yanchor': 'top'\n",
    "    },\n",
    "    xaxis_title=\"Metrics\",\n",
    "    yaxis_title=\"Ranking\",\n",
    "  \n",
    "    annotations=[\n",
    "        dict(\n",
    "            xref='paper', \n",
    "            yref='paper',\n",
    "            x=0, \n",
    "            y=-0.2,\n",
    "            showarrow=False,\n",
    "            text=\"Source: <a href='https://www.topuniversities.com/universities/university-auckland'>QS Rankings</a>, <a href='https://www.timeshighereducation.com/world-university-rankings/university-auckland'>THE Rankings</a>\",\n",
    "            font=dict(\n",
    "                family=\"Arial, sans-serif\",\n",
    "                size=12,\n",
    "                color=\"black\"\n",
    "            )\n",
    "        )\n",
    "    ]\n",
    ")\n",
    "\n",
    "# Show the figure\n",
    "fig.show()\n"
   ]
  },
  {
   "cell_type": "code",
   "execution_count": null,
   "id": "2d119a19-d329-4049-a733-92f5f66dc697",
   "metadata": {},
   "outputs": [],
   "source": [
    "import pandas as pd\n",
    "import plotly.graph_objects as go\n",
    "\n",
    "# Read the dataset\n",
    "df = pd.read_csv('data.csv', usecols=[\n",
    "    \"University Name\", \n",
    "    \"Academic reputation (QS25)\", \n",
    "    \"Teaching quality (THE24)\", \n",
    "    \"Employment Outcomes (QS25)\", \n",
    "    \"Research quality (THE24)\", \n",
    "    \"International Research Network (QS25)\", \n",
    "    \"Employer Reputation (QS25)\"\n",
    "])\n",
    "\n",
    "# Filter the DataFrame to include only the row for \"University of Auckland\"\n",
    "df_auckland = df[df['University Name'] == 'University of Auckland']\n",
    "\n",
    "# Extract the relevant data for plotting\n",
    "metrics = [\n",
    "    \"Academic reputation (QS25)\", \n",
    "    \"Teaching quality (THE24)\", \n",
    "    \"Employment Outcomes (QS25)\", \n",
    "    \"Research quality (THE24)\", \n",
    "    \"International Research Network (QS25)\", \n",
    "    \"Employer Reputation (QS25)\"\n",
    "]\n",
    "\n",
    "# Extract the values\n",
    "values = df_auckland[metrics].values.flatten().tolist()\n",
    "\n",
    "# Create the horizontal bar chart\n",
    "fig = go.Figure(go.Bar(\n",
    "    y=metrics,  # Use metrics on y-axis for horizontal bars\n",
    "    x=values,  # Use values on x-axis\n",
    "    orientation='h',  # Set the orientation to horizontal\n",
    "    marker_color='darkslateblue',\n",
    "    text=values,  # Add text labels\n",
    "    textposition='auto'  # Automatically position text labels\n",
    "))\n",
    "\n",
    "# Update layout\n",
    "fig.update_layout(\n",
    "    title={\n",
    "        'text': \"University of Auckland Rankings\",\n",
    "        'font': {\n",
    "            'family': \"DIN Pro, Arial, sans-serif\",\n",
    "            'size': 36,\n",
    "            'color': '#002D72'\n",
    "        },\n",
    "        'x': 0.5,\n",
    "        'xanchor': 'center',\n",
    "        'yanchor': 'top'\n",
    "    },\n",
    "    yaxis_title=\"Metrics\",\n",
    "    xaxis_title=\"Ranking\",\n",
    "      # Reverse the x-axis to have higher rankings at the top\n",
    "    annotations=[\n",
    "        dict(\n",
    "            xref='paper', \n",
    "            yref='paper',\n",
    "            x=0, \n",
    "            y=-0.2,\n",
    "            showarrow=False,\n",
    "            text=\"Source: <a href='https://www.topuniversities.com/universities/university-auckland'>QS Rankings</a>, <a href='https://www.timeshighereducation.com/world-university-rankings/university-auckland'>THE Rankings</a>\",\n",
    "            font=dict(\n",
    "                family=\"Arial, sans-serif\",\n",
    "                size=12,\n",
    "                color=\"black\"\n",
    "            )\n",
    "        )\n",
    "    ]\n",
    ")\n",
    "\n",
    "# Show the figure\n",
    "fig.show()\n"
   ]
  },
  {
   "cell_type": "markdown",
   "id": "29c627f0-88cd-4c62-92eb-3496c909a98b",
   "metadata": {},
   "source": [
    "# radar chart"
   ]
  },
  {
   "cell_type": "code",
   "execution_count": null,
   "id": "f385af32-382a-4d15-9a03-9279e05a55fe",
   "metadata": {},
   "outputs": [],
   "source": [
    "fig.update_traces(fill='toself')"
   ]
  },
  {
   "cell_type": "code",
   "execution_count": null,
   "id": "949ff0ac-f0c7-454a-a880-3b2118dbd2c1",
   "metadata": {},
   "outputs": [],
   "source": [
    "import pandas as pd\n",
    "import plotly.express as px\n",
    "\n",
    "# Read the dataset\n",
    "df = pd.read_csv('data.csv', header=0, usecols=[\n",
    "    \"University Name\", \n",
    "    \"Academic reputation (QS25)\", \n",
    "    \"Teaching quality (THE24)\", \n",
    "    \"Employment Outcomes (QS25)\", \n",
    "    \"Research quality (THE24)\", \n",
    "    \"International Research Network (QS25)\", \n",
    "    \"Employer Reputation (QS25)\"\n",
    "])\n",
    "\n",
    "# Filter the DataFrame to include only the row for \"University of Auckland\"\n",
    "df_auckland = df[df['University Name'] == 'University of Auckland']\n",
    "\n",
    "# Create the data for the radar chart\n",
    "df_radar = pd.DataFrame(dict(\n",
    "    r=df_auckland[[\n",
    "        \"Academic reputation (QS25)\", \n",
    "        \"Teaching quality (THE24)\", \n",
    "        \"Employment Outcomes (QS25)\", \n",
    "        \"Research quality (THE24)\", \n",
    "        \"International Research Network (QS25)\", \n",
    "        \"Employer Reputation (QS25)\"\n",
    "    ]].values.flatten().tolist(),\n",
    "    theta=[\n",
    "        'Academic reputation (QS25)', \n",
    "        'Teaching quality (THE24)', \n",
    "        'Employment Outcomes (QS25)', \n",
    "        'Research quality (THE24)', \n",
    "        'International Research Network (QS25)', \n",
    "        'Employer Reputation (QS25)'\n",
    "    ]\n",
    "))\n",
    "\n",
    "# Create the radar chart\n",
    "fig_radar = px.line_polar(df_radar, r='r', theta='theta', line_close=True)\n",
    "\n",
    "# Update the traces to fill the area and set the fill color\n",
    "fig_radar.update_traces(fill='toself', fillcolor='rgba(72, 61, 139, 0.5)', line_color='darkslateblue')\n",
    "\n",
    "# Add data labels\n",
    "fig_radar.update_traces(mode='lines+markers+text', text=df_radar['r'], textposition='top center')\n",
    "\n",
    "# Update layout with title and annotations\n",
    "fig_radar.update_layout(\n",
    "    title={\n",
    "        'text': \"University of Auckland Rankings\",\n",
    "        'font': {\n",
    "            'family': \"DIN Pro, Arial, sans-serif\",\n",
    "            'size': 36,\n",
    "            'color': '#002D72'\n",
    "        },\n",
    "        'x': 0.5,\n",
    "        'xanchor': 'center',\n",
    "        'yanchor': 'auto'\n",
    "    },\n",
    "    annotations=[\n",
    "        dict(\n",
    "            xref='paper', \n",
    "            yref='paper',\n",
    "            x=0.2, \n",
    "            y=-0.2,\n",
    "            showarrow=False,\n",
    "            text=\"Source: <a href='https://www.topuniversities.com/universities/university-auckland'>QS Rankings</a>, <a href='https://www.timeshighereducation.com/world-university-rankings/university-auckland'>THE Rankings</a>\",\n",
    "            font=dict(\n",
    "                family=\"Arial, sans-serif\",\n",
    "                size=12,\n",
    "                color=\"black\"\n",
    "            )\n",
    "        )\n",
    "    ]\n",
    ")\n",
    "\n",
    "# Show the figure\n",
    "fig_radar.show()\n"
   ]
  },
  {
   "cell_type": "markdown",
   "id": "6ee72126-a9ec-45e5-9c4d-c3544748e907",
   "metadata": {},
   "source": [
    "EXTRA(for fun)"
   ]
  },
  {
   "cell_type": "code",
   "execution_count": null,
   "id": "24092fdd-6f7f-4093-aeb3-feeda98b9777",
   "metadata": {},
   "outputs": [],
   "source": [
    "import pandas as pd\n",
    "import plotly.graph_objects as go\n",
    "import plotly.express as px\n",
    "\n",
    "fig = go.Figure(go.Scattergeo())\n",
    "fig.update_layout(height=300, margin={\"r\":0,\"t\":0,\"l\":0,\"b\":0})\n",
    "fig.show()"
   ]
  },
  {
   "cell_type": "markdown",
   "id": "4167c9f0-6638-4ffc-8ef0-322223a1b2e9",
   "metadata": {},
   "source": [
    "# LAYOUT"
   ]
  },
  {
   "cell_type": "code",
   "execution_count": null,
   "id": "8c924578-2ec5-40b2-a2aa-395faa689b62",
   "metadata": {},
   "outputs": [],
   "source": [
    "# Run this app with `python app.py` and\n",
    "# visit http://127.0.0.1:8050/ in your web browser.\n",
    "\n",
    "\n",
    "from dash import Dash, html, dcc\n",
    "import plotly.express as px\n",
    "import pandas as pd\n",
    "\n",
    "app = Dash(__name__)\n",
    "\n",
    "# assume you have a \"long-form\" data frame\n",
    "# see https://plotly.com/python/px-arguments/ for more options\n",
    "df = pd.DataFrame({\n",
    "    \"Fruit\": [\"Apples\", \"Oranges\", \"Bananas\", \"Apples\", \"Oranges\", \"Bananas\"],\n",
    "    \"Amount\": [4, 1, 2, 2, 4, 5],\n",
    "    \"City\": [\"SF\", \"SF\", \"SF\", \"Montreal\", \"Montreal\", \"Montreal\"]\n",
    "})\n",
    "\n",
    "fig = px.bar(df, x=\"Fruit\", y=\"Amount\", color=\"City\", barmode=\"group\")\n",
    "\n",
    "app.layout = html.Div(children=[\n",
    "    html.H1(children='Hello Dash'),\n",
    "\n",
    "    html.Div(children='''\n",
    "        Dash: A web application framework for your data.\n",
    "    '''),\n",
    "\n",
    "    dcc.Graph(\n",
    "        id='example-graph',\n",
    "        figure=fig\n",
    "    )\n",
    "])\n",
    "\n",
    "if __name__ == \"__main__\":\n",
    "    app.run_server(debug=True, port=8058)\n"
   ]
  },
  {
   "cell_type": "code",
   "execution_count": null,
   "id": "2f94aa8a-ce63-47ab-be61-315c3873f521",
   "metadata": {},
   "outputs": [],
   "source": [
    "import pandas as pd\n",
    "import plotly.express as px\n",
    "\n",
    "# Read the dataset\n",
    "df = pd.read_csv('data.csv', header=0, usecols=[\"University Name\", \"2018\", \"2019\", \"2020\", \"2021\", \"2022\", \"2023\", \"2024\", \"2025\"])\n",
    "\n",
    "# Melt the DataFrame to convert from wide to long format\n",
    "df_long = df.melt(id_vars=['University Name'], var_name='Year', value_name='Ranking')\n",
    "\n",
    "# Create the line chart\n",
    "fig_line = px.line(df_long, x=\"Year\", y=\"Ranking\", color='University Name')\n",
    "\n",
    "# Create the area chart\n",
    "fig_area = px.area(df_long, x=\"Year\", y=\"Ranking\", color='University Name', line_group='University Name')\n",
    "\n",
    "# Update the layout for both figures\n",
    "fig_line.update_layout(\n",
    "    xaxis_title='Year',\n",
    "    yaxis_title='QS Ranking',\n",
    "    yaxis=dict(autorange='reversed'),  # Rankings: lower is better\n",
    "    legend_title='University',\n",
    "    title={\n",
    "        'text': \"International QS rankings of New Zealand Universities\",\n",
    "        'font': {\n",
    "            'family': \"DIN Pro, Arial, sans-serif\",\n",
    "            'size': 36,\n",
    "            'color': '#002D72'\n",
    "        },\n",
    "        'x': 0.5,\n",
    "        'xanchor': 'center',\n",
    "        'yanchor': 'auto'\n",
    "    },\n",
    "    annotations=[\n",
    "        dict(\n",
    "            xref='paper', \n",
    "            yref='paper',\n",
    "            x=0, \n",
    "            y=-0.2,\n",
    "            showarrow=False,\n",
    "            text=\"Source: <a href='https://www.topuniversities.com/universities/university-auckland'>QS Rankings</a>, <a href='https://www.timeshighereducation.com/world-university-rankings/university-auckland'>THE Rankings</a>\",\n",
    "            font=dict(\n",
    "                family=\"Arial, sans-serif\",\n",
    "                size=12,\n",
    "                color=\"black\"\n",
    "            )\n",
    "        )\n",
    "    ]\n",
    ")\n",
    "\n",
    "# Update the area chart layout to match the line chart\n",
    "\n",
    "\n",
    "# Combine the line and area charts\n",
    "fig_combined = go.Figure(data=fig_area.data + fig_line.data)\n",
    "\n",
    "fig_combined.update_layout(\n",
    "    xaxis_title='Year',\n",
    "    yaxis_title='QS Ranking',\n",
    "    yaxis=dict(autorange='reversed'),  # Rankings: lower is better\n",
    "    legend_title='University',\n",
    "    title={\n",
    "        'text': \"International QS rankings of New Zealand Universities\",\n",
    "        'font': {\n",
    "            'family': \"DIN Pro, Arial, sans-serif\",\n",
    "            'size': 36,\n",
    "            'color': '#002D72'\n",
    "        },\n",
    "        'x': 0.5,\n",
    "        'xanchor': 'center',\n",
    "        'yanchor': 'auto'\n",
    "    },\n",
    "    annotations=[\n",
    "        dict(\n",
    "            xref='paper', \n",
    "            yref='paper',\n",
    "            x=0, \n",
    "            y=-0.2,\n",
    "            showarrow=False,\n",
    "            text=\"Source: <a href='https://www.topuniversities.com/universities/university-auckland'>QS Rankings</a>, <a href='https://www.timeshighereducation.com/world-university-rankings/university-auckland'>THE Rankings</a>\",\n",
    "            font=dict(\n",
    "                family=\"Arial, sans-serif\",\n",
    "                size=12,\n",
    "                color=\"black\"\n",
    "            )\n",
    "        )\n",
    "    ]\n",
    ")\n",
    "\n",
    "\n",
    "# Show the combined figure\n",
    "fig_combined.show()\n"
   ]
  },
  {
   "cell_type": "markdown",
   "id": "c77dbefa-974c-4fc2-83fc-baeb2d989264",
   "metadata": {},
   "source": [
    "Maps"
   ]
  },
  {
   "cell_type": "code",
   "execution_count": null,
   "id": "7ca5a4aa-cdd9-4ed4-87b5-2440c3f03a7e",
   "metadata": {},
   "outputs": [],
   "source": [
    "import plotly.graph_objects as go\n",
    "\n",
    "mapbox_access_token = open(\".mapbox_token\").read()\n",
    "\n",
    "fig = go.Figure(go.Scattermapbox(\n",
    "        lat=['45.5017'],\n",
    "        lon=['-73.5673'],\n",
    "        mode='markers',\n",
    "        marker=go.scattermapbox.Marker(\n",
    "            size=14\n",
    "        ),\n",
    "        text=['Montreal'],\n",
    "    ))\n",
    "\n",
    "fig.update_layout(\n",
    "    hovermode='closest',\n",
    "    mapbox=dict(\n",
    "        accesstoken=mapbox_access_token,\n",
    "        bearing=0,\n",
    "        center=go.layout.mapbox.Center(\n",
    "            lat=45,\n",
    "            lon=-73\n",
    "        ),\n",
    "        pitch=0,\n",
    "        zoom=5\n",
    "    )\n",
    ")\n",
    "\n",
    "fig.show()"
   ]
  },
  {
   "cell_type": "code",
   "execution_count": null,
   "id": "b3c76663-a834-46a1-af0f-676a7add5602",
   "metadata": {},
   "outputs": [],
   "source": []
  }
 ],
 "metadata": {
  "kernelspec": {
   "display_name": "Python 3 (ipykernel)",
   "language": "python",
   "name": "python3"
  },
  "language_info": {
   "codemirror_mode": {
    "name": "ipython",
    "version": 3
   },
   "file_extension": ".py",
   "mimetype": "text/x-python",
   "name": "python",
   "nbconvert_exporter": "python",
   "pygments_lexer": "ipython3",
   "version": "3.11.8"
  }
 },
 "nbformat": 4,
 "nbformat_minor": 5
}
