{
 "cells": [
  {
   "cell_type": "code",
   "execution_count": 16,
   "id": "a17ba9d7-2437-468f-994f-656d62f43f83",
   "metadata": {},
   "outputs": [],
   "source": [
    "# !pip install dash dash-bootstrap-components numpy"
   ]
  },
  {
   "cell_type": "code",
   "execution_count": 17,
   "id": "c77143af-5d57-4b46-9fd4-56e41d91269c",
   "metadata": {},
   "outputs": [],
   "source": [
    "from dash import Dash\n",
    "\n",
    "app = Dash(__name__)\n"
   ]
  },
  {
   "cell_type": "code",
   "execution_count": 18,
   "id": "e94a4e5f-03a2-455b-9d7c-a8c60fbf5062",
   "metadata": {},
   "outputs": [],
   "source": [
    "from dash import Dash, html\n",
    "\n",
    "app = Dash(__name__)\n",
    "\n",
    "# Now you can use html module to create a div container\n",
    "app.layout = html.Div()\n"
   ]
  },
  {
   "cell_type": "code",
   "execution_count": 19,
   "id": "08c2c7c1-5373-49b1-850a-7194134d6534",
   "metadata": {},
   "outputs": [
    {
     "data": {
      "text/html": [
       "\n",
       "        <iframe\n",
       "            width=\"100%\"\n",
       "            height=\"650\"\n",
       "            src=\"http://127.0.0.1:8050/\"\n",
       "            frameborder=\"0\"\n",
       "            allowfullscreen\n",
       "            \n",
       "        ></iframe>\n",
       "        "
      ],
      "text/plain": [
       "<IPython.lib.display.IFrame at 0x107eddf90>"
      ]
     },
     "metadata": {},
     "output_type": "display_data"
    }
   ],
   "source": [
    "if __name__ == \"__main__\":\n",
    "    app.run_server(debug=True, port=8050)"
   ]
  },
  {
   "cell_type": "code",
   "execution_count": 28,
   "id": "0bfb3c48-dbab-48da-95b2-b0756deedd63",
   "metadata": {},
   "outputs": [
    {
     "data": {
      "text/html": [
       "\n",
       "        <iframe\n",
       "            width=\"100%\"\n",
       "            height=\"650\"\n",
       "            src=\"http://127.0.0.1:8050/\"\n",
       "            frameborder=\"0\"\n",
       "            allowfullscreen\n",
       "            \n",
       "        ></iframe>\n",
       "        "
      ],
      "text/plain": [
       "<IPython.lib.display.IFrame at 0x106dc51d0>"
      ]
     },
     "metadata": {},
     "output_type": "display_data"
    }
   ],
   "source": [
    "from dash import Dash\n",
    "import dash_bootstrap_components as dbc\n",
    "\n",
    "app = Dash(__name__)\n",
    "\n",
    "# Now you can use dbc.Container to create a div container\n",
    "app.layout = dbc.Container(fluid=True)\n",
    "app.layout = dbc.Container(html.P(\"My awesome dashboard will be here.\"),\n",
    "                           fluid=True,\n",
    "                           className='dashboard-container')\n",
    "app.run_server(debug=True, port=8050)"
   ]
  },
  {
   "cell_type": "code",
   "execution_count": 29,
   "id": "5e68913f-22f4-4fe6-9849-9d38798d13a0",
   "metadata": {},
   "outputs": [],
   "source": [
    "app.layout = dbc.Container(html.P(\"My awesome dashboard will be here.\"),\n",
    "                           fluid=True,\n",
    "                           className='dashboard-container')"
   ]
  },
  {
   "cell_type": "markdown",
   "id": "4a5c274a-9f3e-4219-83b3-76cec888fd4d",
   "metadata": {},
   "source": [
    "##app.layout = dbc.Container(html.P(\"My awesome dashboard will be here.\"),\n",
    "                           fluid=True)"
   ]
  },
  {
   "cell_type": "markdown",
   "id": "672d0252-4317-431b-86a2-df96b140405c",
   "metadata": {},
   "source": [
    "#from dash import Dash, html\n",
    "import dash_bootstrap_components as dbc\n",
    "\n",
    "app = Dash(__name__, external_stylesheets=[dbc.themes.BOOTSTRAP])\n",
    "\n",
    "# Define the layout\n",
    "app.layout = dbc.Container(html.P(\"My awesome dashboard will be here.\"), fluid=True)\n",
    "\n",
    "# Run the app\n",
    "app.run_server(debug=True, port=8050)  # Change the port number if needed"
   ]
  },
  {
   "cell_type": "code",
   "execution_count": null,
   "id": "dde7b070-a842-4966-954e-3b792145c667",
   "metadata": {},
   "outputs": [],
   "source": []
  }
 ],
 "metadata": {
  "kernelspec": {
   "display_name": "Python 3 (ipykernel)",
   "language": "python",
   "name": "python3"
  },
  "language_info": {
   "codemirror_mode": {
    "name": "ipython",
    "version": 3
   },
   "file_extension": ".py",
   "mimetype": "text/x-python",
   "name": "python",
   "nbconvert_exporter": "python",
   "pygments_lexer": "ipython3",
   "version": "3.11.8"
  }
 },
 "nbformat": 4,
 "nbformat_minor": 5
}
