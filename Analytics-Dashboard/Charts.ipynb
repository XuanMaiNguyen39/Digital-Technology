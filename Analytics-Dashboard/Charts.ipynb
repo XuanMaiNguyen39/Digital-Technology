{
 "cells": [
  {
   "cell_type": "markdown",
   "id": "fe750a67-2927-4f7f-ba26-8834258b79d2",
   "metadata": {},
   "source": [
    "# Line chart (benchmark analysis)"
   ]
  },
  {
   "cell_type": "code",
   "execution_count": 6,
   "id": "6766300d-e546-44c4-9ca5-2272a7282824",
   "metadata": {},
   "outputs": [
    {
     "name": "stdout",
     "output_type": "stream",
     "text": [
      "                      University Name  Year  International Rankings  \\\n",
      "0              University of Auckland  2018                    82.0   \n",
      "1                 University of Otago  2018                   151.0   \n",
      "2                   Massey University  2018                   316.0   \n",
      "3   Victoria University of Wellington  2018                   219.0   \n",
      "4               University of Waikato  2018                   292.0   \n",
      "..                                ...   ...                     ...   \n",
      "59  Victoria University of Wellington  2025                   244.0   \n",
      "60              University of Waikato  2025                   235.0   \n",
      "61           University of Canterbury  2025                   261.0   \n",
      "62                 Lincoln University  2025                   371.0   \n",
      "63                                AUT  2025                   412.0   \n",
      "\n",
      "    National Rankings  \n",
      "0                   1  \n",
      "1                   2  \n",
      "2                   6  \n",
      "3                   4  \n",
      "4                   5  \n",
      "..                ...  \n",
      "59                  5  \n",
      "60                  3  \n",
      "61                  6  \n",
      "62                  7  \n",
      "63                  8  \n",
      "\n",
      "[64 rows x 4 columns]\n"
     ]
    }
   ],
   "source": [
    "\n",
    "import pandas as pd\n",
    "\n",
    "gapminder = pd.read_csv('uni.csv')\n",
    "# Select only the specified columns\n",
    "columns_to_keep = [\"University Name\", \"2018\", \"2019\", \"2020\", \"2021\", \"2022\", \"2023\", \"2024\", \"2025\"]\n",
    "gapminder = gapminder[columns_to_keep]\n",
    "# Melt the year columns into a single column\n",
    "gapminder_line = gapminder.melt(id_vars=[\"University Name\"], \n",
    "                    var_name=\"Year\", \n",
    "                    value_name=\"International Rankings\")\n",
    "\n",
    "# Calculate the national rankings for each year\n",
    "gapminder_line[\"National Rankings\"] = gapminder_melted.groupby(\"Year\")[\"International Rankings\"].rank(ascending=True).astype(int)\n",
    "print (gapminder_line)\n",
    "\n",
    "\n",
    "  columnDefs = [\n",
    "    {\"field\": \"Year\"},\n",
    "    {\"field\": \"University Name\"},\n",
    "    {\"field\": \"International Rankings\"},\n",
    "    {\"field\": \"National Rankings\"},\n",
    "]\n",
    "\n",
    "vm.AgGrid(\n",
    "                title=\"Click on a cell in country column:\",\n",
    "                figure=dash_ag_grid(data_frame=gapminder_line, columnDefs=columnsDefs, dashGridOptions={\"pagination\": True}),\n",
    "                actions=[vm.Action(function=filter_interaction(targets=[\"line_country\"]))],\n",
    "            ),\n",
    "\n",
    "vm.Graph(\n",
    "                id=\"line_country\",\n",
    "                figure=px.line(\n",
    "                    gapminder_line,\n",
    "                    title=\"Country vs. Continent\",\n",
    "                    x=\"year\",\n",
    "                    y=\"gdpPercap\",\n",
    "                    color=\"color\",\n",
    "                    labels={\"University Name\": \"University\", \"Year\": \"Year\", \"International Rankings\": \"International Ranking\", \"National Rankings\": \"National Ranking\"},\n",
    "                    markers=True,\n",
    "                    hover_name=\"University Name\",\n",
    "                ),\n",
    "            ),"
   ]
  },
  {
   "cell_type": "code",
   "execution_count": null,
   "id": "0719647c-e3a5-4a5f-944e-a4ccef01dd90",
   "metadata": {},
   "outputs": [],
   "source": []
  }
 ],
 "metadata": {
  "kernelspec": {
   "display_name": "Python 3 (ipykernel)",
   "language": "python",
   "name": "python3"
  },
  "language_info": {
   "codemirror_mode": {
    "name": "ipython",
    "version": 3
   },
   "file_extension": ".py",
   "mimetype": "text/x-python",
   "name": "python",
   "nbconvert_exporter": "python",
   "pygments_lexer": "ipython3",
   "version": "3.11.8"
  }
 },
 "nbformat": 4,
 "nbformat_minor": 5
}
