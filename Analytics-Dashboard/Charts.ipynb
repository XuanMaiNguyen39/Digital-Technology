{
 "cells": [
  {
   "cell_type": "markdown",
   "id": "fe750a67-2927-4f7f-ba26-8834258b79d2",
   "metadata": {},
   "source": [
    "# Line chart (benchmark analysis)"
   ]
  },
  {
   "cell_type": "code",
   "execution_count": 18,
   "id": "ebed3f67-c8a2-45f9-b137-609ed5351e5d",
   "metadata": {},
   "outputs": [
    {
     "data": {
      "text/html": [
       "\n",
       "        <iframe\n",
       "            width=\"100%\"\n",
       "            height=\"650\"\n",
       "            src=\"http://127.0.0.1:8083/\"\n",
       "            frameborder=\"0\"\n",
       "            allowfullscreen\n",
       "            \n",
       "        ></iframe>\n",
       "        "
      ],
      "text/plain": [
       "<IPython.lib.display.IFrame at 0x11d527750>"
      ]
     },
     "metadata": {},
     "output_type": "display_data"
    }
   ],
   "source": [
    "\n",
    "\n",
    "gapminder = pd.read_csv('uni.csv',\n",
    "                        header=0,\n",
    "                        usecols=[\"University Name\", \"Arts and humanities ranking THE2024\", \"Engineering & Technology ranking THE24\", \"Natural science rankings QS24\", \"Life science/ medical rankings QS24\", \"Economics & Business Rankings THE24\"])\n",
    "\n",
    "@capture(\"graph\")\n",
    "def barchart(data_frame, x, y, title=None):\n",
    "    fig_bar = px.bar(data_frame=data_frame, x=x, y=y, title=title)\n",
    "\n",
    "    fig_bar.update_traces(hovertext=hovertext, textposition='auto')\n",
    "\n",
    "    return fig_bar\n",
    "\n",
    "\n",
    "def create_subject():\n",
    "    \"\"\"Function returns a page to perform analysis on university level.\"\"\"\n",
    "\n",
    "    page_subject = vm.Page(\n",
    "        title=\"Uni rankings by subject\",\n",
    "        description=\"Discovering how different NZ universities are ranked through the years\",\n",
    "        layout=vm.Layout(grid=[[0]]),\n",
    "        components=[\n",
    "            vm.Graph(\n",
    "                id=\"barchart\",\n",
    "                figure=barchart(\n",
    "                    gapminder,\n",
    "                    x=\"University Name\",\n",
    "                    y=\"Arts and humanities ranking THE2024\",\n",
    "                ),\n",
    "            ),\n",
    "        ],\n",
    "        controls=[\n",
    "            vm.Parameter(\n",
    "                targets=[\"barchart.y\"],\n",
    "                selector=vm.Dropdown(\n",
    "                    options=[\"Arts and humanities ranking THE2024\", \"Engineering & Technology ranking THE24\", \"Natural science rankings QS24\", \"Life science/ medical rankings QS24\", \"Economics & Business Rankings THE24\"], multi=False, value=\"Arts and humanities ranking THE2024\", title=\"Choose subject field\"\n",
    "                ),\n",
    "            ),\n",
    "        ],\n",
    "    )\n",
    "\n",
    "    return page_subject\n",
    "\n",
    "\n",
    "\n"
   ]
  },
  {
   "cell_type": "code",
   "execution_count": null,
   "id": "a2e3e346-a805-4a97-bc96-765ca31f4ce1",
   "metadata": {},
   "outputs": [],
   "source": [
    "import sqlite3 \n",
    "\n",
    "print ('getting data..')\n",
    "filename = r''C:"
   ]
  }
 ],
 "metadata": {
  "kernelspec": {
   "display_name": "Python 3 (ipykernel)",
   "language": "python",
   "name": "python3"
  },
  "language_info": {
   "codemirror_mode": {
    "name": "ipython",
    "version": 3
   },
   "file_extension": ".py",
   "mimetype": "text/x-python",
   "name": "python",
   "nbconvert_exporter": "python",
   "pygments_lexer": "ipython3",
   "version": "3.11.8"
  }
 },
 "nbformat": 4,
 "nbformat_minor": 5
}
