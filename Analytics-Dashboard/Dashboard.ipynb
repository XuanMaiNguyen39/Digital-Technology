{
 "cells": [
  {
   "cell_type": "markdown",
   "id": "31bab46a-0321-4602-9413-6ca1d3f4951a",
   "metadata": {},
   "source": [
    "<header style=\"padding:3px;border-top:3px solid #E37C4D\">\n",
    "\n",
    "## 📊 🚀 Advanced Analytics Dashboard 🌟"
   ]
  },
  {
   "cell_type": "code",
   "execution_count": null,
   "id": "4783ebec-47db-4a30-8716-8d58b9c0dd74",
   "metadata": {},
   "outputs": [],
   "source": [
    "import vizro.models as vm\n",
    "from vizro import Vizro"
   ]
  },
  {
   "cell_type": "markdown",
   "id": "6c0f067b-41ac-49c3-926c-0c4d44d87c17",
   "metadata": {},
   "source": [
    "<header style=\"padding:3px;border-top:3px solid #E37C4D\">\n",
    "\n",
    "## 📊 1. Home Page"
   ]
  },
  {
   "cell_type": "code",
   "execution_count": 29,
   "id": "3bee8bd2-7b52-4ccb-9380-9e400dd6df26",
   "metadata": {},
   "outputs": [],
   "source": [
    "def create_home_page():\n",
    "    \"\"\"Function returns the Home page.\"\"\"\n",
    "\n",
    "    tab_1 = vm.Container(\n",
    "        title=\"💹 Visual Analytics\",\n",
    "        layout=vm.Layout(grid=[[0, 1], [2, 3]], row_gap=\"18px\", col_gap=\"18px\"),\n",
    "        components=[\n",
    "            \n",
    "            vm.Card(\n",
    "                text=\"\"\"\n",
    "                    ### 📈 University's metrics\n",
    "\n",
    "                \"\"\",\n",
    "                href=\"/pm25-variable-analysis-for-penrose\",\n",
    "            ),\n",
    "            vm.Card(\n",
    "                text=\"\"\"\n",
    "                        ### 📊 Rankings through the years\n",
    "                    \"\"\",\n",
    "                href=\"/feature-correlation-visualization\",\n",
    "            ),\n",
    "            vm.Card(\n",
    "                text=\"\"\"\n",
    "                    ### 💹 **RQ3.** 333\n",
    "                \"\"\",\n",
    "                href=\"/executive-summary\",\n",
    "            ),\n",
    "            vm.Card(\n",
    "                text=\"\"\"\n",
    "                    ### 🧠 **RQ2.** Rankings by subject field\n",
    "                \"\"\",\n",
    "                href=\"/predictive-analytics-models-and-algorithms\",\n",
    "            ),\n",
    "        ],\n",
    "    )\n",
    "\n",
    "\n",
    "    page_home = vm.Page(\n",
    "        title=\"Home\",\n",
    "        # description=\"Intelligence Dashboard for Analytics-Experience project.\",\n",
    "        description=\"[Research Project] Predicting Air Particulate Matter at Scale.\",\n",
    "        # components=[vm.Tabs(tabs=[tab_1, tab_2, tab_3, tab_4, tab_5])], \n",
    "        components=[vm.Tabs(tabs=[tab_1])], \n",
    "                   # controls=[\n",
    "                   #     # vm.Filter(column='Site', selector=vm.Dropdown(value=['ALL'])),\n",
    "                   #     vm.Filter(column='Site', selector=vm.Dropdown(value=\"Penrose\", multi=False, title=\"Select Location\")),\n",
    "                   # ],\n",
    "        )\n",
    "\n",
    "    return page_home"
   ]
  },
  {
   "cell_type": "markdown",
   "id": "5142e303-1a63-4c3a-984d-9b56dae76db1",
   "metadata": {},
   "source": [
    "<header style=\"padding:3px;border-top:3px solid #E37C4D\">\n",
    "\n",
    "## 📊 2. Page 2"
   ]
  },
  {
   "cell_type": "markdown",
   "id": "823edc28-170e-40f8-9ba6-174bec1ed740",
   "metadata": {},
   "source": [
    "<header style=\"padding:3px;border-top:3px solid #E37C4D\">\n",
    "\n",
    "## 📊 Dashboard"
   ]
  },
  {
   "cell_type": "code",
   "execution_count": 30,
   "id": "42ec5a65-ba7f-4099-9408-51bf8fce2813",
   "metadata": {},
   "outputs": [
    {
     "data": {
      "text/html": [
       "\n",
       "        <iframe\n",
       "            width=\"100%\"\n",
       "            height=\"650\"\n",
       "            src=\"http://127.0.0.1:8088/\"\n",
       "            frameborder=\"0\"\n",
       "            allowfullscreen\n",
       "            \n",
       "        ></iframe>\n",
       "        "
      ],
      "text/plain": [
       "<IPython.lib.display.IFrame at 0x11a174690>"
      ]
     },
     "metadata": {},
     "output_type": "display_data"
    }
   ],
   "source": [
    "IS_JUPYTERLAB = 'true'\n",
    "Vizro._reset()\n",
    "\n",
    "dashboard = vm.Dashboard(\n",
    "    title=\"New Zealand University Dashboard\",\n",
    "    pages=[\n",
    "        create_home_page(),\n",
    "    ],\n",
    "    navigation=vm.Navigation(\n",
    "        nav_selector=vm.NavBar(\n",
    "            items=[\n",
    "                vm.NavLink(label=\"Home\", pages=[\"Home\"], icon=\"Home\")\n",
    "            ]\n",
    "        ),\n",
    "    ),\n",
    ")\n",
    "\n",
    "if not IS_JUPYTERLAB:\n",
    "    app = Vizro().build(dashboard)\n",
    "    server = app.dash.server\n",
    "    \n",
    "    if __name__ == \"__main__\":  \n",
    "        app.run()\n",
    "else:\n",
    "    Vizro(assets_folder=\"assets\").build(dashboard).run(port=8088)"
   ]
  },
  {
   "cell_type": "code",
   "execution_count": null,
   "id": "32f0177f-e997-40a0-990e-869e966768c7",
   "metadata": {},
   "outputs": [],
   "source": []
  }
 ],
 "metadata": {
  "kernelspec": {
   "display_name": "Python 3 (ipykernel)",
   "language": "python",
   "name": "python3"
  },
  "language_info": {
   "codemirror_mode": {
    "name": "ipython",
    "version": 3
   },
   "file_extension": ".py",
   "mimetype": "text/x-python",
   "name": "python",
   "nbconvert_exporter": "python",
   "pygments_lexer": "ipython3",
   "version": "3.11.8"
  }
 },
 "nbformat": 4,
 "nbformat_minor": 5
}
