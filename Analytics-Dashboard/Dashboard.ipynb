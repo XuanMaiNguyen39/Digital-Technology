{
 "cells": [
  {
   "cell_type": "markdown",
   "id": "31bab46a-0321-4602-9413-6ca1d3f4951a",
   "metadata": {},
   "source": [
    "<header style=\"padding:3px;border-top:3px solid #E37C4D\">\n",
    "\n",
    "## 📊 🚀 Advanced Analytics Dashboard 🌟"
   ]
  },
  {
   "cell_type": "code",
   "execution_count": 1,
   "id": "4783ebec-47db-4a30-8716-8d58b9c0dd74",
   "metadata": {},
   "outputs": [],
   "source": [
    "import vizro.models as vm\n",
    "import vizro.plotly.express as px\n",
    "from vizro import Vizro\n"
   ]
  },
  {
   "cell_type": "markdown",
   "id": "5142e303-1a63-4c3a-984d-9b56dae76db1",
   "metadata": {},
   "source": [
    "<header style=\"padding:3px;border-top:3px solid #E37C4D\">\n",
    "\n",
    "## 📊 2. Page 2"
   ]
  },
  {
   "cell_type": "code",
   "execution_count": 2,
   "id": "9e231dce-31aa-4fbf-b123-32a7855afae0",
   "metadata": {},
   "outputs": [],
   "source": [
    "import pandas as pd\n",
    "from typing import Optional\n",
    "import vizro.plotly.express as px\n",
    "from vizro.actions import export_data, filter_interaction\n",
    "from vizro.models.types import capture\n",
    "from vizro.tables import dash_data_table\n",
    "import vizro as vm  # Ensure to import the main vizro module\n",
    "\n",
    "Vizro._reset()\n",
    "\n",
    "@capture \n",
    "def create_plot(df_long):\n",
    "    return px.line(\n",
    "        df_long,\n",
    "        title=\"University Name vs. Year\",\n",
    "        x=\"Year\",\n",
    "        y=\"Ranking\",\n",
    "        color='University Name',\n",
    "        markers=True,\n",
    "    )\n",
    "\n",
    "def create_benchmark_analysis():\n",
    "    \"\"\"Function returns a page to perform analysis on country level.\"\"\"\n",
    "    \n",
    "    # Load the dataset\n",
    "    df = pd.read_csv('uni.csv', header=0, usecols=[\"University Name\", \"2018\", \"2019\", \"2020\", \"2021\", \"2022\", \"2023\", \"2024\", \"2025\"])\n",
    "    \n",
    "    # Transform the dataframe from wide to long format\n",
    "    df_long = df.melt(id_vars=['University Name'], var_name='Year', value_name='Ranking')\n",
    "    \n",
    "    # Define the components\n",
    "    components = [\n",
    "        vm.AgGrid(\n",
    "            title=\"Click on a cell in country column:\",\n",
    "            figure=dash_data_table(data_frame=df, dashGridOptions={\"pagination\": True}),\n",
    "            actions=[vm.Action(function=filter_interaction(targets=[\"line_year\"]))],\n",
    "        ),\n",
    "        vm.Graph(\n",
    "            id=\"line_year\",\n",
    "            figure=create_plot(df_long),  # Use the captured plot function here\n",
    "        )\n",
    "    ]\n",
    "    \n",
    "    # Define the layout\n",
    "    layout = vm.Layout(grid=[[0], [1]])\n",
    "    \n",
    "    # Create the page\n",
    "    page_country = vm.Page(\n",
    "        title=\"Benchmark Analysis\",\n",
    "        description=\"Discovering how the metrics differ for each country and export data for further investigation\",\n",
    "        layout=layout,\n",
    "        components=components,\n",
    "        controls=[\n",
    "            vm.Filter(column=\"University Name\", selector=vm.Dropdown(title=\"Select school\")),\n",
    "        ],\n",
    "    )\n",
    "    return page_country\n"
   ]
  },
  {
   "cell_type": "markdown",
   "id": "6c0f067b-41ac-49c3-926c-0c4d44d87c17",
   "metadata": {},
   "source": [
    "<header style=\"padding:3px;border-top:3px solid #E37C4D\">\n",
    "\n",
    "## 📊 1. Home Page"
   ]
  },
  {
   "cell_type": "code",
   "execution_count": 3,
   "id": "3bee8bd2-7b52-4ccb-9380-9e400dd6df26",
   "metadata": {},
   "outputs": [],
   "source": [
    "def create_home_page():\n",
    "    \"\"\"Function returns the Home page.\"\"\"\n",
    "\n",
    "    tab_1 = vm.Container(\n",
    "        title=\"💹 Visual Analytics\",\n",
    "        layout=vm.Layout(grid=[[0, 1], [2, 3]], row_gap=\"18px\", col_gap=\"18px\"),\n",
    "        components=[\n",
    "            \n",
    "            vm.Card(\n",
    "                text=\"\"\"\n",
    "                    ### 📈 Introduction & Guide \n",
    "\n",
    "                \"\"\",\n",
    "                href=\"/pm25-variable-analysis-for-penrose\",\n",
    "            ),\n",
    "            vm.Card(\n",
    "                text=\"\"\"\n",
    "                        ### 📈 University's metrics \n",
    "                    \"\"\",\n",
    "                href=\"/variable-analysis\",\n",
    "            ),\n",
    "            vm.Card(\n",
    "                text=\"\"\"\n",
    "                    ### 📊 Rankings through the years\n",
    "                \"\"\",\n",
    "                href=\"/benchmark-analysis\",\n",
    "            ),\n",
    "            vm.Card(\n",
    "                text=\"\"\"\n",
    "                    ### 🧠 Rankings by subject field\n",
    "                \"\"\",\n",
    "                href=\"/predictive-analytics-models-and-algorithms\",\n",
    "            ),\n",
    "        ],\n",
    "    )\n",
    "\n",
    "\n",
    "    page_home = vm.Page(\n",
    "        title=\"Home\",\n",
    "        # description=\"Intelligence Dashboard for Analytics-Experience project.\",\n",
    "        description=\"[Research Project] Predicting Air Particulate Matter at Scale.\",\n",
    "        # components=[vm.Tabs(tabs=[tab_1, tab_2, tab_3, tab_4, tab_5])], \n",
    "        components=[vm.Tabs(tabs=[tab_1])], \n",
    "                   # controls=[\n",
    "                   #     # vm.Filter(column='Site', selector=vm.Dropdown(value=['ALL'])),\n",
    "                   #     vm.Filter(column='Site', selector=vm.Dropdown(value=\"Penrose\", multi=False, title=\"Select Location\")),\n",
    "                   # ],\n",
    "        )\n",
    "\n",
    "    return page_home"
   ]
  },
  {
   "cell_type": "markdown",
   "id": "823edc28-170e-40f8-9ba6-174bec1ed740",
   "metadata": {},
   "source": [
    "<header style=\"padding:3px;border-top:3px solid #E37C4D\">\n",
    "\n",
    "## 📊 Dashboard"
   ]
  },
  {
   "cell_type": "code",
   "execution_count": 7,
   "id": "42ec5a65-ba7f-4099-9408-51bf8fce2813",
   "metadata": {},
   "outputs": [
    {
     "ename": "AttributeError",
     "evalue": "module 'vizro' has no attribute 'Dashboard'",
     "output_type": "error",
     "traceback": [
      "\u001b[0;31m---------------------------------------------------------------------------\u001b[0m",
      "\u001b[0;31mAttributeError\u001b[0m                            Traceback (most recent call last)",
      "Cell \u001b[0;32mIn[7], line 3\u001b[0m\n\u001b[1;32m      1\u001b[0m IS_JUPYTERLAB \u001b[38;5;241m=\u001b[39m \u001b[38;5;124m'\u001b[39m\u001b[38;5;124mtrue\u001b[39m\u001b[38;5;124m'\u001b[39m\n\u001b[0;32m----> 3\u001b[0m dashboard \u001b[38;5;241m=\u001b[39m \u001b[43mvm\u001b[49m\u001b[38;5;241;43m.\u001b[39;49m\u001b[43mDashboard\u001b[49m(\n\u001b[1;32m      4\u001b[0m     pages\u001b[38;5;241m=\u001b[39m[\n\u001b[1;32m      5\u001b[0m         create_home_page(),\n\u001b[1;32m      6\u001b[0m         \u001b[38;5;66;03m# create_benchmark_analysis(),\u001b[39;00m\n\u001b[1;32m      7\u001b[0m     ],\n\u001b[1;32m      8\u001b[0m     navigation\u001b[38;5;241m=\u001b[39mvm\u001b[38;5;241m.\u001b[39mNavigation(\n\u001b[1;32m      9\u001b[0m         nav_selector\u001b[38;5;241m=\u001b[39mvm\u001b[38;5;241m.\u001b[39mNavBar(\n\u001b[1;32m     10\u001b[0m             items\u001b[38;5;241m=\u001b[39m[\n\u001b[1;32m     11\u001b[0m                 vm\u001b[38;5;241m.\u001b[39mNavLink(label\u001b[38;5;241m=\u001b[39m\u001b[38;5;124m\"\u001b[39m\u001b[38;5;124mHome\u001b[39m\u001b[38;5;124m\"\u001b[39m, pages\u001b[38;5;241m=\u001b[39m[\u001b[38;5;124m\"\u001b[39m\u001b[38;5;124mHome\u001b[39m\u001b[38;5;124m\"\u001b[39m], icon\u001b[38;5;241m=\u001b[39m\u001b[38;5;124m\"\u001b[39m\u001b[38;5;124mHome\u001b[39m\u001b[38;5;124m\"\u001b[39m)\n\u001b[1;32m     12\u001b[0m             ]\n\u001b[1;32m     13\u001b[0m         ),\n\u001b[1;32m     14\u001b[0m     ),\n\u001b[1;32m     15\u001b[0m )\n\u001b[1;32m     17\u001b[0m \u001b[38;5;28;01mif\u001b[39;00m \u001b[38;5;129;01mnot\u001b[39;00m IS_JUPYTERLAB:\n\u001b[1;32m     18\u001b[0m     app \u001b[38;5;241m=\u001b[39m Vizro()\u001b[38;5;241m.\u001b[39mbuild(dashboard)\n",
      "\u001b[0;31mAttributeError\u001b[0m: module 'vizro' has no attribute 'Dashboard'"
     ]
    }
   ],
   "source": [
    "IS_JUPYTERLAB = 'true'\n",
    "\n",
    "dashboard = vm.Dashboard(\n",
    "    pages=[\n",
    "        create_home_page(),\n",
    "        # create_benchmark_analysis(),\n",
    "    ],\n",
    "    navigation=vm.Navigation(\n",
    "        nav_selector=vm.NavBar(\n",
    "            items=[\n",
    "                vm.NavLink(label=\"Home\", pages=[\"Home\"], icon=\"Home\")\n",
    "            ]\n",
    "        ),\n",
    "    ),\n",
    ")\n",
    "\n",
    "if not IS_JUPYTERLAB:\n",
    "    app = Vizro().build(dashboard)\n",
    "    server = app.dash.server\n",
    "    \n",
    "    if __name__ == \"__main__\":  \n",
    "        app.run(port=8080)\n",
    "else:\n",
    "    Vizro(assets_folder=\"assets\").build(dashboard).run(port=8081)"
   ]
  },
  {
   "cell_type": "code",
   "execution_count": null,
   "id": "32f0177f-e997-40a0-990e-869e966768c7",
   "metadata": {},
   "outputs": [],
   "source": []
  }
 ],
 "metadata": {
  "kernelspec": {
   "display_name": "Python 3 (ipykernel)",
   "language": "python",
   "name": "python3"
  },
  "language_info": {
   "codemirror_mode": {
    "name": "ipython",
    "version": 3
   },
   "file_extension": ".py",
   "mimetype": "text/x-python",
   "name": "python",
   "nbconvert_exporter": "python",
   "pygments_lexer": "ipython3",
   "version": "3.11.8"
  }
 },
 "nbformat": 4,
 "nbformat_minor": 5
}
